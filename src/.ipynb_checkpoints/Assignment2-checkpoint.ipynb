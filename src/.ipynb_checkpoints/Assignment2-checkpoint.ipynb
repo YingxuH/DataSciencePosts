{
 "cells": [
  {
   "cell_type": "code",
   "execution_count": 0,
   "metadata": {
    "colab": {},
    "colab_type": "code",
    "id": "elF81jLPOnpJ"
   },
   "outputs": [],
   "source": [
    "from __future__ import division\n",
    "import pandas as pd\n",
    "import numpy as np\n",
    "import matplotlib.pyplot as plt\n",
    "from math import sqrt, log\n",
    "from scipy import mean\n",
    "import time\n",
    "import random\n",
    "\n",
    "%matplotlib inline"
   ]
  },
  {
   "cell_type": "code",
   "execution_count": 0,
   "metadata": {
    "colab": {},
    "colab_type": "code",
    "id": "g5NVvAqclmHO"
   },
   "outputs": [],
   "source": [
    "import xgboost as xgb\n",
    "\n",
    "from sklearn.model_selection import train_test_split, cross_val_score, cross_validate, validation_curve\n",
    "from sklearn.metrics import accuracy_score, f1_score, precision_score, recall_score, classification_report, confusion_matrix,matthews_corrcoef\n",
    "from sklearn.metrics import roc_curve, auc, matthews_corrcoef\n",
    "from sklearn.metrics import make_scorer"
   ]
  },
  {
   "cell_type": "code",
   "execution_count": 0,
   "metadata": {
    "colab": {},
    "colab_type": "code",
    "id": "td2DFTEuRfuZ"
   },
   "outputs": [],
   "source": [
    "from hyperopt import fmin, tpe, hp, STATUS_OK, Trials\n",
    "import time\n",
    "from hyperopt.pyll import scope"
   ]
  },
  {
   "cell_type": "code",
   "execution_count": 0,
   "metadata": {
    "colab": {
     "base_uri": "https://localhost:8080/",
     "height": 74,
     "resources": {
      "http://localhost:8080/nbextensions/google.colab/files.js": {
       "data": "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",
       "headers": [
        [
         "content-type",
         "application/javascript"
        ]
       ],
       "ok": true,
       "status": 200,
       "status_text": ""
      }
     }
    },
    "colab_type": "code",
    "id": "i24EojWUmUhF",
    "outputId": "888cefd1-01d7-4062-c0ed-ec8768b70034"
   },
   "outputs": [
    {
     "data": {
      "text/html": [
       "\n",
       "     <input type=\"file\" id=\"files-7d394b48-5803-4ff6-b57b-68c31fea69d5\" name=\"files[]\" multiple disabled />\n",
       "     <output id=\"result-7d394b48-5803-4ff6-b57b-68c31fea69d5\">\n",
       "      Upload widget is only available when the cell has been executed in the\n",
       "      current browser session. Please rerun this cell to enable.\n",
       "      </output>\n",
       "      <script src=\"/nbextensions/google.colab/files.js\"></script> "
      ],
      "text/plain": [
       "<IPython.core.display.HTML object>"
      ]
     },
     "metadata": {
      "tags": []
     },
     "output_type": "display_data"
    },
    {
     "name": "stdout",
     "output_type": "stream",
     "text": [
      "Saving Assignment2Data.csv to Assignment2Data.csv\n"
     ]
    }
   ],
   "source": [
    "from google.colab import files\n",
    "import io\n",
    "\n",
    "uploaded = files.upload()\n",
    "data = pd.read_csv(io.BytesIO(uploaded['Assignment2Data.csv']))"
   ]
  },
  {
   "cell_type": "code",
   "execution_count": 0,
   "metadata": {
    "colab": {},
    "colab_type": "code",
    "id": "0q4DMYVHl8Bh"
   },
   "outputs": [],
   "source": [
    "from warnings import simplefilter\n",
    "# ignore all future warnings\n",
    "simplefilter(action='ignore', category=FutureWarning)"
   ]
  },
  {
   "cell_type": "markdown",
   "metadata": {
    "colab_type": "text",
    "id": "-BP2MLlqkUMR"
   },
   "source": [
    "# 0. Global Static Variables"
   ]
  },
  {
   "cell_type": "code",
   "execution_count": 0,
   "metadata": {
    "colab": {},
    "colab_type": "code",
    "id": "-wFqpu6wkb7M"
   },
   "outputs": [],
   "source": [
    "static_random_state = 1234\n",
    "\n",
    "feature_list = list(data.columns[:-1])\n",
    "y_column = 'bad_loans'\n",
    "static_test_size = 0.2"
   ]
  },
  {
   "cell_type": "markdown",
   "metadata": {
    "colab_type": "text",
    "id": "inQlH963hQ-H"
   },
   "source": [
    "# 1. Data Exploration and Preparation"
   ]
  },
  {
   "cell_type": "code",
   "execution_count": 0,
   "metadata": {
    "colab": {
     "base_uri": "https://localhost:8080/",
     "height": 215
    },
    "colab_type": "code",
    "id": "t-bQDe9hhFjh",
    "outputId": "4ec46c90-1b8d-4dae-b919-6fe7be38f1ea"
   },
   "outputs": [
    {
     "data": {
      "text/html": [
       "<div>\n",
       "<style scoped>\n",
       "    .dataframe tbody tr th:only-of-type {\n",
       "        vertical-align: middle;\n",
       "    }\n",
       "\n",
       "    .dataframe tbody tr th {\n",
       "        vertical-align: top;\n",
       "    }\n",
       "\n",
       "    .dataframe thead th {\n",
       "        text-align: right;\n",
       "    }\n",
       "</style>\n",
       "<table border=\"1\" class=\"dataframe\">\n",
       "  <thead>\n",
       "    <tr style=\"text-align: right;\">\n",
       "      <th></th>\n",
       "      <th>acc_now_delinq</th>\n",
       "      <th>acc_open_past_24mths</th>\n",
       "      <th>all_util</th>\n",
       "      <th>annual_inc</th>\n",
       "      <th>avg_cur_bal</th>\n",
       "      <th>bc_open_to_buy</th>\n",
       "      <th>bc_util</th>\n",
       "      <th>chargeoff_within_12_mths</th>\n",
       "      <th>collections_12_mths_ex_med</th>\n",
       "      <th>delinq_amnt</th>\n",
       "      <th>dti</th>\n",
       "      <th>inq_fi</th>\n",
       "      <th>inq_last_12m</th>\n",
       "      <th>inq_last_6mths</th>\n",
       "      <th>installment</th>\n",
       "      <th>int_rate</th>\n",
       "      <th>last_pymnt_amnt</th>\n",
       "      <th>loan_amnt</th>\n",
       "      <th>max_bal_bc</th>\n",
       "      <th>mo_sin_old_il_acct</th>\n",
       "      <th>mo_sin_old_rev_tl_op</th>\n",
       "      <th>mo_sin_rcnt_rev_tl_op</th>\n",
       "      <th>mo_sin_rcnt_tl</th>\n",
       "      <th>mort_acc</th>\n",
       "      <th>mths_since_last_delinq</th>\n",
       "      <th>mths_since_rcnt_il</th>\n",
       "      <th>num_accts_ever_120_pd</th>\n",
       "      <th>num_actv_bc_tl</th>\n",
       "      <th>num_actv_rev_tl</th>\n",
       "      <th>num_bc_sats</th>\n",
       "      <th>num_bc_tl</th>\n",
       "      <th>num_il_tl</th>\n",
       "      <th>num_op_rev_tl</th>\n",
       "      <th>num_rev_accts</th>\n",
       "      <th>num_rev_tl_bal_gt_0</th>\n",
       "      <th>num_sats</th>\n",
       "      <th>num_tl_30dpd</th>\n",
       "      <th>num_tl_90g_dpd_24m</th>\n",
       "      <th>num_tl_op_past_12m</th>\n",
       "      <th>open_acc</th>\n",
       "      <th>open_acc_6m</th>\n",
       "      <th>open_act_il</th>\n",
       "      <th>open_il_12m</th>\n",
       "      <th>open_il_24m</th>\n",
       "      <th>open_rv_12m</th>\n",
       "      <th>open_rv_24m</th>\n",
       "      <th>out_prncp</th>\n",
       "      <th>out_prncp_inv</th>\n",
       "      <th>pct_tl_nvr_dlq</th>\n",
       "      <th>percent_bc_gt_75</th>\n",
       "      <th>pub_rec_bankruptcies</th>\n",
       "      <th>revol_bal</th>\n",
       "      <th>revol_util</th>\n",
       "      <th>tax_liens</th>\n",
       "      <th>tot_coll_amt</th>\n",
       "      <th>tot_cur_bal</th>\n",
       "      <th>tot_hi_cred_lim</th>\n",
       "      <th>total_acc</th>\n",
       "      <th>total_bal_ex_mort</th>\n",
       "      <th>total_bal_il</th>\n",
       "      <th>total_bc_limit</th>\n",
       "      <th>total_cu_tl</th>\n",
       "      <th>total_il_high_credit_limit</th>\n",
       "      <th>total_pymnt</th>\n",
       "      <th>total_pymnt_inv</th>\n",
       "      <th>total_rec_int</th>\n",
       "      <th>total_rec_late_fee</th>\n",
       "      <th>total_rec_prncp</th>\n",
       "      <th>total_rev_hi_lim</th>\n",
       "      <th>delinq_2yrs</th>\n",
       "      <th>bad_loans</th>\n",
       "    </tr>\n",
       "  </thead>\n",
       "  <tbody>\n",
       "    <tr>\n",
       "      <th>0</th>\n",
       "      <td>0.0</td>\n",
       "      <td>3.0</td>\n",
       "      <td>1.0</td>\n",
       "      <td>52000.0</td>\n",
       "      <td>25099.0</td>\n",
       "      <td>30359.0</td>\n",
       "      <td>0.5</td>\n",
       "      <td>0.0</td>\n",
       "      <td>0.0</td>\n",
       "      <td>0.0</td>\n",
       "      <td>0.58</td>\n",
       "      <td>1.0</td>\n",
       "      <td>2.0</td>\n",
       "      <td>0.0</td>\n",
       "      <td>93.10</td>\n",
       "      <td>7.34</td>\n",
       "      <td>614.03</td>\n",
       "      <td>3000.0</td>\n",
       "      <td>141.0</td>\n",
       "      <td>132.0</td>\n",
       "      <td>242.0</td>\n",
       "      <td>18.0</td>\n",
       "      <td>7.0</td>\n",
       "      <td>4.0</td>\n",
       "      <td>26.0</td>\n",
       "      <td>7.0</td>\n",
       "      <td>0.0</td>\n",
       "      <td>1.0</td>\n",
       "      <td>1.0</td>\n",
       "      <td>4.0</td>\n",
       "      <td>15.0</td>\n",
       "      <td>7.0</td>\n",
       "      <td>6.0</td>\n",
       "      <td>19.0</td>\n",
       "      <td>1.0</td>\n",
       "      <td>7.0</td>\n",
       "      <td>0.0</td>\n",
       "      <td>0.0</td>\n",
       "      <td>1.0</td>\n",
       "      <td>7.0</td>\n",
       "      <td>0.0</td>\n",
       "      <td>0.0</td>\n",
       "      <td>1.0</td>\n",
       "      <td>2.0</td>\n",
       "      <td>0.0</td>\n",
       "      <td>1.0</td>\n",
       "      <td>0.0</td>\n",
       "      <td>0.0</td>\n",
       "      <td>96.7</td>\n",
       "      <td>0.0</td>\n",
       "      <td>0.0</td>\n",
       "      <td>141.0</td>\n",
       "      <td>0.5</td>\n",
       "      <td>0.0</td>\n",
       "      <td>0.0</td>\n",
       "      <td>150592.0</td>\n",
       "      <td>191216.0</td>\n",
       "      <td>30.0</td>\n",
       "      <td>141.0</td>\n",
       "      <td>0.0</td>\n",
       "      <td>30500.0</td>\n",
       "      <td>2.0</td>\n",
       "      <td>0.0</td>\n",
       "      <td>3011.577285</td>\n",
       "      <td>3011.58</td>\n",
       "      <td>11.58</td>\n",
       "      <td>0.0</td>\n",
       "      <td>3000.0</td>\n",
       "      <td>31000.0</td>\n",
       "      <td>0.0</td>\n",
       "      <td>0</td>\n",
       "    </tr>\n",
       "    <tr>\n",
       "      <th>1</th>\n",
       "      <td>0.0</td>\n",
       "      <td>2.0</td>\n",
       "      <td>47.0</td>\n",
       "      <td>55000.0</td>\n",
       "      <td>2222.0</td>\n",
       "      <td>10551.0</td>\n",
       "      <td>52.0</td>\n",
       "      <td>0.0</td>\n",
       "      <td>0.0</td>\n",
       "      <td>0.0</td>\n",
       "      <td>14.18</td>\n",
       "      <td>0.0</td>\n",
       "      <td>1.0</td>\n",
       "      <td>0.0</td>\n",
       "      <td>166.03</td>\n",
       "      <td>11.98</td>\n",
       "      <td>5019.97</td>\n",
       "      <td>5000.0</td>\n",
       "      <td>4829.0</td>\n",
       "      <td>77.0</td>\n",
       "      <td>199.0</td>\n",
       "      <td>3.0</td>\n",
       "      <td>3.0</td>\n",
       "      <td>0.0</td>\n",
       "      <td>74.0</td>\n",
       "      <td>33.0</td>\n",
       "      <td>1.0</td>\n",
       "      <td>3.0</td>\n",
       "      <td>3.0</td>\n",
       "      <td>4.0</td>\n",
       "      <td>7.0</td>\n",
       "      <td>6.0</td>\n",
       "      <td>13.0</td>\n",
       "      <td>18.0</td>\n",
       "      <td>3.0</td>\n",
       "      <td>14.0</td>\n",
       "      <td>0.0</td>\n",
       "      <td>0.0</td>\n",
       "      <td>2.0</td>\n",
       "      <td>14.0</td>\n",
       "      <td>1.0</td>\n",
       "      <td>1.0</td>\n",
       "      <td>0.0</td>\n",
       "      <td>0.0</td>\n",
       "      <td>2.0</td>\n",
       "      <td>2.0</td>\n",
       "      <td>0.0</td>\n",
       "      <td>0.0</td>\n",
       "      <td>95.7</td>\n",
       "      <td>33.3</td>\n",
       "      <td>1.0</td>\n",
       "      <td>11449.0</td>\n",
       "      <td>33.9</td>\n",
       "      <td>0.0</td>\n",
       "      <td>0.0</td>\n",
       "      <td>28880.0</td>\n",
       "      <td>61551.0</td>\n",
       "      <td>24.0</td>\n",
       "      <td>28880.0</td>\n",
       "      <td>17431.0</td>\n",
       "      <td>22000.0</td>\n",
       "      <td>1.0</td>\n",
       "      <td>27751.0</td>\n",
       "      <td>5013.306667</td>\n",
       "      <td>5013.31</td>\n",
       "      <td>13.31</td>\n",
       "      <td>0.0</td>\n",
       "      <td>5000.0</td>\n",
       "      <td>33800.0</td>\n",
       "      <td>0.0</td>\n",
       "      <td>0</td>\n",
       "    </tr>\n",
       "    <tr>\n",
       "      <th>2</th>\n",
       "      <td>0.0</td>\n",
       "      <td>3.0</td>\n",
       "      <td>86.0</td>\n",
       "      <td>51000.0</td>\n",
       "      <td>4541.0</td>\n",
       "      <td>2498.0</td>\n",
       "      <td>0.1</td>\n",
       "      <td>0.0</td>\n",
       "      <td>0.0</td>\n",
       "      <td>0.0</td>\n",
       "      <td>10.56</td>\n",
       "      <td>4.0</td>\n",
       "      <td>2.0</td>\n",
       "      <td>1.0</td>\n",
       "      <td>35.89</td>\n",
       "      <td>17.47</td>\n",
       "      <td>998.95</td>\n",
       "      <td>1000.0</td>\n",
       "      <td>2.0</td>\n",
       "      <td>120.0</td>\n",
       "      <td>9.0</td>\n",
       "      <td>1.0</td>\n",
       "      <td>1.0</td>\n",
       "      <td>0.0</td>\n",
       "      <td>61.0</td>\n",
       "      <td>17.0</td>\n",
       "      <td>1.0</td>\n",
       "      <td>1.0</td>\n",
       "      <td>1.0</td>\n",
       "      <td>2.0</td>\n",
       "      <td>2.0</td>\n",
       "      <td>7.0</td>\n",
       "      <td>2.0</td>\n",
       "      <td>2.0</td>\n",
       "      <td>1.0</td>\n",
       "      <td>5.0</td>\n",
       "      <td>0.0</td>\n",
       "      <td>0.0</td>\n",
       "      <td>2.0</td>\n",
       "      <td>5.0</td>\n",
       "      <td>1.0</td>\n",
       "      <td>3.0</td>\n",
       "      <td>0.0</td>\n",
       "      <td>1.0</td>\n",
       "      <td>2.0</td>\n",
       "      <td>2.0</td>\n",
       "      <td>0.0</td>\n",
       "      <td>0.0</td>\n",
       "      <td>88.9</td>\n",
       "      <td>0.0</td>\n",
       "      <td>0.0</td>\n",
       "      <td>2.0</td>\n",
       "      <td>0.1</td>\n",
       "      <td>1.0</td>\n",
       "      <td>0.0</td>\n",
       "      <td>22707.0</td>\n",
       "      <td>26501.0</td>\n",
       "      <td>9.0</td>\n",
       "      <td>22707.0</td>\n",
       "      <td>22705.0</td>\n",
       "      <td>2500.0</td>\n",
       "      <td>0.0</td>\n",
       "      <td>24001.0</td>\n",
       "      <td>1032.903619</td>\n",
       "      <td>1032.90</td>\n",
       "      <td>32.90</td>\n",
       "      <td>0.0</td>\n",
       "      <td>1000.0</td>\n",
       "      <td>2500.0</td>\n",
       "      <td>0.0</td>\n",
       "      <td>0</td>\n",
       "    </tr>\n",
       "    <tr>\n",
       "      <th>3</th>\n",
       "      <td>0.0</td>\n",
       "      <td>2.0</td>\n",
       "      <td>41.0</td>\n",
       "      <td>62000.0</td>\n",
       "      <td>18520.0</td>\n",
       "      <td>18310.0</td>\n",
       "      <td>51.2</td>\n",
       "      <td>0.0</td>\n",
       "      <td>0.0</td>\n",
       "      <td>0.0</td>\n",
       "      <td>16.53</td>\n",
       "      <td>2.0</td>\n",
       "      <td>4.0</td>\n",
       "      <td>0.0</td>\n",
       "      <td>679.48</td>\n",
       "      <td>13.58</td>\n",
       "      <td>20039.99</td>\n",
       "      <td>20000.0</td>\n",
       "      <td>7241.0</td>\n",
       "      <td>104.0</td>\n",
       "      <td>148.0</td>\n",
       "      <td>5.0</td>\n",
       "      <td>5.0</td>\n",
       "      <td>5.0</td>\n",
       "      <td>44.0</td>\n",
       "      <td>47.0</td>\n",
       "      <td>0.0</td>\n",
       "      <td>5.0</td>\n",
       "      <td>5.0</td>\n",
       "      <td>5.0</td>\n",
       "      <td>6.0</td>\n",
       "      <td>2.0</td>\n",
       "      <td>6.0</td>\n",
       "      <td>11.0</td>\n",
       "      <td>5.0</td>\n",
       "      <td>8.0</td>\n",
       "      <td>0.0</td>\n",
       "      <td>0.0</td>\n",
       "      <td>2.0</td>\n",
       "      <td>8.0</td>\n",
       "      <td>1.0</td>\n",
       "      <td>1.0</td>\n",
       "      <td>0.0</td>\n",
       "      <td>0.0</td>\n",
       "      <td>2.0</td>\n",
       "      <td>2.0</td>\n",
       "      <td>0.0</td>\n",
       "      <td>0.0</td>\n",
       "      <td>83.3</td>\n",
       "      <td>40.0</td>\n",
       "      <td>0.0</td>\n",
       "      <td>19190.0</td>\n",
       "      <td>48.6</td>\n",
       "      <td>0.0</td>\n",
       "      <td>0.0</td>\n",
       "      <td>148161.0</td>\n",
       "      <td>195776.0</td>\n",
       "      <td>18.0</td>\n",
       "      <td>24959.0</td>\n",
       "      <td>5769.0</td>\n",
       "      <td>37500.0</td>\n",
       "      <td>0.0</td>\n",
       "      <td>21976.0</td>\n",
       "      <td>20009.805556</td>\n",
       "      <td>19984.79</td>\n",
       "      <td>9.81</td>\n",
       "      <td>0.0</td>\n",
       "      <td>20000.0</td>\n",
       "      <td>39500.0</td>\n",
       "      <td>0.0</td>\n",
       "      <td>0</td>\n",
       "    </tr>\n",
       "    <tr>\n",
       "      <th>4</th>\n",
       "      <td>0.0</td>\n",
       "      <td>11.0</td>\n",
       "      <td>60.0</td>\n",
       "      <td>30000.0</td>\n",
       "      <td>5990.0</td>\n",
       "      <td>7898.0</td>\n",
       "      <td>7.1</td>\n",
       "      <td>0.0</td>\n",
       "      <td>0.0</td>\n",
       "      <td>0.0</td>\n",
       "      <td>9.85</td>\n",
       "      <td>0.0</td>\n",
       "      <td>0.0</td>\n",
       "      <td>0.0</td>\n",
       "      <td>602.55</td>\n",
       "      <td>17.47</td>\n",
       "      <td>23776.33</td>\n",
       "      <td>24000.0</td>\n",
       "      <td>359.0</td>\n",
       "      <td>152.0</td>\n",
       "      <td>39.0</td>\n",
       "      <td>2.0</td>\n",
       "      <td>2.0</td>\n",
       "      <td>0.0</td>\n",
       "      <td>60.0</td>\n",
       "      <td>2.0</td>\n",
       "      <td>1.0</td>\n",
       "      <td>2.0</td>\n",
       "      <td>4.0</td>\n",
       "      <td>4.0</td>\n",
       "      <td>5.0</td>\n",
       "      <td>11.0</td>\n",
       "      <td>7.0</td>\n",
       "      <td>8.0</td>\n",
       "      <td>4.0</td>\n",
       "      <td>11.0</td>\n",
       "      <td>0.0</td>\n",
       "      <td>0.0</td>\n",
       "      <td>3.0</td>\n",
       "      <td>11.0</td>\n",
       "      <td>3.0</td>\n",
       "      <td>4.0</td>\n",
       "      <td>2.0</td>\n",
       "      <td>5.0</td>\n",
       "      <td>1.0</td>\n",
       "      <td>6.0</td>\n",
       "      <td>0.0</td>\n",
       "      <td>0.0</td>\n",
       "      <td>94.1</td>\n",
       "      <td>0.0</td>\n",
       "      <td>0.0</td>\n",
       "      <td>877.0</td>\n",
       "      <td>7.3</td>\n",
       "      <td>0.0</td>\n",
       "      <td>0.0</td>\n",
       "      <td>65886.0</td>\n",
       "      <td>74319.0</td>\n",
       "      <td>19.0</td>\n",
       "      <td>65886.0</td>\n",
       "      <td>65009.0</td>\n",
       "      <td>8500.0</td>\n",
       "      <td>5.0</td>\n",
       "      <td>62319.0</td>\n",
       "      <td>24334.736554</td>\n",
       "      <td>24334.74</td>\n",
       "      <td>334.74</td>\n",
       "      <td>0.0</td>\n",
       "      <td>24000.0</td>\n",
       "      <td>12000.0</td>\n",
       "      <td>0.0</td>\n",
       "      <td>0</td>\n",
       "    </tr>\n",
       "  </tbody>\n",
       "</table>\n",
       "</div>"
      ],
      "text/plain": [
       "   acc_now_delinq  acc_open_past_24mths  ...  delinq_2yrs  bad_loans\n",
       "0             0.0                   3.0  ...          0.0          0\n",
       "1             0.0                   2.0  ...          0.0          0\n",
       "2             0.0                   3.0  ...          0.0          0\n",
       "3             0.0                   2.0  ...          0.0          0\n",
       "4             0.0                  11.0  ...          0.0          0\n",
       "\n",
       "[5 rows x 71 columns]"
      ]
     },
     "execution_count": 8,
     "metadata": {
      "tags": []
     },
     "output_type": "execute_result"
    }
   ],
   "source": [
    "data.head()"
   ]
  },
  {
   "cell_type": "code",
   "execution_count": 0,
   "metadata": {
    "colab": {
     "base_uri": "https://localhost:8080/",
     "height": 304
    },
    "colab_type": "code",
    "id": "aLVpX772jYan",
    "outputId": "c3030912-3db7-4a98-a594-8e3b9704e65b"
   },
   "outputs": [
    {
     "data": {
      "text/html": [
       "<div>\n",
       "<style scoped>\n",
       "    .dataframe tbody tr th:only-of-type {\n",
       "        vertical-align: middle;\n",
       "    }\n",
       "\n",
       "    .dataframe tbody tr th {\n",
       "        vertical-align: top;\n",
       "    }\n",
       "\n",
       "    .dataframe thead th {\n",
       "        text-align: right;\n",
       "    }\n",
       "</style>\n",
       "<table border=\"1\" class=\"dataframe\">\n",
       "  <thead>\n",
       "    <tr style=\"text-align: right;\">\n",
       "      <th></th>\n",
       "      <th>acc_now_delinq</th>\n",
       "      <th>acc_open_past_24mths</th>\n",
       "      <th>all_util</th>\n",
       "      <th>annual_inc</th>\n",
       "      <th>avg_cur_bal</th>\n",
       "      <th>bc_open_to_buy</th>\n",
       "      <th>bc_util</th>\n",
       "      <th>chargeoff_within_12_mths</th>\n",
       "      <th>collections_12_mths_ex_med</th>\n",
       "      <th>delinq_amnt</th>\n",
       "      <th>dti</th>\n",
       "      <th>inq_fi</th>\n",
       "      <th>inq_last_12m</th>\n",
       "      <th>inq_last_6mths</th>\n",
       "      <th>installment</th>\n",
       "      <th>int_rate</th>\n",
       "      <th>last_pymnt_amnt</th>\n",
       "      <th>loan_amnt</th>\n",
       "      <th>max_bal_bc</th>\n",
       "      <th>mo_sin_old_il_acct</th>\n",
       "      <th>mo_sin_old_rev_tl_op</th>\n",
       "      <th>mo_sin_rcnt_rev_tl_op</th>\n",
       "      <th>mo_sin_rcnt_tl</th>\n",
       "      <th>mort_acc</th>\n",
       "      <th>mths_since_last_delinq</th>\n",
       "      <th>mths_since_rcnt_il</th>\n",
       "      <th>num_accts_ever_120_pd</th>\n",
       "      <th>num_actv_bc_tl</th>\n",
       "      <th>num_actv_rev_tl</th>\n",
       "      <th>num_bc_sats</th>\n",
       "      <th>num_bc_tl</th>\n",
       "      <th>num_il_tl</th>\n",
       "      <th>num_op_rev_tl</th>\n",
       "      <th>num_rev_accts</th>\n",
       "      <th>num_rev_tl_bal_gt_0</th>\n",
       "      <th>num_sats</th>\n",
       "      <th>num_tl_30dpd</th>\n",
       "      <th>num_tl_90g_dpd_24m</th>\n",
       "      <th>num_tl_op_past_12m</th>\n",
       "      <th>open_acc</th>\n",
       "      <th>open_acc_6m</th>\n",
       "      <th>open_act_il</th>\n",
       "      <th>open_il_12m</th>\n",
       "      <th>open_il_24m</th>\n",
       "      <th>open_rv_12m</th>\n",
       "      <th>open_rv_24m</th>\n",
       "      <th>out_prncp</th>\n",
       "      <th>out_prncp_inv</th>\n",
       "      <th>pct_tl_nvr_dlq</th>\n",
       "      <th>percent_bc_gt_75</th>\n",
       "      <th>pub_rec_bankruptcies</th>\n",
       "      <th>revol_bal</th>\n",
       "      <th>revol_util</th>\n",
       "      <th>tax_liens</th>\n",
       "      <th>tot_coll_amt</th>\n",
       "      <th>tot_cur_bal</th>\n",
       "      <th>tot_hi_cred_lim</th>\n",
       "      <th>total_acc</th>\n",
       "      <th>total_bal_ex_mort</th>\n",
       "      <th>total_bal_il</th>\n",
       "      <th>total_bc_limit</th>\n",
       "      <th>total_cu_tl</th>\n",
       "      <th>total_il_high_credit_limit</th>\n",
       "      <th>total_pymnt</th>\n",
       "      <th>total_pymnt_inv</th>\n",
       "      <th>total_rec_int</th>\n",
       "      <th>total_rec_late_fee</th>\n",
       "      <th>total_rec_prncp</th>\n",
       "      <th>total_rev_hi_lim</th>\n",
       "      <th>delinq_2yrs</th>\n",
       "      <th>bad_loans</th>\n",
       "    </tr>\n",
       "  </thead>\n",
       "  <tbody>\n",
       "    <tr>\n",
       "      <th>count</th>\n",
       "      <td>2992.000000</td>\n",
       "      <td>2992.000000</td>\n",
       "      <td>2992.000000</td>\n",
       "      <td>2.992000e+03</td>\n",
       "      <td>2992.000000</td>\n",
       "      <td>2992.000000</td>\n",
       "      <td>2992.000000</td>\n",
       "      <td>2992.000000</td>\n",
       "      <td>2992.000000</td>\n",
       "      <td>2992.000000</td>\n",
       "      <td>2992.000000</td>\n",
       "      <td>2992.000000</td>\n",
       "      <td>2992.000000</td>\n",
       "      <td>2992.000000</td>\n",
       "      <td>2992.000000</td>\n",
       "      <td>2992.000000</td>\n",
       "      <td>2992.000000</td>\n",
       "      <td>2992.000000</td>\n",
       "      <td>2992.000000</td>\n",
       "      <td>2992.000000</td>\n",
       "      <td>2992.000000</td>\n",
       "      <td>2992.000000</td>\n",
       "      <td>2992.000000</td>\n",
       "      <td>2992.000000</td>\n",
       "      <td>2992.000000</td>\n",
       "      <td>2992.000000</td>\n",
       "      <td>2992.000000</td>\n",
       "      <td>2992.000000</td>\n",
       "      <td>2992.000000</td>\n",
       "      <td>2992.000000</td>\n",
       "      <td>2992.000000</td>\n",
       "      <td>2992.000000</td>\n",
       "      <td>2992.000000</td>\n",
       "      <td>2992.000000</td>\n",
       "      <td>2992.000000</td>\n",
       "      <td>2992.000000</td>\n",
       "      <td>2992.000000</td>\n",
       "      <td>2992.000000</td>\n",
       "      <td>2992.000000</td>\n",
       "      <td>2992.000000</td>\n",
       "      <td>2992.000000</td>\n",
       "      <td>2992.000000</td>\n",
       "      <td>2992.000000</td>\n",
       "      <td>2992.000000</td>\n",
       "      <td>2992.000000</td>\n",
       "      <td>2992.000000</td>\n",
       "      <td>2992.000000</td>\n",
       "      <td>2992.00000</td>\n",
       "      <td>2992.000000</td>\n",
       "      <td>2992.000000</td>\n",
       "      <td>2992.000000</td>\n",
       "      <td>2992.000000</td>\n",
       "      <td>2992.000000</td>\n",
       "      <td>2992.000000</td>\n",
       "      <td>2992.000000</td>\n",
       "      <td>2.992000e+03</td>\n",
       "      <td>2.992000e+03</td>\n",
       "      <td>2992.000000</td>\n",
       "      <td>2992.000000</td>\n",
       "      <td>2992.000000</td>\n",
       "      <td>2992.000000</td>\n",
       "      <td>2992.000000</td>\n",
       "      <td>2992.000000</td>\n",
       "      <td>2992.000000</td>\n",
       "      <td>2992.000000</td>\n",
       "      <td>2992.000000</td>\n",
       "      <td>2992.000000</td>\n",
       "      <td>2992.000000</td>\n",
       "      <td>2.992000e+03</td>\n",
       "      <td>2992.000000</td>\n",
       "      <td>2992.000000</td>\n",
       "    </tr>\n",
       "    <tr>\n",
       "      <th>mean</th>\n",
       "      <td>0.000668</td>\n",
       "      <td>5.255013</td>\n",
       "      <td>55.119987</td>\n",
       "      <td>8.746828e+04</td>\n",
       "      <td>16564.701203</td>\n",
       "      <td>13173.117981</td>\n",
       "      <td>46.646223</td>\n",
       "      <td>0.019051</td>\n",
       "      <td>0.027741</td>\n",
       "      <td>16.622995</td>\n",
       "      <td>18.040324</td>\n",
       "      <td>1.505682</td>\n",
       "      <td>2.634358</td>\n",
       "      <td>0.622995</td>\n",
       "      <td>466.517914</td>\n",
       "      <td>14.588252</td>\n",
       "      <td>9800.395976</td>\n",
       "      <td>15505.464572</td>\n",
       "      <td>5092.238971</td>\n",
       "      <td>130.477273</td>\n",
       "      <td>189.395388</td>\n",
       "      <td>12.651738</td>\n",
       "      <td>7.121658</td>\n",
       "      <td>1.776070</td>\n",
       "      <td>35.704880</td>\n",
       "      <td>18.507687</td>\n",
       "      <td>1.021056</td>\n",
       "      <td>3.225936</td>\n",
       "      <td>4.962233</td>\n",
       "      <td>4.662767</td>\n",
       "      <td>7.725602</td>\n",
       "      <td>9.667112</td>\n",
       "      <td>8.140040</td>\n",
       "      <td>14.474933</td>\n",
       "      <td>4.912433</td>\n",
       "      <td>11.690842</td>\n",
       "      <td>0.000668</td>\n",
       "      <td>0.134024</td>\n",
       "      <td>2.527741</td>\n",
       "      <td>11.719586</td>\n",
       "      <td>1.185829</td>\n",
       "      <td>2.809826</td>\n",
       "      <td>0.916444</td>\n",
       "      <td>1.938503</td>\n",
       "      <td>1.444519</td>\n",
       "      <td>2.969251</td>\n",
       "      <td>4623.715087</td>\n",
       "      <td>4622.52762</td>\n",
       "      <td>88.756751</td>\n",
       "      <td>30.761999</td>\n",
       "      <td>0.100602</td>\n",
       "      <td>14328.576203</td>\n",
       "      <td>41.140775</td>\n",
       "      <td>0.048797</td>\n",
       "      <td>269.835896</td>\n",
       "      <td>1.716029e+05</td>\n",
       "      <td>2.122014e+05</td>\n",
       "      <td>26.203209</td>\n",
       "      <td>54374.714572</td>\n",
       "      <td>39867.952874</td>\n",
       "      <td>22522.359626</td>\n",
       "      <td>1.878676</td>\n",
       "      <td>49164.339906</td>\n",
       "      <td>11085.635698</td>\n",
       "      <td>11082.815789</td>\n",
       "      <td>410.819452</td>\n",
       "      <td>0.824482</td>\n",
       "      <td>10673.991711</td>\n",
       "      <td>3.434275e+04</td>\n",
       "      <td>0.538770</td>\n",
       "      <td>0.159091</td>\n",
       "    </tr>\n",
       "    <tr>\n",
       "      <th>std</th>\n",
       "      <td>0.025850</td>\n",
       "      <td>3.567772</td>\n",
       "      <td>22.146468</td>\n",
       "      <td>8.051400e+04</td>\n",
       "      <td>19847.164135</td>\n",
       "      <td>16982.191570</td>\n",
       "      <td>30.204274</td>\n",
       "      <td>0.143875</td>\n",
       "      <td>0.170253</td>\n",
       "      <td>637.697842</td>\n",
       "      <td>15.391847</td>\n",
       "      <td>1.910388</td>\n",
       "      <td>2.735406</td>\n",
       "      <td>0.851521</td>\n",
       "      <td>300.721390</td>\n",
       "      <td>5.385267</td>\n",
       "      <td>10544.990552</td>\n",
       "      <td>10295.010821</td>\n",
       "      <td>5399.628661</td>\n",
       "      <td>52.156108</td>\n",
       "      <td>96.721346</td>\n",
       "      <td>15.940452</td>\n",
       "      <td>8.093645</td>\n",
       "      <td>1.890161</td>\n",
       "      <td>21.634825</td>\n",
       "      <td>25.459258</td>\n",
       "      <td>1.866461</td>\n",
       "      <td>2.207497</td>\n",
       "      <td>3.255052</td>\n",
       "      <td>2.998536</td>\n",
       "      <td>4.592805</td>\n",
       "      <td>7.794297</td>\n",
       "      <td>4.775968</td>\n",
       "      <td>8.287466</td>\n",
       "      <td>3.166243</td>\n",
       "      <td>5.818813</td>\n",
       "      <td>0.025850</td>\n",
       "      <td>0.542188</td>\n",
       "      <td>2.094371</td>\n",
       "      <td>5.817741</td>\n",
       "      <td>1.308190</td>\n",
       "      <td>3.046656</td>\n",
       "      <td>1.105155</td>\n",
       "      <td>1.822872</td>\n",
       "      <td>1.590761</td>\n",
       "      <td>2.695091</td>\n",
       "      <td>9185.818093</td>\n",
       "      <td>9184.15359</td>\n",
       "      <td>9.785518</td>\n",
       "      <td>34.478706</td>\n",
       "      <td>0.310692</td>\n",
       "      <td>26843.245881</td>\n",
       "      <td>25.370155</td>\n",
       "      <td>0.318217</td>\n",
       "      <td>1372.286554</td>\n",
       "      <td>1.861975e+05</td>\n",
       "      <td>2.059448e+05</td>\n",
       "      <td>12.573322</td>\n",
       "      <td>54979.079742</td>\n",
       "      <td>46627.931860</td>\n",
       "      <td>21268.284494</td>\n",
       "      <td>3.106327</td>\n",
       "      <td>47252.404540</td>\n",
       "      <td>10722.050263</td>\n",
       "      <td>10719.932323</td>\n",
       "      <td>477.268425</td>\n",
       "      <td>5.351463</td>\n",
       "      <td>10605.831427</td>\n",
       "      <td>3.801160e+04</td>\n",
       "      <td>0.987299</td>\n",
       "      <td>0.365822</td>\n",
       "    </tr>\n",
       "    <tr>\n",
       "      <th>min</th>\n",
       "      <td>0.000000</td>\n",
       "      <td>0.000000</td>\n",
       "      <td>0.000000</td>\n",
       "      <td>2.000000e+03</td>\n",
       "      <td>0.000000</td>\n",
       "      <td>0.000000</td>\n",
       "      <td>0.000000</td>\n",
       "      <td>0.000000</td>\n",
       "      <td>0.000000</td>\n",
       "      <td>0.000000</td>\n",
       "      <td>0.000000</td>\n",
       "      <td>0.000000</td>\n",
       "      <td>0.000000</td>\n",
       "      <td>0.000000</td>\n",
       "      <td>30.460000</td>\n",
       "      <td>5.310000</td>\n",
       "      <td>0.000000</td>\n",
       "      <td>1000.000000</td>\n",
       "      <td>0.000000</td>\n",
       "      <td>2.000000</td>\n",
       "      <td>3.000000</td>\n",
       "      <td>0.000000</td>\n",
       "      <td>0.000000</td>\n",
       "      <td>0.000000</td>\n",
       "      <td>0.000000</td>\n",
       "      <td>1.000000</td>\n",
       "      <td>0.000000</td>\n",
       "      <td>0.000000</td>\n",
       "      <td>0.000000</td>\n",
       "      <td>1.000000</td>\n",
       "      <td>1.000000</td>\n",
       "      <td>1.000000</td>\n",
       "      <td>1.000000</td>\n",
       "      <td>2.000000</td>\n",
       "      <td>0.000000</td>\n",
       "      <td>1.000000</td>\n",
       "      <td>0.000000</td>\n",
       "      <td>0.000000</td>\n",
       "      <td>0.000000</td>\n",
       "      <td>1.000000</td>\n",
       "      <td>0.000000</td>\n",
       "      <td>0.000000</td>\n",
       "      <td>0.000000</td>\n",
       "      <td>0.000000</td>\n",
       "      <td>0.000000</td>\n",
       "      <td>0.000000</td>\n",
       "      <td>0.000000</td>\n",
       "      <td>0.00000</td>\n",
       "      <td>25.000000</td>\n",
       "      <td>0.000000</td>\n",
       "      <td>0.000000</td>\n",
       "      <td>0.000000</td>\n",
       "      <td>0.000000</td>\n",
       "      <td>0.000000</td>\n",
       "      <td>0.000000</td>\n",
       "      <td>0.000000e+00</td>\n",
       "      <td>2.400000e+03</td>\n",
       "      <td>3.000000</td>\n",
       "      <td>0.000000</td>\n",
       "      <td>0.000000</td>\n",
       "      <td>200.000000</td>\n",
       "      <td>0.000000</td>\n",
       "      <td>0.000000</td>\n",
       "      <td>0.000000</td>\n",
       "      <td>0.000000</td>\n",
       "      <td>0.000000</td>\n",
       "      <td>0.000000</td>\n",
       "      <td>0.000000</td>\n",
       "      <td>3.000000e+02</td>\n",
       "      <td>0.000000</td>\n",
       "      <td>0.000000</td>\n",
       "    </tr>\n",
       "    <tr>\n",
       "      <th>25%</th>\n",
       "      <td>0.000000</td>\n",
       "      <td>3.000000</td>\n",
       "      <td>41.000000</td>\n",
       "      <td>5.100000e+04</td>\n",
       "      <td>3568.500000</td>\n",
       "      <td>2485.250000</td>\n",
       "      <td>20.600000</td>\n",
       "      <td>0.000000</td>\n",
       "      <td>0.000000</td>\n",
       "      <td>0.000000</td>\n",
       "      <td>10.180000</td>\n",
       "      <td>0.000000</td>\n",
       "      <td>1.000000</td>\n",
       "      <td>0.000000</td>\n",
       "      <td>234.572500</td>\n",
       "      <td>10.420000</td>\n",
       "      <td>731.160000</td>\n",
       "      <td>7000.000000</td>\n",
       "      <td>1709.000000</td>\n",
       "      <td>105.000000</td>\n",
       "      <td>128.000000</td>\n",
       "      <td>3.000000</td>\n",
       "      <td>2.000000</td>\n",
       "      <td>0.000000</td>\n",
       "      <td>18.000000</td>\n",
       "      <td>6.000000</td>\n",
       "      <td>0.000000</td>\n",
       "      <td>2.000000</td>\n",
       "      <td>3.000000</td>\n",
       "      <td>2.000000</td>\n",
       "      <td>4.000000</td>\n",
       "      <td>4.000000</td>\n",
       "      <td>5.000000</td>\n",
       "      <td>9.000000</td>\n",
       "      <td>3.000000</td>\n",
       "      <td>8.000000</td>\n",
       "      <td>0.000000</td>\n",
       "      <td>0.000000</td>\n",
       "      <td>1.000000</td>\n",
       "      <td>8.000000</td>\n",
       "      <td>0.000000</td>\n",
       "      <td>1.000000</td>\n",
       "      <td>0.000000</td>\n",
       "      <td>1.000000</td>\n",
       "      <td>0.000000</td>\n",
       "      <td>1.000000</td>\n",
       "      <td>0.000000</td>\n",
       "      <td>0.00000</td>\n",
       "      <td>84.800000</td>\n",
       "      <td>0.000000</td>\n",
       "      <td>0.000000</td>\n",
       "      <td>4199.750000</td>\n",
       "      <td>20.675000</td>\n",
       "      <td>0.000000</td>\n",
       "      <td>0.000000</td>\n",
       "      <td>3.380900e+04</td>\n",
       "      <td>6.083575e+04</td>\n",
       "      <td>17.000000</td>\n",
       "      <td>21234.000000</td>\n",
       "      <td>11271.500000</td>\n",
       "      <td>8200.000000</td>\n",
       "      <td>0.000000</td>\n",
       "      <td>18223.250000</td>\n",
       "      <td>2044.923148</td>\n",
       "      <td>2044.920000</td>\n",
       "      <td>67.137500</td>\n",
       "      <td>0.000000</td>\n",
       "      <td>1270.412500</td>\n",
       "      <td>1.400000e+04</td>\n",
       "      <td>0.000000</td>\n",
       "      <td>0.000000</td>\n",
       "    </tr>\n",
       "    <tr>\n",
       "      <th>50%</th>\n",
       "      <td>0.000000</td>\n",
       "      <td>5.000000</td>\n",
       "      <td>56.000000</td>\n",
       "      <td>7.400000e+04</td>\n",
       "      <td>9678.000000</td>\n",
       "      <td>7341.000000</td>\n",
       "      <td>44.600000</td>\n",
       "      <td>0.000000</td>\n",
       "      <td>0.000000</td>\n",
       "      <td>0.000000</td>\n",
       "      <td>16.340000</td>\n",
       "      <td>1.000000</td>\n",
       "      <td>2.000000</td>\n",
       "      <td>0.000000</td>\n",
       "      <td>383.345000</td>\n",
       "      <td>14.070000</td>\n",
       "      <td>6064.085000</td>\n",
       "      <td>13000.000000</td>\n",
       "      <td>3809.000000</td>\n",
       "      <td>133.000000</td>\n",
       "      <td>169.500000</td>\n",
       "      <td>7.000000</td>\n",
       "      <td>5.000000</td>\n",
       "      <td>1.000000</td>\n",
       "      <td>33.000000</td>\n",
       "      <td>11.000000</td>\n",
       "      <td>0.000000</td>\n",
       "      <td>3.000000</td>\n",
       "      <td>4.000000</td>\n",
       "      <td>4.000000</td>\n",
       "      <td>7.000000</td>\n",
       "      <td>7.000000</td>\n",
       "      <td>7.000000</td>\n",
       "      <td>13.000000</td>\n",
       "      <td>4.000000</td>\n",
       "      <td>11.000000</td>\n",
       "      <td>0.000000</td>\n",
       "      <td>0.000000</td>\n",
       "      <td>2.000000</td>\n",
       "      <td>11.000000</td>\n",
       "      <td>1.000000</td>\n",
       "      <td>2.000000</td>\n",
       "      <td>1.000000</td>\n",
       "      <td>2.000000</td>\n",
       "      <td>1.000000</td>\n",
       "      <td>2.000000</td>\n",
       "      <td>0.000000</td>\n",
       "      <td>0.00000</td>\n",
       "      <td>91.900000</td>\n",
       "      <td>20.000000</td>\n",
       "      <td>0.000000</td>\n",
       "      <td>8846.500000</td>\n",
       "      <td>39.000000</td>\n",
       "      <td>0.000000</td>\n",
       "      <td>0.000000</td>\n",
       "      <td>1.116350e+05</td>\n",
       "      <td>1.511675e+05</td>\n",
       "      <td>24.000000</td>\n",
       "      <td>39805.000000</td>\n",
       "      <td>26545.500000</td>\n",
       "      <td>16500.000000</td>\n",
       "      <td>1.000000</td>\n",
       "      <td>37095.000000</td>\n",
       "      <td>7766.157905</td>\n",
       "      <td>7766.160000</td>\n",
       "      <td>241.130000</td>\n",
       "      <td>0.000000</td>\n",
       "      <td>7500.000000</td>\n",
       "      <td>2.520000e+04</td>\n",
       "      <td>0.000000</td>\n",
       "      <td>0.000000</td>\n",
       "    </tr>\n",
       "    <tr>\n",
       "      <th>75%</th>\n",
       "      <td>0.000000</td>\n",
       "      <td>7.000000</td>\n",
       "      <td>70.000000</td>\n",
       "      <td>1.010000e+05</td>\n",
       "      <td>23458.500000</td>\n",
       "      <td>17104.750000</td>\n",
       "      <td>71.800000</td>\n",
       "      <td>0.000000</td>\n",
       "      <td>0.000000</td>\n",
       "      <td>0.000000</td>\n",
       "      <td>23.280000</td>\n",
       "      <td>2.000000</td>\n",
       "      <td>4.000000</td>\n",
       "      <td>1.000000</td>\n",
       "      <td>653.855000</td>\n",
       "      <td>18.060000</td>\n",
       "      <td>15080.487500</td>\n",
       "      <td>22000.000000</td>\n",
       "      <td>6714.500000</td>\n",
       "      <td>156.000000</td>\n",
       "      <td>239.000000</td>\n",
       "      <td>16.000000</td>\n",
       "      <td>9.000000</td>\n",
       "      <td>3.000000</td>\n",
       "      <td>52.000000</td>\n",
       "      <td>21.000000</td>\n",
       "      <td>1.000000</td>\n",
       "      <td>4.000000</td>\n",
       "      <td>6.000000</td>\n",
       "      <td>6.000000</td>\n",
       "      <td>10.000000</td>\n",
       "      <td>13.000000</td>\n",
       "      <td>10.000000</td>\n",
       "      <td>19.000000</td>\n",
       "      <td>6.000000</td>\n",
       "      <td>15.000000</td>\n",
       "      <td>0.000000</td>\n",
       "      <td>0.000000</td>\n",
       "      <td>4.000000</td>\n",
       "      <td>15.000000</td>\n",
       "      <td>2.000000</td>\n",
       "      <td>3.000000</td>\n",
       "      <td>1.000000</td>\n",
       "      <td>3.000000</td>\n",
       "      <td>2.000000</td>\n",
       "      <td>4.000000</td>\n",
       "      <td>4653.497500</td>\n",
       "      <td>4653.49750</td>\n",
       "      <td>95.500000</td>\n",
       "      <td>50.000000</td>\n",
       "      <td>0.000000</td>\n",
       "      <td>16865.250000</td>\n",
       "      <td>59.800000</td>\n",
       "      <td>0.000000</td>\n",
       "      <td>0.000000</td>\n",
       "      <td>2.549242e+05</td>\n",
       "      <td>3.029490e+05</td>\n",
       "      <td>33.000000</td>\n",
       "      <td>68402.250000</td>\n",
       "      <td>51441.750000</td>\n",
       "      <td>30500.000000</td>\n",
       "      <td>3.000000</td>\n",
       "      <td>65679.000000</td>\n",
       "      <td>16189.311010</td>\n",
       "      <td>16189.315000</td>\n",
       "      <td>585.880000</td>\n",
       "      <td>0.000000</td>\n",
       "      <td>16000.000000</td>\n",
       "      <td>4.340000e+04</td>\n",
       "      <td>1.000000</td>\n",
       "      <td>0.000000</td>\n",
       "    </tr>\n",
       "    <tr>\n",
       "      <th>max</th>\n",
       "      <td>1.000000</td>\n",
       "      <td>29.000000</td>\n",
       "      <td>239.000000</td>\n",
       "      <td>2.300000e+06</td>\n",
       "      <td>285326.000000</td>\n",
       "      <td>215848.000000</td>\n",
       "      <td>117.500000</td>\n",
       "      <td>2.000000</td>\n",
       "      <td>2.000000</td>\n",
       "      <td>33356.000000</td>\n",
       "      <td>489.160000</td>\n",
       "      <td>32.000000</td>\n",
       "      <td>22.000000</td>\n",
       "      <td>5.000000</td>\n",
       "      <td>1388.820000</td>\n",
       "      <td>30.940000</td>\n",
       "      <td>41009.320000</td>\n",
       "      <td>40000.000000</td>\n",
       "      <td>98416.000000</td>\n",
       "      <td>366.000000</td>\n",
       "      <td>614.000000</td>\n",
       "      <td>174.000000</td>\n",
       "      <td>117.000000</td>\n",
       "      <td>12.000000</td>\n",
       "      <td>109.000000</td>\n",
       "      <td>349.000000</td>\n",
       "      <td>24.000000</td>\n",
       "      <td>23.000000</td>\n",
       "      <td>31.000000</td>\n",
       "      <td>25.000000</td>\n",
       "      <td>33.000000</td>\n",
       "      <td>67.000000</td>\n",
       "      <td>35.000000</td>\n",
       "      <td>67.000000</td>\n",
       "      <td>25.000000</td>\n",
       "      <td>57.000000</td>\n",
       "      <td>1.000000</td>\n",
       "      <td>10.000000</td>\n",
       "      <td>16.000000</td>\n",
       "      <td>57.000000</td>\n",
       "      <td>12.000000</td>\n",
       "      <td>37.000000</td>\n",
       "      <td>6.000000</td>\n",
       "      <td>13.000000</td>\n",
       "      <td>13.000000</td>\n",
       "      <td>25.000000</td>\n",
       "      <td>40000.000000</td>\n",
       "      <td>40000.00000</td>\n",
       "      <td>100.000000</td>\n",
       "      <td>100.000000</td>\n",
       "      <td>3.000000</td>\n",
       "      <td>925589.000000</td>\n",
       "      <td>115.600000</td>\n",
       "      <td>5.000000</td>\n",
       "      <td>30582.000000</td>\n",
       "      <td>2.539506e+06</td>\n",
       "      <td>2.761000e+06</td>\n",
       "      <td>98.000000</td>\n",
       "      <td>942456.000000</td>\n",
       "      <td>614961.000000</td>\n",
       "      <td>223200.000000</td>\n",
       "      <td>34.000000</td>\n",
       "      <td>513301.000000</td>\n",
       "      <td>42319.947774</td>\n",
       "      <td>42319.950000</td>\n",
       "      <td>3693.840000</td>\n",
       "      <td>87.160000</td>\n",
       "      <td>40000.000000</td>\n",
       "      <td>1.123500e+06</td>\n",
       "      <td>12.000000</td>\n",
       "      <td>1.000000</td>\n",
       "    </tr>\n",
       "  </tbody>\n",
       "</table>\n",
       "</div>"
      ],
      "text/plain": [
       "       acc_now_delinq  acc_open_past_24mths  ...  delinq_2yrs    bad_loans\n",
       "count     2992.000000           2992.000000  ...  2992.000000  2992.000000\n",
       "mean         0.000668              5.255013  ...     0.538770     0.159091\n",
       "std          0.025850              3.567772  ...     0.987299     0.365822\n",
       "min          0.000000              0.000000  ...     0.000000     0.000000\n",
       "25%          0.000000              3.000000  ...     0.000000     0.000000\n",
       "50%          0.000000              5.000000  ...     0.000000     0.000000\n",
       "75%          0.000000              7.000000  ...     1.000000     0.000000\n",
       "max          1.000000             29.000000  ...    12.000000     1.000000\n",
       "\n",
       "[8 rows x 71 columns]"
      ]
     },
     "execution_count": 9,
     "metadata": {
      "tags": []
     },
     "output_type": "execute_result"
    }
   ],
   "source": [
    "data.describe()"
   ]
  },
  {
   "cell_type": "code",
   "execution_count": 0,
   "metadata": {
    "colab": {
     "base_uri": "https://localhost:8080/",
     "height": 34
    },
    "colab_type": "code",
    "id": "ZbxynuRhhQen",
    "outputId": "dd49f536-a7a2-4555-d5fa-8cef7c0b6c66"
   },
   "outputs": [
    {
     "data": {
      "text/plain": [
       "array([dtype('float64')], dtype=object)"
      ]
     },
     "execution_count": 10,
     "metadata": {
      "tags": []
     },
     "output_type": "execute_result"
    }
   ],
   "source": [
    "# examine the data type of the columns are consistently of type float.\n",
    "data[feature_list].dtypes.unique()"
   ]
  },
  {
   "cell_type": "code",
   "execution_count": 0,
   "metadata": {
    "colab": {},
    "colab_type": "code",
    "id": "4s5k4TsEiEH2"
   },
   "outputs": [],
   "source": [
    "# Function to do oversampling\n",
    "def oversample(df, label_column):\n",
    "    \"\"\"\n",
    "    Oversampling on data\n",
    "    --------------------------------------\n",
    "    Args:\n",
    "        df: training dataframe\n",
    "        label_column: name of the output column\n",
    "    Returns:\n",
    "        return the new oversampled dataframe\n",
    "    \"\"\"\n",
    "    count_class_0, count_class_1 = df[label_column].value_counts()\n",
    "\n",
    "    # Separate by class\n",
    "    df_class_0 = df[df[label_column] == 0]\n",
    "    df_class_1 = df[df[label_column] == 1]\n",
    "\n",
    "    # Address unblanced data issue: Oversampling on data samples with rare outputs\n",
    "    if len(df_class_0) <= len(df_class_0):  \n",
    "      df_class_0_over = df_class_0.sample(count_class_1, replace=True, random_state=static_random_state)\n",
    "      new_df = pd.concat([df_class_1, df_class_0_over], axis=0)\n",
    "    else:\n",
    "      df_class_1_over = df_class_1.sample(count_class_0, replace=True, random_state=static_random_state)\n",
    "      new_df = pd.concat([df_class_1_over, df_class_0], axis=0)\n",
    "\n",
    "    return new_df"
   ]
  },
  {
   "cell_type": "code",
   "execution_count": 0,
   "metadata": {
    "colab": {},
    "colab_type": "code",
    "id": "oMVT3x-6lYlS"
   },
   "outputs": [],
   "source": [
    "# Train-test split: 80%-20%\n",
    "Train, Test = train_test_split(data, test_size = static_test_size, random_state = static_random_state)"
   ]
  },
  {
   "cell_type": "code",
   "execution_count": 0,
   "metadata": {
    "colab": {},
    "colab_type": "code",
    "id": "xPxd7gpbmDO5"
   },
   "outputs": [],
   "source": [
    "# Over-sample on the training data\n",
    "Train = oversample(Train, y_column)\n",
    "\n",
    "X_train,y_train = Train[feature_list], Train[y_column]\n",
    "X_test,y_test = Test[feature_list], Test[y_column]"
   ]
  },
  {
   "cell_type": "markdown",
   "metadata": {
    "colab_type": "text",
    "id": "WEIk2B95nXnv"
   },
   "source": [
    "# 2. Utilities"
   ]
  },
  {
   "cell_type": "code",
   "execution_count": 0,
   "metadata": {
    "colab": {},
    "colab_type": "code",
    "id": "9HZrogCWncA2"
   },
   "outputs": [],
   "source": [
    "def evaluate_model(output, prediction):\n",
    "    \"\"\"\n",
    "    Functions to calculate the evaluation metrics of a model\n",
    "    ---------------------------------------------------------\n",
    "    Args:\n",
    "        output: the actual label of the output\n",
    "        prediction: the predicted output label\n",
    "    Returns:\n",
    "        print the confusion matrix, TN, FP, FN, TP, accuracy, precision, recall and MCC\n",
    "    \"\"\"\n",
    "    # Create confusion matrix of\n",
    "    cm = confusion_matrix(output, prediction)\n",
    "    TN, FP, FN, TP = cm.ravel()\n",
    "    print(\"Confusion Matrix: \\n\", cm)\n",
    "    print(\"True negative: %s, False positive: %s, False negative: %s, True positive: %s\" %(TN, FP, FN, TP))\n",
    "\n",
    "    # Performance of decision tree model on validation data\n",
    "    print(\"Accuracy: \", accuracy_score(output, prediction))\n",
    "    print(\"Precision: \", precision_score(output, prediction))\n",
    "    print(\"Recall: \", recall_score(output, prediction))\n",
    "    print(\"MCC: \", matthews_corrcoef(output, prediction))\n"
   ]
  },
  {
   "cell_type": "code",
   "execution_count": 0,
   "metadata": {
    "colab": {},
    "colab_type": "code",
    "id": "maiAnXL6ns47"
   },
   "outputs": [],
   "source": [
    "def ROC_AUC_curve(x, y, model):\n",
    "\n",
    "    # Get predicted scores Pr(y=1): Used as thresholds for calculating TP Rate and FP Rate\n",
    "    score = model.predict_proba(x)[:, 1]\n",
    "\n",
    "    # Plot ROC Curve\n",
    "    fpr, tpr, thresholds = roc_curve(y, score) # fpr: FP Rate, tpr: TP Rate, thresholds: Pr(y=1)\n",
    "    roc_auc = auc(fpr, tpr)\n",
    "\n",
    "    plt.figure(figsize=(10,5))\n",
    "    plt.plot(fpr, tpr, label='AUC = %0.2f'% roc_auc)\n",
    "    plt.legend(loc='lower right')\n",
    "    plt.plot([0,1],[0,1],'r--')\n",
    "    plt.xlim([-0.1,1.1])\n",
    "    plt.ylim([-0.1,1.1])\n",
    "    plt.title('Receiver operating characteristic')\n",
    "    plt.ylabel('True Positive Rate')\n",
    "    plt.xlabel('False Positive Rate')\n",
    "    plt.show()"
   ]
  },
  {
   "cell_type": "code",
   "execution_count": 0,
   "metadata": {
    "colab": {},
    "colab_type": "code",
    "id": "87D7iDGc0qyB"
   },
   "outputs": [],
   "source": [
    "def bayesian_optimisation(input_model, param_space, \n",
    "                          X_train, y_train, X_test, y_test, \n",
    "                          num_eval, mapping = {}, integer_column = []):\n",
    "\n",
    "    \"\"\"\n",
    "    Bayesian Optimisation for hyper parameter tuning\n",
    "    -------------------------------------------------\n",
    "    Args:\n",
    "        input_model: sklearn model\n",
    "        param_space: parameters dictionary\n",
    "        X_train, y_train, X_test, y_test: training and testing datasets\n",
    "        num_eval: number of different combinations of parameters\n",
    "        mapping: the mapping from index to name for discrete parameters\n",
    "        integer_column: name of the parameters that of integer type\n",
    "    Returns:\n",
    "        return the best parameters interms of the training accuracy\n",
    "    \"\"\"\n",
    "    start = time.time()\n",
    "    \n",
    "    def objective_function(params):\n",
    "        model = input_model(**params)\n",
    "        score = cross_val_score(model, X_train, y_train, cv=5).mean()\n",
    "        return {'loss': -score, 'status': STATUS_OK}\n",
    "\n",
    "    trials = Trials()\n",
    "    best_param = fmin(objective_function, \n",
    "                      param_space, \n",
    "                      algo=tpe.suggest, \n",
    "                      max_evals=num_eval, \n",
    "                      trials=trials,\n",
    "                      rstate= np.random.RandomState(1234))\n",
    "    \n",
    "    loss = [x['result']['loss'] for x in trials.trials]\n",
    "    \n",
    "    for key, value in mapping.items():\n",
    "        best_param[key] = value[best_param[key]]\n",
    "    \n",
    "    for column in integer_column:\n",
    "        best_param[column] = int(best_param[column])\n",
    "    \n",
    "    \n",
    "    best_model = input_model(**best_param)\n",
    "                                  \n",
    "    best_model.fit(X_train, y_train)\n",
    "    \n",
    "    y_pred = best_model.predict(X_test)\n",
    "\n",
    "    scoring = {\"acc\": \"accuracy\", \"MCC\": make_scorer(matthews_corrcoef)}\n",
    "    result_dict = cross_validate(best_model, X_train, y_train, scoring=scoring, cv=5)\n",
    "   \n",
    "    \n",
    "    print(\"\")\n",
    "    print(\"##### Results\")\n",
    "    print(\"Score best parameters: \", min(loss)*-1)\n",
    "    print(\"Best parameters: \", best_param)\n",
    "    print(\"Testing Accuracy: \", best_model.score(X_test, y_test))\n",
    "    print(\"Testing MCC: \", matthews_corrcoef(y_test, y_pred))\n",
    "    print(\"Average accuracy in CV: {}\".format(result_dict['test_acc'].mean()))\n",
    "    print(\"Average MCC in CV: {}\".format(result_dict['test_MCC'].mean())) \n",
    "    print(\"Time elapsed: \", time.time() - start)\n",
    "    print(\"Parameter combinations evaluated: \", num_eval)\n",
    "    \n",
    "    return best_param"
   ]
  },
  {
   "cell_type": "code",
   "execution_count": 0,
   "metadata": {
    "colab": {},
    "colab_type": "code",
    "id": "_HTXyyfd3pTr"
   },
   "outputs": [],
   "source": [
    "# genetic algorithm utils\n",
    "def genetic_optimisation(input_model, param_space, integer_params, pop_size, num_parents, max_num_generations, mutation_prob, stoping_rounds):\n",
    "    \"\"\"\n",
    "    Args:\n",
    "        param_space: dictionary with key as the parameter name and value as the space for optimisation.\n",
    "    \"\"\"\n",
    "\n",
    "    arg_lst = list(param_space.keys())\n",
    "\n",
    "    def populate_first_gen(param_space, pop_size, integer_params): \n",
    "        new_generation = []\n",
    "        for i in range(pop_size):\n",
    "            new_individual = {}\n",
    "            for key, value in param_space.items():\n",
    "                # TODO: fix the sudo handling\n",
    "                if not isinstance(value, list):\n",
    "                    new_individual[key] = value\n",
    "                elif len(value) == 1:\n",
    "                    new_individual[key] = value[0]\n",
    "                if all((isinstance(x, int) or isinstance(x, float)) for x in value):\n",
    "                    if key in integer_params: \n",
    "                        new_individual[key] = random.randint(min(value), max(value))\n",
    "                    else:\n",
    "                        new_individual[key] = np.random.uniform(min(value), max(value))\n",
    "                elif all(isinstance(x, str) for x in value):\n",
    "                    new_individual[key] = np.random.choice(value)\n",
    "            new_generation.append(new_individual)\n",
    "        return new_generation\n",
    "\n",
    "    def crossover(parents, offspring_size):\n",
    "        offspring = []\n",
    "\n",
    "        for k in range(offspring_size):\n",
    "            # First parent to mate.\n",
    "            \n",
    "            parent1 = parents[k%len(parents)]\n",
    "            # print('pre_crossover parent 1: {}'.format(parent1))\n",
    "            # randomly select half of the parameters and set to zeros.\n",
    "            args_parent1_gene = random.sample(arg_lst, len(arg_lst)//2)\n",
    "            parent1_gene = {key: value for key, value in parent1.items() if key in args_parent1_gene}        \n",
    "\n",
    "            # Index of the second parent to mate.\n",
    "            # print((k+1)%len(parents))\n",
    "            parent2 = parents[(k+1)%len(parents)]\n",
    "            # print('pre_crossover parent 1: {}'.format(parent2))\n",
    "            # randomly select half of the parameters and set to zeros.\n",
    "            args_parent2_gene = [x for x in arg_lst if x not in args_parent1_gene]\n",
    "            parent2_gene = {key: value for key, value in parent2.items() if key in args_parent2_gene}\n",
    "\n",
    "            # create current offsprint as the summation of the two parents.\n",
    "            current_offspring = {**parent1_gene, **parent2_gene}\n",
    "            # print('after cross: {}'.format(current_offspring))\n",
    "\n",
    "            offspring.append(current_offspring)\n",
    "        return offspring\n",
    "\n",
    "    def mutation(offspring_crossover):\n",
    "        # Out of mutation_prob, pick one parameter from the param dictionary and alter it by +-10% of its value \n",
    "        # Mutation changes a single gene in each offspring randomly.\n",
    "        for idx in range(len(offspring_crossover)):\n",
    "            # print(offspring_crossover[idx])\n",
    "            random_signal = random.random() \n",
    "            if random_signal <= mutation_prob:\n",
    "\n",
    "                # print('pre mutation: {}'.format(offspring_crossover[idx]))\n",
    "                random_key = np.random.choice(arg_lst)\n",
    "                current_value = offspring_crossover[idx][random_key]\n",
    "                if isinstance(current_value, float) or isinstance(current_value, int):\n",
    "                    upper_bound = max(param_space[random_key])\n",
    "                    lower_bound = min(param_space[random_key])\n",
    "                    if random_key in integer_params:\n",
    "                        all_values = list(range(min(param_space[random_key]), max(param_space[random_key]) + 1))\n",
    "                        if len(all_values) > 1:\n",
    "                            # hard coding avoid error\n",
    "                            all_values.remove(int(current_value))\n",
    "\n",
    "                        mutated_value = int(np.random.choice(all_values))\n",
    "                    else:\n",
    "                        mutated_value = current_value * (1 + np.random.uniform(-1, 1))\n",
    "                \n",
    "                    mutated_value = min(upper_bound, max(lower_bound, mutated_value))\n",
    "                elif isinstance(current_value, str):\n",
    "                    all_choices = param_space[random_key].copy()\n",
    "                    if len(all_choices) > 1:\n",
    "                        all_choices.remove(current_value)\n",
    "\n",
    "                    mutated_value = np.random.choice(all_choices)\n",
    "                offspring_crossover[idx][random_key] = mutated_value\n",
    "                # print('after mutation: {}'.format(offspring_crossover[idx]))\n",
    "        return offspring_crossover\n",
    "\n",
    "    #Creating the initial population.\n",
    "    current_generation = populate_first_gen(param_space, pop_size, integer_params)\n",
    "\n",
    "    # stopping criteria\n",
    "    last_best = None\n",
    "    still_count = 0\n",
    "    generation_count = 0\n",
    "\n",
    "    # best individual_table\n",
    "    best_table = pd.DataFrame(columns = ['fitness', 'params'])\n",
    "\n",
    "    # print(current_population)\n",
    "\n",
    "    while still_count < stoping_rounds and generation_count < max_num_generations:\n",
    "        # print(\"Generation : \", current_generation)\n",
    "        # Measing the fitness of each chromosome in the population.\n",
    "        fitness_all = [input_model(params) for params in current_generation]\n",
    "\n",
    "        # Selecting the best parents in the population for mating.\n",
    "        fitness_table = pd.DataFrame({'params': current_generation, 'fitness': fitness_all}).sort_values('fitness', ascending=False)\n",
    "        # print(fitness_table)\n",
    "        parents = fitness_table['params'].iloc[:num_parents].tolist()\n",
    "        # print(parents)\n",
    "\n",
    "        # Generating next generation using crossover.\n",
    "        offspring_crossover = crossover(parents, offspring_size=pop_size-num_parents)\n",
    "\n",
    "        # Adding some variations to the offsrping using mutation.\n",
    "        offspring_mutation = mutation(offspring_crossover)\n",
    "\n",
    "        # Creating the new population based on the parents and offspring.\n",
    "        current_generation = parents + offspring_mutation\n",
    "\n",
    "        # record the best individuals\n",
    "        best_table = best_table.append(fitness_table.iloc[0, :])\n",
    "        current_best_fitness = fitness_table['fitness'][0]\n",
    "        current_best_params = fitness_table['params'][0]\n",
    "\n",
    "        # The best result in the current iteration.\n",
    "        print(\"Best fitness : {} with params: {}\".format(current_best_fitness, current_best_params) )\n",
    "\n",
    "        if current_best_fitness == last_best:\n",
    "            still_count += 1\n",
    "        else:\n",
    "            still_count = 0\n",
    "        generation_count += 1\n",
    "        last_best = current_best_fitness\n",
    "\n",
    "    best_table = best_table.sort_values('fitness', ascending=False)\n",
    "    # print(best_table['fitness'][0])\n",
    "\n",
    "    return {\"best fitness\": best_table['fitness'].iloc[0], \n",
    "            \"best params\": best_table['params'].iloc[0], \n",
    "            \"history\": best_table}"
   ]
  },
  {
   "cell_type": "markdown",
   "metadata": {
    "colab_type": "text",
    "id": "Gd7UsEpTBOTY"
   },
   "source": [
    "# 3. Full Model"
   ]
  },
  {
   "cell_type": "markdown",
   "metadata": {
    "colab_type": "text",
    "id": "WXP6F8Kc5csI"
   },
   "source": [
    "#### 3.1 (3 points) Apply three different techniques (logistic regression, tree classification, XGBoost) to all attributes in the dataset (FULL-MODEL) to predict loan default. \n",
    "#### Compute the accuracy and MCC of each measure to compare how good each technique is at using these attributes at predicting default, using a test set. "
   ]
  },
  {
   "cell_type": "markdown",
   "metadata": {
    "colab_type": "text",
    "id": "Monf6h5o_qQa"
   },
   "source": [
    "### 3.1.1 Logistic Regression "
   ]
  },
  {
   "cell_type": "code",
   "execution_count": 0,
   "metadata": {
    "colab": {
     "base_uri": "https://localhost:8080/",
     "height": 101
    },
    "colab_type": "code",
    "id": "cSOUZ_RkBP13",
    "outputId": "61c8831a-326c-4770-cfbd-fbad26bb8f32"
   },
   "outputs": [
    {
     "data": {
      "text/plain": [
       "LogisticRegression(C=1.0, class_weight=None, dual=False, fit_intercept=True,\n",
       "                   intercept_scaling=1, l1_ratio=None, max_iter=200,\n",
       "                   multi_class='warn', n_jobs=None, penalty='l1',\n",
       "                   random_state=1234, solver='liblinear', tol=0.0001, verbose=0,\n",
       "                   warm_start=False)"
      ]
     },
     "execution_count": 18,
     "metadata": {
      "tags": []
     },
     "output_type": "execute_result"
    }
   ],
   "source": [
    "from sklearn.linear_model import LogisticRegression\n",
    "\n",
    "# add l1 regularization \n",
    "lr_model = LogisticRegression(fit_intercept=True, \n",
    "                              random_state=static_random_state, \n",
    "                              solver = 'liblinear',\n",
    "                              penalty = 'l1',\n",
    "                              max_iter = 200)\n",
    "\n",
    "lr_model.fit(X_train, y_train)"
   ]
  },
  {
   "cell_type": "code",
   "execution_count": 0,
   "metadata": {
    "colab": {
     "base_uri": "https://localhost:8080/",
     "height": 485
    },
    "colab_type": "code",
    "id": "kJgfTtoSBlU7",
    "outputId": "072a9f9f-f992-48d6-f9d5-1fc10ba536fd"
   },
   "outputs": [
    {
     "name": "stdout",
     "output_type": "stream",
     "text": [
      "Confusion Matrix: \n",
      " [[415  82]\n",
      " [ 11  91]]\n",
      "True negative: 415, False positive: 82, False negative: 11, True positive: 91\n",
      "Accuracy:  0.8447412353923205\n",
      "Precision:  0.5260115606936416\n",
      "Recall:  0.8921568627450981\n",
      "MCC:  0.6030933571329448\n"
     ]
    },
    {
     "data": {
      "image/png": "[encoded data removed]",
      "text/plain": [
       "<Figure size 720x360 with 1 Axes>"
      ]
     },
     "metadata": {
      "tags": []
     },
     "output_type": "display_data"
    }
   ],
   "source": [
    "lr_prediction = lr_model.predict(X_test)\n",
    "evaluate_model(y_test, lr_prediction)\n",
    "ROC_AUC_curve(X_test, y_test, lr_model)"
   ]
  },
  {
   "cell_type": "code",
   "execution_count": 0,
   "metadata": {
    "colab": {
     "base_uri": "https://localhost:8080/",
     "height": 50
    },
    "colab_type": "code",
    "id": "MnlKJDtNEgrK",
    "outputId": "56e6f479-5bed-41a3-84af-18f4e211e0c6"
   },
   "outputs": [
    {
     "name": "stdout",
     "output_type": "stream",
     "text": [
      "Average accuracy in CV: 0.8716216216216216\n",
      "Average MCC in CV: 0.7472345569764828\n"
     ]
    }
   ],
   "source": [
    "scoring = {\"acc\": \"accuracy\", \"MCC\": make_scorer(matthews_corrcoef)}\n",
    "  \n",
    "result_dict = cross_validate(lr_model, X_train, y_train, scoring=scoring, cv=5)\n",
    "print(\"Average accuracy in CV: {}\".format(result_dict['test_acc'].mean()))\n",
    "print(\"Average MCC in CV: {}\".format(result_dict['test_MCC'].mean())) "
   ]
  },
  {
   "cell_type": "markdown",
   "metadata": {
    "colab_type": "text",
    "id": "SHSa1RSq_ZAV"
   },
   "source": [
    "### 3.1.1.2 Bayesian Optimisation for logistic regression"
   ]
  },
  {
   "cell_type": "code",
   "execution_count": 0,
   "metadata": {
    "colab": {},
    "colab_type": "code",
    "id": "OC4rOXAg_gVZ"
   },
   "outputs": [],
   "source": [
    "# parameter tuning for logistic regression\n",
    "param_hyperopt_lr= {\n",
    "    'penalty': hp.choice('penalty', ['l1','l2']),\n",
    "    'C': hp.uniform('C', 0.01, 10),\n",
    "    'max_iter': hp.uniform('max_iter', 100, 200),\n",
    "    'random_state': static_random_state,\n",
    "    'tol': hp.uniform('tol', 1e-4, 1e-3),\n",
    "    'fit_intercept': True\n",
    "}\n",
    "\n",
    "lr_map = {'penalty': {0: 'l1', 1: 'l2'}}"
   ]
  },
  {
   "cell_type": "code",
   "execution_count": 0,
   "metadata": {
    "colab": {
     "base_uri": "https://localhost:8080/",
     "height": 202
    },
    "colab_type": "code",
    "id": "lIHjHYXMHNiy",
    "outputId": "218e89bc-e787-4dcb-eb74-d2e714c94b0d"
   },
   "outputs": [
    {
     "name": "stdout",
     "output_type": "stream",
     "text": [
      "100%|██████████| 20/20 [00:28<00:00,  2.33s/it, best loss: -0.8984144144144144]\n",
      "\n",
      "##### Results\n",
      "Score best parameters:  0.8984144144144144\n",
      "Best parameters:  {'C': 1.596776603129865, 'max_iter': 116.04666602177514, 'penalty': 'l2', 'tol': 0.0008057080034000717}\n",
      "Testing Accuracy:  0.8647746243739566\n",
      "Testing MCC:  0.6745313497347754\n",
      "Average accuracy in CV: 0.8984144144144144\n",
      "Average MCC in CV: 0.8062621285146555\n",
      "Time elapsed:  28.688103675842285\n",
      "Parameter combinations evaluated:  20\n"
     ]
    }
   ],
   "source": [
    "best_lr = bayesian_optimisation(LogisticRegression, param_hyperopt_lr, \n",
    "                                X_train, y_train, X_test, y_test, \n",
    "                                20, mapping=lr_map)"
   ]
  },
  {
   "cell_type": "markdown",
   "metadata": {
    "colab_type": "text",
    "id": "lrwMRvOiJSP4"
   },
   "source": [
    "### 3.1.2 Decision Tree"
   ]
  },
  {
   "cell_type": "code",
   "execution_count": 0,
   "metadata": {
    "colab": {},
    "colab_type": "code",
    "id": "oAgy3JpaJU-Z"
   },
   "outputs": [],
   "source": [
    "from sklearn.tree import DecisionTreeClassifier\n",
    "\n",
    "dt_model = DecisionTreeClassifier(criterion='entropy', # Entropy and information gain\n",
    "        max_depth=3, # Stopping condition: maximum tree depth\n",
    "        min_samples_split=50, # Stopping condition: Minimum number of samples required to split an internal node\n",
    "        min_samples_leaf=10, # Stopping condition: Minimum number of samples required to be at a leaf node\n",
    "        max_leaf_nodes=10, # Stopping condition: If None then unlimited number of leaf nodes\n",
    "        min_impurity_decrease=0, # Stopping condition: A node will be split if this split induces a decrease of the impurity greater than or equal to this value\n",
    "        random_state=static_random_state\n",
    ")"
   ]
  },
  {
   "cell_type": "code",
   "execution_count": 0,
   "metadata": {
    "colab": {
     "base_uri": "https://localhost:8080/",
     "height": 485
    },
    "colab_type": "code",
    "id": "YOaWCvj8JfWJ",
    "outputId": "113f30fd-684f-4553-f798-b54367ee693d"
   },
   "outputs": [
    {
     "name": "stdout",
     "output_type": "stream",
     "text": [
      "Confusion Matrix: \n",
      " [[420  77]\n",
      " [  5  97]]\n",
      "True negative: 420, False positive: 77, False negative: 5, True positive: 97\n",
      "Accuracy:  0.8631051752921536\n",
      "Precision:  0.5574712643678161\n",
      "Recall:  0.9509803921568627\n",
      "MCC:  0.6590979824465865\n"
     ]
    },
    {
     "data": {
      "image/png": "[encoded data removed]",
      "text/plain": [
       "<Figure size 720x360 with 1 Axes>"
      ]
     },
     "metadata": {
      "tags": []
     },
     "output_type": "display_data"
    }
   ],
   "source": [
    "dt_model.fit(X_train, y_train)\n",
    "dt_prediction = dt_model.predict(X_test)\n",
    "\n",
    "evaluate_model(y_test, dt_prediction)\n",
    "ROC_AUC_curve(X_test, y_test, dt_model)"
   ]
  },
  {
   "cell_type": "code",
   "execution_count": 0,
   "metadata": {
    "colab": {
     "base_uri": "https://localhost:8080/",
     "height": 50
    },
    "colab_type": "code",
    "id": "HxgTTK0YKjln",
    "outputId": "3c8838f1-549c-478a-87aa-d62051070c47"
   },
   "outputs": [
    {
     "name": "stdout",
     "output_type": "stream",
     "text": [
      "Average accuracy in CV: 0.8943783783783784\n",
      "Average MCC in CV: 0.7980255839398331\n"
     ]
    }
   ],
   "source": [
    "# cross-validation mean accuracy\n",
    "scoring = {\"acc\": \"accuracy\", \"MCC\": make_scorer(matthews_corrcoef)}\n",
    "    \n",
    "result_dict = cross_validate(dt_model, X_train, y_train, scoring=scoring, cv=5)\n",
    "print(\"Average accuracy in CV: {}\".format(result_dict['test_acc'].mean()))\n",
    "print(\"Average MCC in CV: {}\".format(result_dict['test_MCC'].mean())) "
   ]
  },
  {
   "cell_type": "markdown",
   "metadata": {
    "colab_type": "text",
    "id": "_1neXrUlK7sv"
   },
   "source": [
    "### 3.1.2.2 Bayesian Optimization for decision tree"
   ]
  },
  {
   "cell_type": "code",
   "execution_count": 0,
   "metadata": {
    "colab": {},
    "colab_type": "code",
    "id": "EaW0I91GLCoO"
   },
   "outputs": [],
   "source": [
    "param_decisiontree= {\n",
    "    'criterion': hp.choice('criterion', ['entropy', 'gini']),\n",
    "    'splitter': hp.choice('splitter', ['best', 'random']),\n",
    "    'max_depth': scope.int(hp.quniform('max_depth', 3, 10, 1)),\n",
    "    'min_samples_split': scope.int(hp.quniform('min_samples_split', 10, 60, 1)),\n",
    "    'min_samples_leaf': scope.int(hp.quniform('min_samples_leaf', 5, 30, 1)),\n",
    "    'max_leaf_nodes': scope.int(hp.quniform('max_leaf_nodes',5, 30, 1)),\n",
    "    'random_state': 1234,\n",
    "}\n",
    "\n",
    "dt_integer_columns = ['max_depth','min_samples_split','max_leaf_nodes','min_samples_leaf']\n",
    "dt_maps = {'criterion': {0: 'entropy', 1:'gini'},\n",
    "          'splitter': {0: 'best', 1: 'random'}}"
   ]
  },
  {
   "cell_type": "code",
   "execution_count": 0,
   "metadata": {
    "colab": {
     "base_uri": "https://localhost:8080/",
     "height": 202
    },
    "colab_type": "code",
    "id": "nb8i1hdhLOqJ",
    "outputId": "e68b5a07-053d-48d2-ebea-3fe5cbb5d299"
   },
   "outputs": [
    {
     "name": "stdout",
     "output_type": "stream",
     "text": [
      "100%|██████████| 100/100 [00:06<00:00, 14.78it/s, best loss: -0.9064144144144144]\n",
      "\n",
      "##### Results\n",
      "Score best parameters:  0.9064144144144144\n",
      "Best parameters:  {'criterion': 'entropy', 'max_depth': 8, 'max_leaf_nodes': 7, 'min_samples_leaf': 9, 'min_samples_split': 24, 'splitter': 'random'}\n",
      "Testing Accuracy:  0.8447412353923205\n",
      "Testing MCC:  0.6207426173099404\n",
      "Average accuracy in CV: 0.896990990990991\n",
      "Average MCC in CV: 0.8057254015657962\n",
      "Time elapsed:  6.824342250823975\n",
      "Parameter combinations evaluated:  100\n"
     ]
    }
   ],
   "source": [
    "baset_dt_param = bayesian_optimisation(DecisionTreeClassifier, param_decisiontree, \n",
    "                                 X_train, y_train, X_test, y_test, \n",
    "                                 100, dt_maps, dt_integer_columns)"
   ]
  },
  {
   "cell_type": "markdown",
   "metadata": {
    "colab_type": "text",
    "id": "FVglt952Lf1B"
   },
   "source": [
    "### 3.1.3 XGBoost"
   ]
  },
  {
   "cell_type": "markdown",
   "metadata": {
    "colab_type": "text",
    "id": "3l9o-tRcOXQu"
   },
   "source": [
    "#### 3.1.3.1 Scikit-learn API"
   ]
  },
  {
   "cell_type": "code",
   "execution_count": 0,
   "metadata": {
    "colab": {
     "base_uri": "https://localhost:8080/",
     "height": 485
    },
    "colab_type": "code",
    "id": "F9fqomEUMckS",
    "outputId": "2d137db6-87ed-4c74-f961-0021428f2c30"
   },
   "outputs": [
    {
     "name": "stdout",
     "output_type": "stream",
     "text": [
      "Confusion Matrix: \n",
      " [[429  68]\n",
      " [  8  94]]\n",
      "True negative: 429, False positive: 68, False negative: 8, True positive: 94\n",
      "Accuracy:  0.8731218697829716\n",
      "Precision:  0.5802469135802469\n",
      "Recall:  0.9215686274509803\n",
      "MCC:  0.6640642599272456\n"
     ]
    },
    {
     "data": {
      "image/png": "[encoded data removed]",
      "text/plain": [
       "<Figure size 720x360 with 1 Axes>"
      ]
     },
     "metadata": {
      "tags": []
     },
     "output_type": "display_data"
    }
   ],
   "source": [
    "xgb1 = xgb.XGBClassifier(n_estimators=500, random_state=static_random_state)\n",
    "xgb1_model = xgb1.fit(X_train, y_train)\n",
    "\n",
    "# Get predicted labels for validation data\n",
    "xgb1_prediction = xgb1_model.predict(X_test)\n",
    "\n",
    "evaluate_model(y_test, xgb1_prediction)\n",
    "ROC_AUC_curve(X_test, y_test, xgb1_model)"
   ]
  },
  {
   "cell_type": "code",
   "execution_count": 0,
   "metadata": {
    "colab": {
     "base_uri": "https://localhost:8080/",
     "height": 50
    },
    "colab_type": "code",
    "id": "doFoqDUINDJJ",
    "outputId": "34bfb4eb-bddd-46f5-de42-66b270138e9b"
   },
   "outputs": [
    {
     "name": "stdout",
     "output_type": "stream",
     "text": [
      "Average accuracy in CV: 0.913045045045045\n",
      "Average MCC in CV: 0.8281153325687998\n"
     ]
    }
   ],
   "source": [
    "# cross-validation mean accuracy\n",
    "scoring = {\"acc\": \"accuracy\", \"MCC\": make_scorer(matthews_corrcoef)}\n",
    "    \n",
    "result_dict = cross_validate(xgb1_model, X_train, y_train, scoring=scoring, cv=5)\n",
    "print(\"Average accuracy in CV: {}\".format(result_dict['test_acc'].mean()))\n",
    "print(\"Average MCC in CV: {}\".format(result_dict['test_MCC'].mean())) "
   ]
  },
  {
   "cell_type": "markdown",
   "metadata": {
    "colab_type": "text",
    "id": "jDDSLe1NOe-2"
   },
   "source": [
    "#### 3.1.3.2 xgboost API"
   ]
  },
  {
   "cell_type": "code",
   "execution_count": 0,
   "metadata": {
    "colab": {},
    "colab_type": "code",
    "id": "Mi3tMm9MLj95"
   },
   "outputs": [],
   "source": [
    "# further divide validation set from training set\n",
    "X_train_train, X_valid, y_train_train, y_valid = train_test_split(X_train, y_train, test_size=0.1, random_state=static_random_state)\n",
    "\n",
    "eval_set = [(X_valid, y_valid)]\n",
    "\n",
    "dvalid = xgb.DMatrix(X_valid, y_valid)\n",
    "d_train = xgb.DMatrix(X_train_train, y_train_train)\n",
    "d_test = xgb.DMatrix(X_test, y_test)\n",
    "\n",
    "watchlist= [(dvalid , 'val'), (d_train, 'train')]"
   ]
  },
  {
   "cell_type": "code",
   "execution_count": 0,
   "metadata": {
    "colab": {},
    "colab_type": "code",
    "id": "JCAVl9l1O19c"
   },
   "outputs": [],
   "source": [
    "# parameters for XGBoost\n",
    "params = {\n",
    "    'task': 'train',\n",
    "    'boosting_type': 'gbdt',\n",
    "    'objective': 'binary:logistic',\n",
    "    'metric': {'error'},\n",
    "    'num_leaves': 10,\n",
    "    'min_sum_hessian_in_leaf':20,\n",
    "    'max_depth': 8,\n",
    "    'learning_rate': 0.1,\n",
    "    'num_threads':6,\n",
    "    'feature_fraction':0.6894,\n",
    "    'bagging_fraction':0.4218,\n",
    "    'max_drop':5,\n",
    "    'drop_rate':0.0123,\n",
    "    'min_data_in_leaf':10,\n",
    "    'bagging_fraction': 0.85,\n",
    "    'bagging_freq': 1,\n",
    "    'alpha':1,\n",
    "    'lambda': 0.05,\n",
    "    'verbose': 1,\n",
    "}"
   ]
  },
  {
   "cell_type": "code",
   "execution_count": 0,
   "metadata": {
    "colab": {
     "base_uri": "https://localhost:8080/",
     "height": 386
    },
    "colab_type": "code",
    "id": "Qa9J41ZwO6Xi",
    "outputId": "53a72960-6a6a-489f-9531-1de776aff355"
   },
   "outputs": [
    {
     "name": "stdout",
     "output_type": "stream",
     "text": [
      "[0]\tval-error:0.173333\ttrain-error:0.047548\n",
      "Multiple eval metrics have been passed: 'train-error' will be used for early stopping.\n",
      "\n",
      "Will train until train-error hasn't improved in 50 rounds.\n",
      "[10]\tval-error:0.106667\ttrain-error:0.026746\n",
      "[20]\tval-error:0.106667\ttrain-error:0.016345\n",
      "[30]\tval-error:0.106667\ttrain-error:0.007429\n",
      "[40]\tval-error:0.106667\ttrain-error:0.002972\n",
      "[50]\tval-error:0.106667\ttrain-error:0.002972\n",
      "[60]\tval-error:0.106667\ttrain-error:0.001486\n",
      "[70]\tval-error:0.106667\ttrain-error:0.001486\n",
      "[80]\tval-error:0.106667\ttrain-error:0\n",
      "[90]\tval-error:0.106667\ttrain-error:0\n",
      "[99]\tval-error:0.106667\ttrain-error:0\n",
      "Confusion Matrix: \n",
      " [[423  74]\n",
      " [  5  97]]\n",
      "True negative: 423, False positive: 74, False negative: 5, True positive: 97\n",
      "Accuracy:  0.8681135225375626\n",
      "Precision:  0.5672514619883041\n",
      "Recall:  0.9509803921568627\n",
      "MCC:  0.6675439056227713\n"
     ]
    }
   ],
   "source": [
    "xgmodel = xgb.train(params=params, dtrain=d_train, num_boost_round=100, early_stopping_rounds=50,\\\n",
    "                    evals=watchlist, verbose_eval=10) # look at above implementation\n",
    "\n",
    "y_pred = xgmodel.predict(d_test)>0.5\n",
    "evaluate_model(y_test, y_pred)"
   ]
  },
  {
   "cell_type": "code",
   "execution_count": 0,
   "metadata": {
    "colab": {
     "base_uri": "https://localhost:8080/",
     "height": 101
    },
    "colab_type": "code",
    "id": "-o6j6RBDPw14",
    "outputId": "ae976e87-a860-4d33-cc20-827f71e70bbd"
   },
   "outputs": [
    {
     "name": "stdout",
     "output_type": "stream",
     "text": [
      "[0]\ttrain-error:0.057954+0.0107533\ttest-error:0.144245+0.0480804\n",
      "[10]\ttrain-error:0.0237746+0.0032009\ttest-error:0.0877612+0.0343153\n",
      "[20]\ttrain-error:0.011886+0.00147802\ttest-error:0.0892426+0.0348504\n",
      "[30]\ttrain-error:0.0055734+0.00203753\ttest-error:0.0892536+0.0351895\n",
      "[40]\ttrain-error:0.003344+0.00139243\ttest-error:0.0892536+0.0351895\n"
     ]
    }
   ],
   "source": [
    "# Cross validation\n",
    "xgcv_results = xgb.cv(params=params, dtrain=d_train, nfold = 5, num_boost_round=100, early_stopping_rounds=30,\\\n",
    "                    verbose_eval=10, seed = static_random_state, shuffle = True)"
   ]
  },
  {
   "cell_type": "code",
   "execution_count": 0,
   "metadata": {
    "colab": {
     "base_uri": "https://localhost:8080/",
     "height": 34
    },
    "colab_type": "code",
    "id": "7izqLrEpQI9C",
    "outputId": "c3fe5a18-dd8c-469c-f4fc-3b71ed44679f"
   },
   "outputs": [
    {
     "name": "stdout",
     "output_type": "stream",
     "text": [
      "Average testing accuracy in cross validation for XGBoost: 0.90155054\n"
     ]
    }
   ],
   "source": [
    "print(\"Average testing accuracy in cross validation for XGBoost: {}\".format(\n",
    "    1 - xgcv_results['test-error-mean'].mean()))"
   ]
  },
  {
   "cell_type": "markdown",
   "metadata": {
    "colab_type": "text",
    "id": "F7Tg5NGoQW6Q"
   },
   "source": [
    "#### 3.1.2.3 Bayesian Optimisation for xgboost"
   ]
  },
  {
   "cell_type": "code",
   "execution_count": 0,
   "metadata": {
    "colab": {},
    "colab_type": "code",
    "id": "Koa7C3aKQhWM"
   },
   "outputs": [],
   "source": [
    "## Bayesian Optimisation\n",
    "param_xgboost= {\n",
    "    'learning_rate': hp.loguniform('learning_rate', np.log(0.01), np.log(1)),\n",
    "    'max_depth': scope.int(hp.quniform('max_depth', 5, 15, 1)),\n",
    "    'n_estimators': scope.int(hp.quniform('n_estimators', 5, 35, 1)),\n",
    "    'num_leaves': scope.int(hp.quniform('num_leaves', 5, 50, 1)),\n",
    "    'booster': hp.choice('booster', ['gbtree', 'dart', 'gblinear']),\n",
    "    'colsample_bytree': hp.uniform('colsample_by_tree', 0.6, 1.0),\n",
    "    'reg_lambda': hp.uniform('reg_lambda', 0.0, 2.0),\n",
    "    'reg_alpha': hp.uniform('reg_alpha', 0.0, 2.0),\n",
    "    'random_state': static_random_state,\n",
    "    \"objective\": \"binary:logistic\"\n",
    "}\n",
    "\n",
    "xgboost_map = {'booster': {0: 'gbtree', 1: 'dart', 2: 'gblinear'}}\n",
    "xgboost_integer_columns = ['max_depth', 'n_estimators', 'num_leaves']"
   ]
  },
  {
   "cell_type": "code",
   "execution_count": 0,
   "metadata": {
    "colab": {
     "base_uri": "https://localhost:8080/",
     "height": 222
    },
    "colab_type": "code",
    "id": "IJBLlOGYQn15",
    "outputId": "4b95a39b-4425-45ee-aded-da7bf8ae2716"
   },
   "outputs": [
    {
     "name": "stdout",
     "output_type": "stream",
     "text": [
      "100%|██████████| 100/100 [00:41<00:00,  2.05it/s, best loss: -0.9144324324324324]\n",
      "\n",
      "##### Results\n",
      "Score best parameters:  0.9144324324324324\n",
      "Best parameters:  {'booster': 'gbtree', 'colsample_by_tree': 0.6042324387254887, 'learning_rate': 0.0582031999929346, 'max_depth': 12, 'n_estimators': 27, 'num_leaves': 41, 'reg_alpha': 1.5160936318447282, 'reg_lambda': 0.3169320418451438}\n",
      "Testing Accuracy:  0.8614357262103506\n",
      "Testing MCC:  0.6648285429893949\n",
      "Average accuracy in CV: 0.9023783783783784\n",
      "Average MCC in CV: 0.8103232093016712\n",
      "Time elapsed:  42.59168791770935\n",
      "Parameter combinations evaluated:  100\n"
     ]
    }
   ],
   "source": [
    "best_xgboost_param = bayesian_optimisation(xgb.XGBClassifier, param_xgboost,\n",
    "                                     X_train, y_train, X_test, y_test,\n",
    "                                     100, xgboost_map, xgboost_integer_columns)"
   ]
  },
  {
   "cell_type": "markdown",
   "metadata": {
    "colab_type": "text",
    "id": "kIjJWAY37S3H"
   },
   "source": [
    "##### 3.2 (2 points) Describe the strategy you took in terms of training the data and selecting the appropriate parameters to best avoid overfitting. This should also be applied in the above and subsequent questions for consistency. *Hint – you may further divide the training data*"
   ]
  },
  {
   "cell_type": "markdown",
   "metadata": {
    "colab_type": "text",
    "id": "v_nXaQ8-RBZg"
   },
   "source": [
    "# 4. Reduced Model"
   ]
  },
  {
   "cell_type": "markdown",
   "metadata": {
    "colab_type": "text",
    "id": "nZf0Ni9Zu6Z2"
   },
   "source": [
    "Possible features to consider:\n",
    "* installment: The monthly payment owed by the borrower if the loan originates..\n",
    "* chargeoff_within_12_mths: Number of charge-offs within 12 months\n",
    "* dti: A ratio calculated using the borrower’s total monthly debt payments on the total debt obligations, excluding mortgage and the requested LC loan, divided by the borrower’s self-reported monthly income\n",
    "* int_rate: Interest Rate on the loan\n",
    "* tot_cur_bal: Total current balance of all accounts\n",
    "* anual_inc: The self-reported annual income provided by the borrower during registration.\n",
    "* delinq_amnt: The past-due amount owed for the accounts on which the borrower is now delinquent.\n",
    "* total_bal_ex_mort: Total credit balance excluding mortgage\n",
    "* loan_amnt: The listed amount of the loan applied for by the borrower. If at some point in time, the credit department reduces the loan amount, then it will be reflected in this value\n",
    "* mths_since_last_delinq: The number of months since the borrower's last delinquency."
   ]
  },
  {
   "cell_type": "code",
   "execution_count": 0,
   "metadata": {
    "colab": {},
    "colab_type": "code",
    "id": "54xlCMZxRDui"
   },
   "outputs": [],
   "source": [
    "selected_features = [\n",
    "    'installment',\n",
    "    'chargeoff_within_12_mths',\n",
    "    'dti',\n",
    "    'int_rate',\n",
    "    'tot_cur_bal',\n",
    "    'loan_amnt',\n",
    "    'delinq_amnt',\n",
    "    'total_bal_ex_mort',\n",
    "    'mths_since_last_delinq',\n",
    "    'annual_inc',\n",
    "]\n",
    "\n",
    "X_train_reduced = Train[selected_features]\n",
    "X_test_reduced = Test[selected_features]"
   ]
  },
  {
   "cell_type": "code",
   "execution_count": 0,
   "metadata": {
    "colab": {
     "base_uri": "https://localhost:8080/",
     "height": 485
    },
    "colab_type": "code",
    "id": "qtGvE5SbvBDb",
    "outputId": "ccbb48aa-932f-4133-f6c5-3a1e8c1dbdc5"
   },
   "outputs": [
    {
     "name": "stdout",
     "output_type": "stream",
     "text": [
      "Confusion Matrix: \n",
      " [[299  41]\n",
      " [198  61]]\n",
      "True negative: 299, False positive: 41, False negative: 198, True positive: 61\n",
      "Accuracy:  0.6010016694490818\n",
      "Precision:  0.5980392156862745\n",
      "Recall:  0.23552123552123552\n",
      "MCC:  0.15148017704873407\n"
     ]
    },
    {
     "data": {
      "image/png": "[encoded data removed]",
      "text/plain": [
       "<Figure size 720x360 with 1 Axes>"
      ]
     },
     "metadata": {
      "tags": []
     },
     "output_type": "display_data"
    }
   ],
   "source": [
    "# Logistic Regression model using 10 selected features\n",
    "lr_model_reduced = LogisticRegression(fit_intercept=True, random_state=1234, solver = 'liblinear',penalty = 'l1',max_iter = 200)\n",
    "lr_model_reduced.fit(X_train_reduced, y_train)\n",
    "y_pred = lr_model_reduced.predict(X_test_reduced)\n",
    "evaluate_model(y_pred, y_test)\n",
    "ROC_AUC_curve(X_test_reduced, y_test, lr_model_reduced)"
   ]
  },
  {
   "cell_type": "code",
   "execution_count": 0,
   "metadata": {
    "colab": {
     "base_uri": "https://localhost:8080/",
     "height": 50
    },
    "colab_type": "code",
    "id": "WIHwjEk3vBYR",
    "outputId": "97c13821-ec3b-4423-dc4b-4ff902affaa2"
   },
   "outputs": [
    {
     "name": "stdout",
     "output_type": "stream",
     "text": [
      "Average accuracy in CV: 0.6042702702702702\n",
      "Average MCC in CV: 0.20919417256391082\n"
     ]
    }
   ],
   "source": [
    "# Cross Validation\n",
    "result_dict = cross_validate(lr_model_reduced, X_train_reduced, y_train, scoring=scoring, cv=5)\n",
    "print(\"Average accuracy in CV: {}\".format(result_dict['test_acc'].mean()))\n",
    "print(\"Average MCC in CV: {}\".format(result_dict['test_MCC'].mean())) "
   ]
  },
  {
   "cell_type": "code",
   "execution_count": 0,
   "metadata": {
    "colab": {
     "base_uri": "https://localhost:8080/",
     "height": 202
    },
    "colab_type": "code",
    "id": "H93wFgi2YGGq",
    "outputId": "38624ab9-51f8-4cd1-84c8-2adf4cb3a9f9"
   },
   "outputs": [
    {
     "name": "stdout",
     "output_type": "stream",
     "text": [
      "100%|██████████| 100/100 [00:05<00:00, 17.99it/s, best loss: -0.622990990990991]\n",
      "\n",
      "##### Results\n",
      "Score best parameters:  0.622990990990991\n",
      "Best parameters:  {'C': 0.013580784165136278, 'max_iter': 147.3902288133801, 'penalty': 'l1', 'tol': 0.00046056841460808307}\n",
      "Testing Accuracy:  0.5575959933222037\n",
      "Testing MCC:  0.1459119912171151\n",
      "Average accuracy in CV: 0.6216396396396398\n",
      "Average MCC in CV: 0.24730785318216014\n",
      "Time elapsed:  5.648658514022827\n",
      "Parameter combinations evaluated:  100\n"
     ]
    }
   ],
   "source": [
    "best_lr_param_reduced = bayesian_optimisation(LogisticRegression, param_hyperopt_lr, \n",
    "                                 X_train[selected_features], y_train, X_test[selected_features], y_test, \n",
    "                                 100, lr_map)"
   ]
  },
  {
   "cell_type": "code",
   "execution_count": 0,
   "metadata": {
    "colab": {
     "base_uri": "https://localhost:8080/",
     "height": 485
    },
    "colab_type": "code",
    "id": "Q9VNLoQwvBgv",
    "outputId": "e0893e8b-4379-4801-8923-16cce2577e5c"
   },
   "outputs": [
    {
     "name": "stdout",
     "output_type": "stream",
     "text": [
      "Confusion Matrix: \n",
      " [[348  50]\n",
      " [149  52]]\n",
      "True negative: 348, False positive: 50, False negative: 149, True positive: 52\n",
      "Accuracy:  0.667779632721202\n",
      "Precision:  0.5098039215686274\n",
      "Recall:  0.25870646766169153\n",
      "MCC:  0.16717395489414166\n"
     ]
    },
    {
     "data": {
      "image/png": "[encoded data removed]",
      "text/plain": [
       "<Figure size 720x360 with 1 Axes>"
      ]
     },
     "metadata": {
      "tags": []
     },
     "output_type": "display_data"
    }
   ],
   "source": [
    "# Decision Tree with reduced features\n",
    "dt_model_reduced = DecisionTreeClassifier(criterion='entropy', # Entropy and information gain\n",
    "        max_depth=3, # Stopping condition: maximum tree depth\n",
    "        min_samples_split=50, # Stopping condition: Minimum number of samples required to split an internal node\n",
    "        min_samples_leaf=10, # Stopping condition: Minimum number of samples required to be at a leaf node\n",
    "        max_leaf_nodes=10, # Stopping condition: If None then unlimited number of leaf nodes\n",
    "        min_impurity_decrease=0, # Stopping condition: A node will be split if this split induces a decrease of the impurity greater than or equal to this value\n",
    "        random_state=1234 \n",
    ")\n",
    "\n",
    "dt_model_reduced.fit(X_train_reduced, y_train)\n",
    "dt_prediction = dt_model_reduced.predict(X_test_reduced)\n",
    "evaluate_model(dt_prediction, y_test)\n",
    "ROC_AUC_curve(X_test_reduced, y_test, dt_model_reduced)"
   ]
  },
  {
   "cell_type": "code",
   "execution_count": 0,
   "metadata": {
    "colab": {
     "base_uri": "https://localhost:8080/",
     "height": 50
    },
    "colab_type": "code",
    "id": "q18sztAwwyJC",
    "outputId": "d0e688b6-c63e-470c-8728-9225b01c7804"
   },
   "outputs": [
    {
     "name": "stdout",
     "output_type": "stream",
     "text": [
      "Average accuracy in CV: 0.5761261261261261\n",
      "Average MCC in CV: 0.15472742862643338\n"
     ]
    }
   ],
   "source": [
    "# Cross Validation for reduced decision tree\n",
    "result_dict = cross_validate(dt_model_reduced, X_train_reduced, y_train, scoring=scoring, cv=5)\n",
    "print(\"Average accuracy in CV: {}\".format(result_dict['test_acc'].mean()))\n",
    "print(\"Average MCC in CV: {}\".format(result_dict['test_MCC'].mean())) "
   ]
  },
  {
   "cell_type": "code",
   "execution_count": 0,
   "metadata": {
    "colab": {
     "base_uri": "https://localhost:8080/",
     "height": 202
    },
    "colab_type": "code",
    "id": "uoxmUtI8X9TF",
    "outputId": "cde1dd04-645f-4cee-9530-5a4f5ad92eb8"
   },
   "outputs": [
    {
     "name": "stdout",
     "output_type": "stream",
     "text": [
      "100%|██████████| 100/100 [00:05<00:00, 19.24it/s, best loss: -0.6149729729729729]\n",
      "\n",
      "##### Results\n",
      "Score best parameters:  0.6149729729729729\n",
      "Best parameters:  {'criterion': 'gini', 'max_depth': 8, 'max_leaf_nodes': 22, 'min_samples_leaf': 19, 'min_samples_split': 30, 'splitter': 'random'}\n",
      "Testing Accuracy:  0.5742904841402338\n",
      "Testing MCC:  0.09724634863717732\n",
      "Average accuracy in CV: 0.5706486486486487\n",
      "Average MCC in CV: 0.14180875062107312\n",
      "Time elapsed:  5.2556421756744385\n",
      "Parameter combinations evaluated:  100\n"
     ]
    }
   ],
   "source": [
    "baset_dt_param_reduced = bayesian_optimisation(DecisionTreeClassifier, param_decisiontree, \n",
    "                                 X_train[selected_features], y_train, X_test[selected_features], y_test, \n",
    "                                 100, dt_maps, dt_integer_columns)"
   ]
  },
  {
   "cell_type": "code",
   "execution_count": 0,
   "metadata": {
    "colab": {
     "base_uri": "https://localhost:8080/",
     "height": 485
    },
    "colab_type": "code",
    "id": "M5oYEDvIw5LC",
    "outputId": "2583df5c-51e0-49f1-d4aa-a044af78596b"
   },
   "outputs": [
    {
     "name": "stdout",
     "output_type": "stream",
     "text": [
      "Confusion Matrix: \n",
      " [[267 230]\n",
      " [ 39  63]]\n",
      "True negative: 267, False positive: 230, False negative: 39, True positive: 63\n",
      "Accuracy:  0.5509181969949917\n",
      "Precision:  0.2150170648464164\n",
      "Recall:  0.6176470588235294\n",
      "MCC:  0.1164534002353294\n"
     ]
    },
    {
     "data": {
      "image/png": "[encoded data removed]",
      "text/plain": [
       "<Figure size 720x360 with 1 Axes>"
      ]
     },
     "metadata": {
      "tags": []
     },
     "output_type": "display_data"
    }
   ],
   "source": [
    "# Train reduced xgboost model\n",
    "xgb_reduced_model = xgb.XGBClassifier(n_estimators=500, random_state=static_random_state).fit(X_train_reduced, y_train)\n",
    "\n",
    "# Get predicted labels for validation data\n",
    "xgb_reduced_prediction = xgb_reduced_model.predict(X_test_reduced)\n",
    "\n",
    "evaluate_model(y_test, xgb_reduced_prediction)\n",
    "ROC_AUC_curve(X_test_reduced, y_test, xgb_reduced_model)\n"
   ]
  },
  {
   "cell_type": "code",
   "execution_count": 0,
   "metadata": {
    "colab": {
     "base_uri": "https://localhost:8080/",
     "height": 50
    },
    "colab_type": "code",
    "id": "AH6O9zcvzKJA",
    "outputId": "c8afbb1a-8719-4dd5-9dbb-9be5674d219f"
   },
   "outputs": [
    {
     "name": "stdout",
     "output_type": "stream",
     "text": [
      "Average accuracy in CV: 0.5910450450450451\n",
      "Average MCC in CV: 0.18250448349269158\n"
     ]
    }
   ],
   "source": [
    "result_dict = cross_validate(xgb_reduced_model, X_train_reduced, y_train, scoring=scoring, cv=5)\n",
    "print(\"Average accuracy in CV: {}\".format(result_dict['test_acc'].mean()))\n",
    "print(\"Average MCC in CV: {}\".format(result_dict['test_MCC'].mean())) "
   ]
  },
  {
   "cell_type": "code",
   "execution_count": 0,
   "metadata": {
    "colab": {
     "base_uri": "https://localhost:8080/",
     "height": 222
    },
    "colab_type": "code",
    "id": "LLRgl7P-ZOWq",
    "outputId": "aa51a400-f84a-4c9e-8d56-2400108bbe98"
   },
   "outputs": [
    {
     "name": "stdout",
     "output_type": "stream",
     "text": [
      "100%|██████████| 100/100 [00:13<00:00,  5.85it/s, best loss: -0.6417117117117117]\n",
      "\n",
      "##### Results\n",
      "Score best parameters:  0.6417117117117117\n",
      "Best parameters:  {'booster': 'gblinear', 'colsample_by_tree': 0.6538011900889626, 'learning_rate': 0.03471852890745926, 'max_depth': 15, 'n_estimators': 25, 'num_leaves': 6, 'reg_alpha': 0.014670422991613336, 'reg_lambda': 1.1270187549429087}\n",
      "Testing Accuracy:  0.5442404006677797\n",
      "Testing MCC:  0.1455946041343515\n",
      "Average accuracy in CV: 0.6417117117117117\n",
      "Average MCC in CV: 0.2858558032656998\n",
      "Time elapsed:  13.81913709640503\n",
      "Parameter combinations evaluated:  100\n"
     ]
    }
   ],
   "source": [
    "best_xgboost_param = bayesian_optimisation(xgb.XGBClassifier, param_xgboost,\n",
    "                                     X_train[selected_features], y_train, X_test[selected_features], y_test,\n",
    "                                     100, xgboost_map, xgboost_integer_columns)"
   ]
  },
  {
   "cell_type": "markdown",
   "metadata": {
    "colab_type": "text",
    "id": "KQ9qm6EbRKsj"
   },
   "source": [
    "# 5. Lasso-reduced Model"
   ]
  },
  {
   "cell_type": "code",
   "execution_count": 0,
   "metadata": {
    "colab": {},
    "colab_type": "code",
    "id": "6_HMTJFDRMz2"
   },
   "outputs": [],
   "source": [
    "# A list of regularization paramaters/lambdas\n",
    "lbd = np.logspace(5, 7, 100)"
   ]
  },
  {
   "cell_type": "code",
   "execution_count": 0,
   "metadata": {
    "colab": {
     "base_uri": "https://localhost:8080/",
     "height": 1000
    },
    "colab_type": "code",
    "id": "5JngcsKLtrh7",
    "outputId": "7be4839b-6585-4411-ab13-052c62335120"
   },
   "outputs": [
    {
     "name": "stdout",
     "output_type": "stream",
     "text": [
      "Processing parameter:  1\n",
      "Number of parameters left:  11\n",
      "Processing parameter:  2\n",
      "Number of parameters left:  11\n",
      "Processing parameter:  3\n",
      "Number of parameters left:  11\n",
      "Processing parameter:  4\n",
      "Number of parameters left:  11\n",
      "Processing parameter:  5\n",
      "Number of parameters left:  11\n",
      "Processing parameter:  6\n",
      "Number of parameters left:  11\n",
      "Processing parameter:  7\n",
      "Number of parameters left:  10\n",
      "Processing parameter:  8\n",
      "Number of parameters left:  10\n",
      "Processing parameter:  9\n",
      "Number of parameters left:  10\n",
      "Processing parameter:  10\n",
      "Number of parameters left:  10\n",
      "Processing parameter:  11\n",
      "Number of parameters left:  10\n",
      "Processing parameter:  12\n",
      "Number of parameters left:  10\n",
      "Processing parameter:  13\n",
      "Number of parameters left:  9\n",
      "Processing parameter:  14\n",
      "Number of parameters left:  9\n",
      "Processing parameter:  15\n",
      "Number of parameters left:  9\n",
      "Processing parameter:  16\n",
      "Number of parameters left:  9\n",
      "Processing parameter:  17\n",
      "Number of parameters left:  10\n",
      "Processing parameter:  18\n",
      "Number of parameters left:  10\n",
      "Processing parameter:  19\n",
      "Number of parameters left:  8\n",
      "Processing parameter:  20\n",
      "Number of parameters left:  8\n",
      "Processing parameter:  21\n",
      "Number of parameters left:  8\n",
      "Processing parameter:  22\n",
      "Number of parameters left:  7\n",
      "Processing parameter:  23\n",
      "Number of parameters left:  6\n",
      "Processing parameter:  24\n",
      "Number of parameters left:  7\n",
      "Processing parameter:  25\n",
      "Number of parameters left:  6\n",
      "Processing parameter:  26\n",
      "Number of parameters left:  6\n",
      "Processing parameter:  27\n",
      "Number of parameters left:  6\n",
      "Processing parameter:  28\n",
      "Number of parameters left:  6\n",
      "Processing parameter:  29\n",
      "Number of parameters left:  5\n",
      "Processing parameter:  30\n",
      "Number of parameters left:  5\n",
      "Processing parameter:  31\n",
      "Number of parameters left:  5\n",
      "Processing parameter:  32\n",
      "Number of parameters left:  5\n",
      "Processing parameter:  33\n",
      "Number of parameters left:  5\n",
      "Processing parameter:  34\n",
      "Number of parameters left:  5\n",
      "Processing parameter:  35\n",
      "Number of parameters left:  5\n",
      "Processing parameter:  36\n",
      "Number of parameters left:  5\n",
      "Processing parameter:  37\n",
      "Number of parameters left:  5\n",
      "Processing parameter:  38\n",
      "Number of parameters left:  4\n",
      "Processing parameter:  39\n",
      "Number of parameters left:  4\n",
      "Processing parameter:  40\n",
      "Number of parameters left:  4\n",
      "Processing parameter:  41\n",
      "Number of parameters left:  4\n",
      "Processing parameter:  42\n",
      "Number of parameters left:  4\n",
      "Processing parameter:  43\n",
      "Number of parameters left:  4\n",
      "Processing parameter:  44\n",
      "Number of parameters left:  4\n",
      "Processing parameter:  45\n",
      "Number of parameters left:  4\n",
      "Processing parameter:  46\n",
      "Number of parameters left:  4\n",
      "Processing parameter:  47\n",
      "Number of parameters left:  4\n",
      "Processing parameter:  48\n",
      "Number of parameters left:  4\n",
      "Processing parameter:  49\n",
      "Number of parameters left:  4\n",
      "Processing parameter:  50\n",
      "Number of parameters left:  4\n",
      "Processing parameter:  51\n",
      "Number of parameters left:  4\n",
      "Processing parameter:  52\n",
      "Number of parameters left:  4\n",
      "Processing parameter:  53\n",
      "Number of parameters left:  4\n",
      "Processing parameter:  54\n",
      "Number of parameters left:  4\n",
      "Processing parameter:  55\n",
      "Number of parameters left:  4\n",
      "Processing parameter:  56\n",
      "Number of parameters left:  4\n",
      "Processing parameter:  57\n",
      "Number of parameters left:  4\n",
      "Processing parameter:  58\n",
      "Number of parameters left:  4\n",
      "Processing parameter:  59\n",
      "Number of parameters left:  4\n",
      "Processing parameter:  60\n",
      "Number of parameters left:  3\n",
      "Processing parameter:  61\n",
      "Number of parameters left:  4\n",
      "Processing parameter:  62\n",
      "Number of parameters left:  3\n",
      "Processing parameter:  63\n",
      "Number of parameters left:  3\n",
      "Processing parameter:  64\n",
      "Number of parameters left:  3\n",
      "Processing parameter:  65\n",
      "Number of parameters left:  3\n",
      "Processing parameter:  66\n",
      "Number of parameters left:  3\n",
      "Processing parameter:  67\n",
      "Number of parameters left:  3\n",
      "Processing parameter:  68\n",
      "Number of parameters left:  3\n",
      "Processing parameter:  69\n",
      "Number of parameters left:  2\n",
      "Processing parameter:  70\n",
      "Number of parameters left:  2\n",
      "Processing parameter:  71\n",
      "Number of parameters left:  2\n",
      "Processing parameter:  72\n",
      "Number of parameters left:  1\n",
      "Processing parameter:  73\n",
      "Number of parameters left:  1\n",
      "Processing parameter:  74\n",
      "Number of parameters left:  1\n",
      "Processing parameter:  75\n",
      "Number of parameters left:  1\n",
      "Processing parameter:  76\n",
      "Number of parameters left:  1\n",
      "Processing parameter:  77\n",
      "Number of parameters left:  1\n",
      "Processing parameter:  78\n",
      "Number of parameters left:  1\n",
      "Processing parameter:  79\n",
      "Number of parameters left:  1\n",
      "Processing parameter:  80\n",
      "Number of parameters left:  1\n",
      "Processing parameter:  81\n",
      "Number of parameters left:  1\n",
      "Processing parameter:  82\n",
      "Number of parameters left:  1\n",
      "Processing parameter:  83\n",
      "Number of parameters left:  1\n",
      "Processing parameter:  84\n",
      "Number of parameters left:  1\n",
      "Processing parameter:  85\n",
      "Number of parameters left:  1\n",
      "Processing parameter:  86\n",
      "Number of parameters left:  1\n",
      "Processing parameter:  87\n",
      "Number of parameters left:  1\n",
      "Processing parameter:  88\n",
      "Number of parameters left:  1\n",
      "Processing parameter:  89\n",
      "Number of parameters left:  1\n",
      "Processing parameter:  90\n",
      "Number of parameters left:  1\n",
      "Processing parameter:  91\n",
      "Number of parameters left:  1\n",
      "Processing parameter:  92\n",
      "Number of parameters left:  1\n",
      "Processing parameter:  93\n",
      "Number of parameters left:  1\n",
      "Processing parameter:  94\n",
      "Number of parameters left:  1\n",
      "Processing parameter:  95\n",
      "Number of parameters left:  1\n",
      "Processing parameter:  96\n",
      "Number of parameters left:  1\n",
      "Processing parameter:  97\n",
      "Number of parameters left:  1\n",
      "Processing parameter:  98\n",
      "Number of parameters left:  1\n",
      "Processing parameter:  99\n",
      "Number of parameters left:  1\n",
      "Processing parameter:  100\n",
      "Number of parameters left:  1\n"
     ]
    },
    {
     "name": "stderr",
     "output_type": "stream",
     "text": [
      "/usr/local/lib/python3.6/dist-packages/ipykernel_launcher.py:29: RuntimeWarning: divide by zero encountered in double_scalars\n"
     ]
    }
   ],
   "source": [
    "lasso_model = LogisticRegression(fit_intercept=True, random_state=1234, solver = 'liblinear',penalty = 'l1',max_iter = 100)\n",
    "count = 0\n",
    "lasso_accuracy = float('-inf')\n",
    "lasso_alpha = None\n",
    "lasso_indices = None\n",
    "number_features = 10\n",
    "parameter_values = {}\n",
    "\n",
    "for a in lbd:\n",
    "    count += 1\n",
    "    print(\"Processing parameter: \", count)\n",
    "    \n",
    "    lasso_model.set_params(C=1/a) # Note that C is inverse value of regularization factor lambda\n",
    "    lasso_model.fit(X_train, y_train)\n",
    "    coefficients = lasso_model.coef_[0]\n",
    "    number_of_params = len(list(filter(lambda f: f!=0, coefficients)))\n",
    "    \n",
    "    print(\"Number of parameters left: \", number_of_params)\n",
    "    if number_of_params == number_features + 1:\n",
    "        parameter_values[number_of_params] = min(a, parameter_values.get(number_of_params, 0))\n",
    "    elif number_of_params == number_features - 1:\n",
    "        parameter_values[number_of_params] = max(a, parameter_values.get(number_of_params, 0))\n",
    "\n",
    "upper_bound = max(parameter_values.values())\n",
    "lower_bound = min(parameter_values.values())\n",
    "shrinked_lbd = np.linspace(lower_bound, upper_bound, 100)\n",
    "\n",
    "for a in shrinked_lbd:\n",
    "    lasso_model.set_params(C=1/a) # Note that C is inverse value of regularization factor lambda\n",
    "    lasso_model.fit(X_train, y_train)\n",
    "    coefficients = lasso_model.coef_[0]\n",
    "    number_of_params = len(list(filter(lambda f: f!=0, coefficients)))\n",
    "\n",
    "    if number_of_params == 10:  \n",
    "        y_pred = lasso_model.predict(X_test)\n",
    "        model_accuracy = accuracy_score(y_test, y_pred)\n",
    "        if model_accuracy > lasso_accuracy:\n",
    "            lasso_accuracy = model_accuracy\n",
    "            lasso_alpha = a\n",
    "            lasso_indices = [index for index, value in enumerate(coefficients) if value!=0]"
   ]
  },
  {
   "cell_type": "code",
   "execution_count": 0,
   "metadata": {
    "colab": {
     "base_uri": "https://localhost:8080/",
     "height": 185
    },
    "colab_type": "code",
    "id": "7xQNkTEbtrnl",
    "outputId": "7030ae8a-6f72-4445-db5a-205cbc73106f"
   },
   "outputs": [
    {
     "data": {
      "text/plain": [
       "['annual_inc',\n",
       " 'loan_amnt',\n",
       " 'out_prncp',\n",
       " 'out_prncp_inv',\n",
       " 'tot_hi_cred_lim',\n",
       " 'total_bal_ex_mort',\n",
       " 'total_pymnt',\n",
       " 'total_pymnt_inv',\n",
       " 'total_rec_prncp',\n",
       " 'total_rev_hi_lim']"
      ]
     },
     "execution_count": 49,
     "metadata": {
      "tags": []
     },
     "output_type": "execute_result"
    }
   ],
   "source": [
    "# feature selected by lasso logistic regression\n",
    "lasso_features = [feature_list[index] for index in lasso_indices]\n",
    "lasso_features"
   ]
  },
  {
   "cell_type": "code",
   "execution_count": 0,
   "metadata": {
    "colab": {
     "base_uri": "https://localhost:8080/",
     "height": 50
    },
    "colab_type": "code",
    "id": "xx4LGXcttrrM",
    "outputId": "722e9919-b72f-49bd-9a17-e2a43339f5af"
   },
   "outputs": [
    {
     "name": "stdout",
     "output_type": "stream",
     "text": [
      "Average accuracy in CV: 0.893081081081081\n",
      "Average MCC in CV: 0.7947189506186705\n"
     ]
    }
   ],
   "source": [
    "lasso_model = LogisticRegression(fit_intercept=True, \n",
    "                              random_state=1234, \n",
    "                              solver = 'liblinear',\n",
    "                              penalty = 'l1',\n",
    "                              max_iter = 100,\n",
    "                              C = 1/lasso_alpha\n",
    "                             )\n",
    "\n",
    "result_dict = cross_validate(lasso_model, X_train, y_train, scoring=scoring, cv=5)\n",
    "print(\"Average accuracy in CV: {}\".format(result_dict['test_acc'].mean()))\n",
    "print(\"Average MCC in CV: {}\".format(result_dict['test_MCC'].mean())) "
   ]
  },
  {
   "cell_type": "markdown",
   "metadata": {
    "colab_type": "text",
    "id": "am7VbR3MRSjB"
   },
   "source": [
    "# 6. Tuning and optimisation\n"
   ]
  },
  {
   "cell_type": "markdown",
   "metadata": {
    "colab_type": "text",
    "id": "AazZKXvS76kY"
   },
   "source": [
    "### 6.1 Different Base Models"
   ]
  },
  {
   "cell_type": "code",
   "execution_count": 0,
   "metadata": {
    "colab": {},
    "colab_type": "code",
    "id": "mbtihBwA5cCV"
   },
   "outputs": [],
   "source": [
    "from sklearn.ensemble import RandomForestClassifier, AdaBoostClassifier, GradientBoostingClassifier\n",
    "from sklearn.naive_bayes import GaussianNB"
   ]
  },
  {
   "cell_type": "code",
   "execution_count": 0,
   "metadata": {
    "colab": {},
    "colab_type": "code",
    "id": "SNL06nAq78HQ"
   },
   "outputs": [],
   "source": [
    "def train_base_model(model, X_train, y_train, X_test, y_test):\n",
    "  model.fit(X_train, y_train)\n",
    "  model_prediction = model.predict(X_test)\n",
    "  evaluate_model(y_test, model_prediction)\n",
    "\n",
    "  # cross validation\n",
    "  result_dict = cross_validate(model, X_train, y_train, scoring=scoring, cv=5)\n",
    "  print(\"Average accuracy in CV: {}\".format(result_dict['test_acc'].mean()))\n",
    "  print(\"Average MCC in CV: {}\".format(result_dict['test_MCC'].mean())) \n",
    "  return model\n"
   ]
  },
  {
   "cell_type": "code",
   "execution_count": 0,
   "metadata": {
    "colab": {
     "base_uri": "https://localhost:8080/",
     "height": 185
    },
    "colab_type": "code",
    "id": "c3O7xLRH78Lq",
    "outputId": "5e774bd5-2e37-4acc-ebdf-feacdc6cfbea"
   },
   "outputs": [
    {
     "name": "stdout",
     "output_type": "stream",
     "text": [
      "Confusion Matrix: \n",
      " [[414  83]\n",
      " [  1 101]]\n",
      "True negative: 414, False positive: 83, False negative: 1, True positive: 101\n",
      "Accuracy:  0.8597662771285476\n",
      "Precision:  0.5489130434782609\n",
      "Recall:  0.9901960784313726\n",
      "MCC:  0.6707297221522459\n",
      "Average accuracy in CV: 0.8983423423423422\n",
      "Average MCC in CV: 0.806605335290245\n"
     ]
    }
   ],
   "source": [
    "# Random Forest Base Model\n",
    "rf_model = train_base_model(RandomForestClassifier(random_state=static_random_state, n_jobs=-1, n_estimators=100, max_depth=4),\n",
    "                            X_train, y_train, X_test, y_test) "
   ]
  },
  {
   "cell_type": "code",
   "execution_count": 0,
   "metadata": {
    "colab": {
     "base_uri": "https://localhost:8080/",
     "height": 185
    },
    "colab_type": "code",
    "id": "THh_f6Jk78Ps",
    "outputId": "0e90cefb-744e-442b-f435-26c15616fb68"
   },
   "outputs": [
    {
     "name": "stdout",
     "output_type": "stream",
     "text": [
      "Confusion Matrix: \n",
      " [[428  69]\n",
      " [ 16  86]]\n",
      "True negative: 428, False positive: 69, False negative: 16, True positive: 86\n",
      "Accuracy:  0.8580968280467446\n",
      "Precision:  0.5548387096774193\n",
      "Recall:  0.8431372549019608\n",
      "MCC:  0.604479057986303\n",
      "Average accuracy in CV: 0.8917297297297297\n",
      "Average MCC in CV: 0.7855393870964632\n"
     ]
    }
   ],
   "source": [
    "# Adaboosting Base Model\n",
    "adb_model = train_base_model(AdaBoostClassifier(learning_rate = 0.5, n_estimators = 100, random_state = static_random_state),\n",
    "                             X_train, y_train, X_test, y_test)"
   ]
  },
  {
   "cell_type": "code",
   "execution_count": 0,
   "metadata": {
    "colab": {
     "base_uri": "https://localhost:8080/",
     "height": 185
    },
    "colab_type": "code",
    "id": "iOTOZU3Z78SP",
    "outputId": "a9546523-6043-42a7-98c5-f63a35448001"
   },
   "outputs": [
    {
     "name": "stdout",
     "output_type": "stream",
     "text": [
      "Confusion Matrix: \n",
      " [[384 113]\n",
      " [  4  98]]\n",
      "True negative: 384, False positive: 113, False negative: 4, True positive: 98\n",
      "Accuracy:  0.8046744574290484\n",
      "Precision:  0.46445497630331756\n",
      "Recall:  0.9607843137254902\n",
      "MCC:  0.5771304845547618\n",
      "Average accuracy in CV: 0.8663063063063063\n",
      "Average MCC in CV: 0.7466994343770131\n"
     ]
    }
   ],
   "source": [
    "# Naive Bayes Base Model\n",
    "nb_model = train_base_model(GaussianNB(),\n",
    "                             X_train, y_train, X_test, y_test)"
   ]
  },
  {
   "cell_type": "code",
   "execution_count": 0,
   "metadata": {
    "colab": {
     "base_uri": "https://localhost:8080/",
     "height": 185
    },
    "colab_type": "code",
    "id": "HQLjAa4U78OP",
    "outputId": "f74c5fbe-8829-41e2-f7dc-3647a5f47379"
   },
   "outputs": [
    {
     "name": "stdout",
     "output_type": "stream",
     "text": [
      "Confusion Matrix: \n",
      " [[422  75]\n",
      " [  7  95]]\n",
      "True negative: 422, False positive: 75, False negative: 7, True positive: 95\n",
      "Accuracy:  0.8631051752921536\n",
      "Precision:  0.5588235294117647\n",
      "Recall:  0.9313725490196079\n",
      "MCC:  0.6506984662009861\n",
      "Average accuracy in CV: 0.9116936936936938\n",
      "Average MCC in CV: 0.8280367249015406\n"
     ]
    }
   ],
   "source": [
    "# Gradient Boosting Model\n",
    "gb_model = train_base_model(GradientBoostingClassifier(random_state = static_random_state,n_estimators=100, max_depth=4),\n",
    "                            X_train, y_train, X_test, y_test)"
   ]
  },
  {
   "cell_type": "markdown",
   "metadata": {
    "colab_type": "text",
    "id": "8K_3RKZ4d5xl"
   },
   "source": [
    "### Evaluating the naive xgboost model"
   ]
  },
  {
   "cell_type": "code",
   "execution_count": 0,
   "metadata": {
    "colab": {
     "base_uri": "https://localhost:8080/",
     "height": 1000
    },
    "colab_type": "code",
    "id": "-y7E7_3QeipP",
    "outputId": "86b6f4ab-1e54-4cd0-a978-5e829b5963c0"
   },
   "outputs": [
    {
     "name": "stdout",
     "output_type": "stream",
     "text": [
      "[0]\tvalidation_0-error:0.12\tvalidation_1-error:0.086181\n",
      "[1]\tvalidation_0-error:0.093333\tvalidation_1-error:0.084695\n",
      "[2]\tvalidation_0-error:0.08\tvalidation_1-error:0.08321\n",
      "[3]\tvalidation_0-error:0.08\tvalidation_1-error:0.078752\n",
      "[4]\tvalidation_0-error:0.08\tvalidation_1-error:0.080238\n",
      "[5]\tvalidation_0-error:0.08\tvalidation_1-error:0.080238\n",
      "[6]\tvalidation_0-error:0.08\tvalidation_1-error:0.080238\n",
      "[7]\tvalidation_0-error:0.08\tvalidation_1-error:0.080238\n",
      "[8]\tvalidation_0-error:0.08\tvalidation_1-error:0.080238\n",
      "[9]\tvalidation_0-error:0.08\tvalidation_1-error:0.078752\n",
      "[10]\tvalidation_0-error:0.08\tvalidation_1-error:0.080238\n",
      "[11]\tvalidation_0-error:0.08\tvalidation_1-error:0.078752\n",
      "[12]\tvalidation_0-error:0.08\tvalidation_1-error:0.078752\n",
      "[13]\tvalidation_0-error:0.08\tvalidation_1-error:0.078752\n",
      "[14]\tvalidation_0-error:0.08\tvalidation_1-error:0.078752\n",
      "[15]\tvalidation_0-error:0.08\tvalidation_1-error:0.078752\n",
      "[16]\tvalidation_0-error:0.093333\tvalidation_1-error:0.078752\n",
      "[17]\tvalidation_0-error:0.08\tvalidation_1-error:0.077266\n",
      "[18]\tvalidation_0-error:0.093333\tvalidation_1-error:0.078752\n",
      "[19]\tvalidation_0-error:0.093333\tvalidation_1-error:0.078752\n",
      "[20]\tvalidation_0-error:0.093333\tvalidation_1-error:0.078752\n",
      "[21]\tvalidation_0-error:0.093333\tvalidation_1-error:0.078752\n",
      "[22]\tvalidation_0-error:0.093333\tvalidation_1-error:0.07578\n",
      "[23]\tvalidation_0-error:0.093333\tvalidation_1-error:0.07578\n",
      "[24]\tvalidation_0-error:0.093333\tvalidation_1-error:0.07578\n",
      "[25]\tvalidation_0-error:0.093333\tvalidation_1-error:0.071322\n",
      "[26]\tvalidation_0-error:0.093333\tvalidation_1-error:0.071322\n",
      "[27]\tvalidation_0-error:0.093333\tvalidation_1-error:0.069837\n",
      "[28]\tvalidation_0-error:0.12\tvalidation_1-error:0.071322\n",
      "[29]\tvalidation_0-error:0.093333\tvalidation_1-error:0.068351\n",
      "[30]\tvalidation_0-error:0.106667\tvalidation_1-error:0.068351\n",
      "[31]\tvalidation_0-error:0.106667\tvalidation_1-error:0.068351\n",
      "[32]\tvalidation_0-error:0.106667\tvalidation_1-error:0.063893\n",
      "[33]\tvalidation_0-error:0.106667\tvalidation_1-error:0.063893\n",
      "[34]\tvalidation_0-error:0.106667\tvalidation_1-error:0.063893\n",
      "[35]\tvalidation_0-error:0.106667\tvalidation_1-error:0.062407\n",
      "[36]\tvalidation_0-error:0.106667\tvalidation_1-error:0.060921\n",
      "[37]\tvalidation_0-error:0.106667\tvalidation_1-error:0.056464\n",
      "[38]\tvalidation_0-error:0.12\tvalidation_1-error:0.056464\n",
      "[39]\tvalidation_0-error:0.12\tvalidation_1-error:0.056464\n",
      "[40]\tvalidation_0-error:0.106667\tvalidation_1-error:0.054978\n",
      "[41]\tvalidation_0-error:0.106667\tvalidation_1-error:0.053492\n",
      "[42]\tvalidation_0-error:0.106667\tvalidation_1-error:0.054978\n",
      "[43]\tvalidation_0-error:0.106667\tvalidation_1-error:0.05052\n",
      "[44]\tvalidation_0-error:0.106667\tvalidation_1-error:0.05052\n",
      "[45]\tvalidation_0-error:0.106667\tvalidation_1-error:0.047548\n",
      "[46]\tvalidation_0-error:0.106667\tvalidation_1-error:0.047548\n",
      "[47]\tvalidation_0-error:0.106667\tvalidation_1-error:0.047548\n",
      "[48]\tvalidation_0-error:0.106667\tvalidation_1-error:0.046062\n",
      "[49]\tvalidation_0-error:0.106667\tvalidation_1-error:0.046062\n",
      "[50]\tvalidation_0-error:0.106667\tvalidation_1-error:0.043091\n",
      "[51]\tvalidation_0-error:0.106667\tvalidation_1-error:0.041605\n",
      "[52]\tvalidation_0-error:0.106667\tvalidation_1-error:0.041605\n",
      "[53]\tvalidation_0-error:0.106667\tvalidation_1-error:0.040119\n",
      "[54]\tvalidation_0-error:0.106667\tvalidation_1-error:0.041605\n",
      "[55]\tvalidation_0-error:0.106667\tvalidation_1-error:0.040119\n",
      "[56]\tvalidation_0-error:0.106667\tvalidation_1-error:0.040119\n",
      "[57]\tvalidation_0-error:0.106667\tvalidation_1-error:0.040119\n",
      "[58]\tvalidation_0-error:0.106667\tvalidation_1-error:0.040119\n",
      "[59]\tvalidation_0-error:0.106667\tvalidation_1-error:0.038633\n",
      "[60]\tvalidation_0-error:0.106667\tvalidation_1-error:0.038633\n",
      "[61]\tvalidation_0-error:0.106667\tvalidation_1-error:0.038633\n",
      "[62]\tvalidation_0-error:0.106667\tvalidation_1-error:0.038633\n",
      "[63]\tvalidation_0-error:0.106667\tvalidation_1-error:0.035661\n",
      "[64]\tvalidation_0-error:0.106667\tvalidation_1-error:0.035661\n",
      "[65]\tvalidation_0-error:0.106667\tvalidation_1-error:0.034175\n",
      "[66]\tvalidation_0-error:0.106667\tvalidation_1-error:0.032689\n",
      "[67]\tvalidation_0-error:0.106667\tvalidation_1-error:0.031204\n",
      "[68]\tvalidation_0-error:0.106667\tvalidation_1-error:0.029718\n",
      "[69]\tvalidation_0-error:0.106667\tvalidation_1-error:0.029718\n",
      "[70]\tvalidation_0-error:0.106667\tvalidation_1-error:0.028232\n",
      "[71]\tvalidation_0-error:0.106667\tvalidation_1-error:0.026746\n",
      "[72]\tvalidation_0-error:0.106667\tvalidation_1-error:0.026746\n",
      "[73]\tvalidation_0-error:0.106667\tvalidation_1-error:0.02526\n",
      "[74]\tvalidation_0-error:0.106667\tvalidation_1-error:0.023774\n",
      "[75]\tvalidation_0-error:0.106667\tvalidation_1-error:0.02526\n",
      "[76]\tvalidation_0-error:0.106667\tvalidation_1-error:0.02526\n",
      "[77]\tvalidation_0-error:0.106667\tvalidation_1-error:0.023774\n",
      "[78]\tvalidation_0-error:0.106667\tvalidation_1-error:0.022288\n",
      "[79]\tvalidation_0-error:0.106667\tvalidation_1-error:0.022288\n",
      "[80]\tvalidation_0-error:0.106667\tvalidation_1-error:0.019316\n",
      "[81]\tvalidation_0-error:0.106667\tvalidation_1-error:0.019316\n",
      "[82]\tvalidation_0-error:0.106667\tvalidation_1-error:0.019316\n",
      "[83]\tvalidation_0-error:0.106667\tvalidation_1-error:0.019316\n",
      "[84]\tvalidation_0-error:0.106667\tvalidation_1-error:0.019316\n",
      "[85]\tvalidation_0-error:0.106667\tvalidation_1-error:0.019316\n",
      "[86]\tvalidation_0-error:0.106667\tvalidation_1-error:0.019316\n",
      "[87]\tvalidation_0-error:0.106667\tvalidation_1-error:0.017831\n",
      "[88]\tvalidation_0-error:0.106667\tvalidation_1-error:0.017831\n",
      "[89]\tvalidation_0-error:0.106667\tvalidation_1-error:0.014859\n",
      "[90]\tvalidation_0-error:0.106667\tvalidation_1-error:0.014859\n",
      "[91]\tvalidation_0-error:0.106667\tvalidation_1-error:0.013373\n",
      "[92]\tvalidation_0-error:0.106667\tvalidation_1-error:0.013373\n",
      "[93]\tvalidation_0-error:0.106667\tvalidation_1-error:0.010401\n",
      "[94]\tvalidation_0-error:0.106667\tvalidation_1-error:0.010401\n",
      "[95]\tvalidation_0-error:0.106667\tvalidation_1-error:0.008915\n",
      "[96]\tvalidation_0-error:0.106667\tvalidation_1-error:0.008915\n",
      "[97]\tvalidation_0-error:0.106667\tvalidation_1-error:0.007429\n",
      "[98]\tvalidation_0-error:0.106667\tvalidation_1-error:0.007429\n",
      "[99]\tvalidation_0-error:0.106667\tvalidation_1-error:0.007429\n",
      "[100]\tvalidation_0-error:0.106667\tvalidation_1-error:0.004458\n",
      "[101]\tvalidation_0-error:0.106667\tvalidation_1-error:0.004458\n",
      "[102]\tvalidation_0-error:0.106667\tvalidation_1-error:0.002972\n",
      "[103]\tvalidation_0-error:0.106667\tvalidation_1-error:0.002972\n",
      "[104]\tvalidation_0-error:0.106667\tvalidation_1-error:0.002972\n",
      "[105]\tvalidation_0-error:0.106667\tvalidation_1-error:0.001486\n",
      "[106]\tvalidation_0-error:0.106667\tvalidation_1-error:0.002972\n",
      "[107]\tvalidation_0-error:0.106667\tvalidation_1-error:0.001486\n",
      "[108]\tvalidation_0-error:0.106667\tvalidation_1-error:0.002972\n",
      "[109]\tvalidation_0-error:0.106667\tvalidation_1-error:0.001486\n",
      "[110]\tvalidation_0-error:0.106667\tvalidation_1-error:0.001486\n",
      "[111]\tvalidation_0-error:0.106667\tvalidation_1-error:0.001486\n",
      "[112]\tvalidation_0-error:0.106667\tvalidation_1-error:0.001486\n",
      "[113]\tvalidation_0-error:0.093333\tvalidation_1-error:0.001486\n",
      "[114]\tvalidation_0-error:0.093333\tvalidation_1-error:0.001486\n",
      "[115]\tvalidation_0-error:0.093333\tvalidation_1-error:0.001486\n",
      "[116]\tvalidation_0-error:0.093333\tvalidation_1-error:0.001486\n",
      "[117]\tvalidation_0-error:0.093333\tvalidation_1-error:0\n",
      "[118]\tvalidation_0-error:0.093333\tvalidation_1-error:0\n",
      "[119]\tvalidation_0-error:0.093333\tvalidation_1-error:0\n",
      "[120]\tvalidation_0-error:0.093333\tvalidation_1-error:0\n",
      "[121]\tvalidation_0-error:0.093333\tvalidation_1-error:0\n",
      "[122]\tvalidation_0-error:0.106667\tvalidation_1-error:0\n",
      "[123]\tvalidation_0-error:0.106667\tvalidation_1-error:0\n",
      "[124]\tvalidation_0-error:0.106667\tvalidation_1-error:0.001486\n",
      "[125]\tvalidation_0-error:0.106667\tvalidation_1-error:0\n",
      "[126]\tvalidation_0-error:0.106667\tvalidation_1-error:0.001486\n",
      "[127]\tvalidation_0-error:0.093333\tvalidation_1-error:0.001486\n",
      "[128]\tvalidation_0-error:0.106667\tvalidation_1-error:0\n",
      "[129]\tvalidation_0-error:0.093333\tvalidation_1-error:0\n",
      "[130]\tvalidation_0-error:0.093333\tvalidation_1-error:0\n",
      "[131]\tvalidation_0-error:0.093333\tvalidation_1-error:0\n",
      "[132]\tvalidation_0-error:0.093333\tvalidation_1-error:0\n",
      "[133]\tvalidation_0-error:0.093333\tvalidation_1-error:0\n",
      "[134]\tvalidation_0-error:0.093333\tvalidation_1-error:0\n",
      "[135]\tvalidation_0-error:0.093333\tvalidation_1-error:0\n",
      "[136]\tvalidation_0-error:0.093333\tvalidation_1-error:0\n",
      "[137]\tvalidation_0-error:0.093333\tvalidation_1-error:0\n",
      "[138]\tvalidation_0-error:0.093333\tvalidation_1-error:0\n",
      "[139]\tvalidation_0-error:0.093333\tvalidation_1-error:0\n",
      "[140]\tvalidation_0-error:0.093333\tvalidation_1-error:0\n",
      "[141]\tvalidation_0-error:0.093333\tvalidation_1-error:0\n",
      "[142]\tvalidation_0-error:0.093333\tvalidation_1-error:0\n",
      "[143]\tvalidation_0-error:0.093333\tvalidation_1-error:0\n",
      "[144]\tvalidation_0-error:0.093333\tvalidation_1-error:0\n",
      "[145]\tvalidation_0-error:0.093333\tvalidation_1-error:0\n",
      "[146]\tvalidation_0-error:0.093333\tvalidation_1-error:0\n",
      "[147]\tvalidation_0-error:0.093333\tvalidation_1-error:0\n",
      "[148]\tvalidation_0-error:0.093333\tvalidation_1-error:0\n",
      "[149]\tvalidation_0-error:0.093333\tvalidation_1-error:0\n",
      "[150]\tvalidation_0-error:0.093333\tvalidation_1-error:0\n",
      "[151]\tvalidation_0-error:0.093333\tvalidation_1-error:0\n",
      "[152]\tvalidation_0-error:0.093333\tvalidation_1-error:0\n",
      "[153]\tvalidation_0-error:0.093333\tvalidation_1-error:0\n",
      "[154]\tvalidation_0-error:0.093333\tvalidation_1-error:0\n",
      "[155]\tvalidation_0-error:0.093333\tvalidation_1-error:0\n",
      "[156]\tvalidation_0-error:0.093333\tvalidation_1-error:0\n",
      "[157]\tvalidation_0-error:0.093333\tvalidation_1-error:0\n",
      "[158]\tvalidation_0-error:0.093333\tvalidation_1-error:0\n",
      "[159]\tvalidation_0-error:0.093333\tvalidation_1-error:0\n",
      "[160]\tvalidation_0-error:0.093333\tvalidation_1-error:0\n",
      "[161]\tvalidation_0-error:0.093333\tvalidation_1-error:0\n",
      "[162]\tvalidation_0-error:0.093333\tvalidation_1-error:0\n",
      "[163]\tvalidation_0-error:0.093333\tvalidation_1-error:0\n",
      "[164]\tvalidation_0-error:0.093333\tvalidation_1-error:0\n",
      "[165]\tvalidation_0-error:0.093333\tvalidation_1-error:0\n",
      "[166]\tvalidation_0-error:0.093333\tvalidation_1-error:0\n",
      "[167]\tvalidation_0-error:0.093333\tvalidation_1-error:0\n",
      "[168]\tvalidation_0-error:0.093333\tvalidation_1-error:0\n",
      "[169]\tvalidation_0-error:0.093333\tvalidation_1-error:0\n",
      "[170]\tvalidation_0-error:0.093333\tvalidation_1-error:0\n",
      "[171]\tvalidation_0-error:0.093333\tvalidation_1-error:0\n",
      "[172]\tvalidation_0-error:0.093333\tvalidation_1-error:0\n",
      "[173]\tvalidation_0-error:0.106667\tvalidation_1-error:0\n",
      "[174]\tvalidation_0-error:0.106667\tvalidation_1-error:0\n",
      "[175]\tvalidation_0-error:0.106667\tvalidation_1-error:0\n",
      "[176]\tvalidation_0-error:0.106667\tvalidation_1-error:0\n",
      "[177]\tvalidation_0-error:0.106667\tvalidation_1-error:0\n",
      "[178]\tvalidation_0-error:0.093333\tvalidation_1-error:0\n",
      "[179]\tvalidation_0-error:0.106667\tvalidation_1-error:0\n",
      "[180]\tvalidation_0-error:0.093333\tvalidation_1-error:0\n",
      "[181]\tvalidation_0-error:0.093333\tvalidation_1-error:0\n",
      "[182]\tvalidation_0-error:0.093333\tvalidation_1-error:0\n",
      "[183]\tvalidation_0-error:0.093333\tvalidation_1-error:0\n",
      "[184]\tvalidation_0-error:0.093333\tvalidation_1-error:0\n",
      "[185]\tvalidation_0-error:0.093333\tvalidation_1-error:0\n",
      "[186]\tvalidation_0-error:0.093333\tvalidation_1-error:0\n",
      "[187]\tvalidation_0-error:0.093333\tvalidation_1-error:0\n",
      "[188]\tvalidation_0-error:0.093333\tvalidation_1-error:0\n",
      "[189]\tvalidation_0-error:0.093333\tvalidation_1-error:0\n",
      "[190]\tvalidation_0-error:0.106667\tvalidation_1-error:0\n",
      "[191]\tvalidation_0-error:0.106667\tvalidation_1-error:0\n",
      "[192]\tvalidation_0-error:0.093333\tvalidation_1-error:0\n",
      "[193]\tvalidation_0-error:0.106667\tvalidation_1-error:0\n",
      "[194]\tvalidation_0-error:0.106667\tvalidation_1-error:0\n",
      "[195]\tvalidation_0-error:0.106667\tvalidation_1-error:0\n",
      "[196]\tvalidation_0-error:0.093333\tvalidation_1-error:0\n",
      "[197]\tvalidation_0-error:0.093333\tvalidation_1-error:0\n",
      "[198]\tvalidation_0-error:0.093333\tvalidation_1-error:0\n",
      "[199]\tvalidation_0-error:0.093333\tvalidation_1-error:0\n",
      "[200]\tvalidation_0-error:0.093333\tvalidation_1-error:0\n",
      "[201]\tvalidation_0-error:0.106667\tvalidation_1-error:0\n",
      "[202]\tvalidation_0-error:0.093333\tvalidation_1-error:0\n",
      "[203]\tvalidation_0-error:0.106667\tvalidation_1-error:0\n",
      "[204]\tvalidation_0-error:0.106667\tvalidation_1-error:0\n",
      "[205]\tvalidation_0-error:0.106667\tvalidation_1-error:0\n",
      "[206]\tvalidation_0-error:0.106667\tvalidation_1-error:0\n",
      "[207]\tvalidation_0-error:0.106667\tvalidation_1-error:0\n",
      "[208]\tvalidation_0-error:0.106667\tvalidation_1-error:0\n",
      "[209]\tvalidation_0-error:0.106667\tvalidation_1-error:0\n",
      "[210]\tvalidation_0-error:0.106667\tvalidation_1-error:0\n",
      "[211]\tvalidation_0-error:0.106667\tvalidation_1-error:0\n",
      "[212]\tvalidation_0-error:0.106667\tvalidation_1-error:0\n",
      "[213]\tvalidation_0-error:0.106667\tvalidation_1-error:0\n",
      "[214]\tvalidation_0-error:0.106667\tvalidation_1-error:0\n",
      "[215]\tvalidation_0-error:0.106667\tvalidation_1-error:0\n",
      "[216]\tvalidation_0-error:0.106667\tvalidation_1-error:0\n",
      "[217]\tvalidation_0-error:0.106667\tvalidation_1-error:0\n",
      "[218]\tvalidation_0-error:0.106667\tvalidation_1-error:0\n",
      "[219]\tvalidation_0-error:0.106667\tvalidation_1-error:0\n",
      "[220]\tvalidation_0-error:0.106667\tvalidation_1-error:0\n",
      "[221]\tvalidation_0-error:0.106667\tvalidation_1-error:0\n",
      "[222]\tvalidation_0-error:0.106667\tvalidation_1-error:0\n",
      "[223]\tvalidation_0-error:0.106667\tvalidation_1-error:0\n",
      "[224]\tvalidation_0-error:0.106667\tvalidation_1-error:0\n",
      "[225]\tvalidation_0-error:0.106667\tvalidation_1-error:0\n",
      "[226]\tvalidation_0-error:0.106667\tvalidation_1-error:0\n",
      "[227]\tvalidation_0-error:0.106667\tvalidation_1-error:0\n",
      "[228]\tvalidation_0-error:0.106667\tvalidation_1-error:0\n",
      "[229]\tvalidation_0-error:0.106667\tvalidation_1-error:0\n",
      "[230]\tvalidation_0-error:0.106667\tvalidation_1-error:0\n",
      "[231]\tvalidation_0-error:0.106667\tvalidation_1-error:0\n",
      "[232]\tvalidation_0-error:0.106667\tvalidation_1-error:0\n",
      "[233]\tvalidation_0-error:0.106667\tvalidation_1-error:0\n",
      "[234]\tvalidation_0-error:0.106667\tvalidation_1-error:0\n",
      "[235]\tvalidation_0-error:0.106667\tvalidation_1-error:0\n",
      "[236]\tvalidation_0-error:0.106667\tvalidation_1-error:0\n",
      "[237]\tvalidation_0-error:0.106667\tvalidation_1-error:0\n",
      "[238]\tvalidation_0-error:0.106667\tvalidation_1-error:0\n",
      "[239]\tvalidation_0-error:0.106667\tvalidation_1-error:0\n",
      "[240]\tvalidation_0-error:0.106667\tvalidation_1-error:0\n",
      "[241]\tvalidation_0-error:0.106667\tvalidation_1-error:0\n",
      "[242]\tvalidation_0-error:0.106667\tvalidation_1-error:0\n",
      "[243]\tvalidation_0-error:0.106667\tvalidation_1-error:0\n",
      "[244]\tvalidation_0-error:0.106667\tvalidation_1-error:0\n",
      "[245]\tvalidation_0-error:0.106667\tvalidation_1-error:0\n",
      "[246]\tvalidation_0-error:0.106667\tvalidation_1-error:0\n",
      "[247]\tvalidation_0-error:0.106667\tvalidation_1-error:0\n",
      "[248]\tvalidation_0-error:0.106667\tvalidation_1-error:0\n",
      "[249]\tvalidation_0-error:0.106667\tvalidation_1-error:0\n",
      "[250]\tvalidation_0-error:0.106667\tvalidation_1-error:0\n",
      "[251]\tvalidation_0-error:0.106667\tvalidation_1-error:0\n",
      "[252]\tvalidation_0-error:0.106667\tvalidation_1-error:0\n",
      "[253]\tvalidation_0-error:0.106667\tvalidation_1-error:0\n",
      "[254]\tvalidation_0-error:0.106667\tvalidation_1-error:0\n",
      "[255]\tvalidation_0-error:0.106667\tvalidation_1-error:0\n",
      "[256]\tvalidation_0-error:0.106667\tvalidation_1-error:0\n",
      "[257]\tvalidation_0-error:0.106667\tvalidation_1-error:0\n",
      "[258]\tvalidation_0-error:0.106667\tvalidation_1-error:0\n",
      "[259]\tvalidation_0-error:0.106667\tvalidation_1-error:0\n",
      "[260]\tvalidation_0-error:0.106667\tvalidation_1-error:0\n",
      "[261]\tvalidation_0-error:0.106667\tvalidation_1-error:0\n",
      "[262]\tvalidation_0-error:0.106667\tvalidation_1-error:0\n",
      "[263]\tvalidation_0-error:0.106667\tvalidation_1-error:0\n",
      "[264]\tvalidation_0-error:0.106667\tvalidation_1-error:0\n",
      "[265]\tvalidation_0-error:0.106667\tvalidation_1-error:0\n",
      "[266]\tvalidation_0-error:0.106667\tvalidation_1-error:0\n",
      "[267]\tvalidation_0-error:0.106667\tvalidation_1-error:0\n",
      "[268]\tvalidation_0-error:0.106667\tvalidation_1-error:0\n",
      "[269]\tvalidation_0-error:0.106667\tvalidation_1-error:0\n",
      "[270]\tvalidation_0-error:0.106667\tvalidation_1-error:0\n",
      "[271]\tvalidation_0-error:0.106667\tvalidation_1-error:0\n",
      "[272]\tvalidation_0-error:0.106667\tvalidation_1-error:0\n",
      "[273]\tvalidation_0-error:0.106667\tvalidation_1-error:0\n",
      "[274]\tvalidation_0-error:0.106667\tvalidation_1-error:0\n",
      "[275]\tvalidation_0-error:0.106667\tvalidation_1-error:0\n",
      "[276]\tvalidation_0-error:0.106667\tvalidation_1-error:0\n",
      "[277]\tvalidation_0-error:0.106667\tvalidation_1-error:0\n",
      "[278]\tvalidation_0-error:0.106667\tvalidation_1-error:0\n",
      "[279]\tvalidation_0-error:0.106667\tvalidation_1-error:0\n",
      "[280]\tvalidation_0-error:0.106667\tvalidation_1-error:0\n",
      "[281]\tvalidation_0-error:0.106667\tvalidation_1-error:0\n",
      "[282]\tvalidation_0-error:0.106667\tvalidation_1-error:0\n",
      "[283]\tvalidation_0-error:0.106667\tvalidation_1-error:0\n",
      "[284]\tvalidation_0-error:0.106667\tvalidation_1-error:0\n",
      "[285]\tvalidation_0-error:0.106667\tvalidation_1-error:0\n",
      "[286]\tvalidation_0-error:0.106667\tvalidation_1-error:0\n",
      "[287]\tvalidation_0-error:0.106667\tvalidation_1-error:0\n",
      "[288]\tvalidation_0-error:0.106667\tvalidation_1-error:0\n",
      "[289]\tvalidation_0-error:0.106667\tvalidation_1-error:0\n",
      "[290]\tvalidation_0-error:0.106667\tvalidation_1-error:0\n",
      "[291]\tvalidation_0-error:0.106667\tvalidation_1-error:0\n",
      "[292]\tvalidation_0-error:0.106667\tvalidation_1-error:0\n",
      "[293]\tvalidation_0-error:0.106667\tvalidation_1-error:0\n",
      "[294]\tvalidation_0-error:0.106667\tvalidation_1-error:0\n",
      "[295]\tvalidation_0-error:0.106667\tvalidation_1-error:0\n",
      "[296]\tvalidation_0-error:0.106667\tvalidation_1-error:0\n",
      "[297]\tvalidation_0-error:0.106667\tvalidation_1-error:0\n",
      "[298]\tvalidation_0-error:0.106667\tvalidation_1-error:0\n",
      "[299]\tvalidation_0-error:0.106667\tvalidation_1-error:0\n",
      "[300]\tvalidation_0-error:0.106667\tvalidation_1-error:0\n",
      "[301]\tvalidation_0-error:0.106667\tvalidation_1-error:0\n",
      "[302]\tvalidation_0-error:0.106667\tvalidation_1-error:0\n",
      "[303]\tvalidation_0-error:0.106667\tvalidation_1-error:0\n",
      "[304]\tvalidation_0-error:0.106667\tvalidation_1-error:0\n",
      "[305]\tvalidation_0-error:0.106667\tvalidation_1-error:0\n",
      "[306]\tvalidation_0-error:0.106667\tvalidation_1-error:0\n",
      "[307]\tvalidation_0-error:0.106667\tvalidation_1-error:0\n",
      "[308]\tvalidation_0-error:0.106667\tvalidation_1-error:0\n",
      "[309]\tvalidation_0-error:0.106667\tvalidation_1-error:0\n",
      "[310]\tvalidation_0-error:0.106667\tvalidation_1-error:0\n",
      "[311]\tvalidation_0-error:0.106667\tvalidation_1-error:0\n",
      "[312]\tvalidation_0-error:0.106667\tvalidation_1-error:0\n",
      "[313]\tvalidation_0-error:0.106667\tvalidation_1-error:0\n",
      "[314]\tvalidation_0-error:0.106667\tvalidation_1-error:0\n",
      "[315]\tvalidation_0-error:0.106667\tvalidation_1-error:0\n",
      "[316]\tvalidation_0-error:0.106667\tvalidation_1-error:0\n",
      "[317]\tvalidation_0-error:0.106667\tvalidation_1-error:0\n",
      "[318]\tvalidation_0-error:0.106667\tvalidation_1-error:0\n",
      "[319]\tvalidation_0-error:0.106667\tvalidation_1-error:0\n",
      "[320]\tvalidation_0-error:0.106667\tvalidation_1-error:0\n",
      "[321]\tvalidation_0-error:0.106667\tvalidation_1-error:0\n",
      "[322]\tvalidation_0-error:0.106667\tvalidation_1-error:0\n",
      "[323]\tvalidation_0-error:0.106667\tvalidation_1-error:0\n",
      "[324]\tvalidation_0-error:0.106667\tvalidation_1-error:0\n",
      "[325]\tvalidation_0-error:0.106667\tvalidation_1-error:0\n",
      "[326]\tvalidation_0-error:0.106667\tvalidation_1-error:0\n",
      "[327]\tvalidation_0-error:0.093333\tvalidation_1-error:0\n",
      "[328]\tvalidation_0-error:0.093333\tvalidation_1-error:0\n",
      "[329]\tvalidation_0-error:0.093333\tvalidation_1-error:0\n",
      "[330]\tvalidation_0-error:0.093333\tvalidation_1-error:0\n",
      "[331]\tvalidation_0-error:0.106667\tvalidation_1-error:0\n",
      "[332]\tvalidation_0-error:0.106667\tvalidation_1-error:0\n",
      "[333]\tvalidation_0-error:0.106667\tvalidation_1-error:0\n",
      "[334]\tvalidation_0-error:0.106667\tvalidation_1-error:0\n",
      "[335]\tvalidation_0-error:0.093333\tvalidation_1-error:0\n",
      "[336]\tvalidation_0-error:0.093333\tvalidation_1-error:0\n",
      "[337]\tvalidation_0-error:0.093333\tvalidation_1-error:0\n",
      "[338]\tvalidation_0-error:0.093333\tvalidation_1-error:0\n",
      "[339]\tvalidation_0-error:0.093333\tvalidation_1-error:0\n",
      "[340]\tvalidation_0-error:0.093333\tvalidation_1-error:0\n",
      "[341]\tvalidation_0-error:0.093333\tvalidation_1-error:0\n",
      "[342]\tvalidation_0-error:0.093333\tvalidation_1-error:0\n",
      "[343]\tvalidation_0-error:0.093333\tvalidation_1-error:0\n",
      "[344]\tvalidation_0-error:0.093333\tvalidation_1-error:0\n",
      "[345]\tvalidation_0-error:0.093333\tvalidation_1-error:0\n",
      "[346]\tvalidation_0-error:0.093333\tvalidation_1-error:0\n",
      "[347]\tvalidation_0-error:0.093333\tvalidation_1-error:0\n",
      "[348]\tvalidation_0-error:0.093333\tvalidation_1-error:0\n",
      "[349]\tvalidation_0-error:0.093333\tvalidation_1-error:0\n",
      "[350]\tvalidation_0-error:0.093333\tvalidation_1-error:0\n",
      "[351]\tvalidation_0-error:0.093333\tvalidation_1-error:0\n",
      "[352]\tvalidation_0-error:0.093333\tvalidation_1-error:0\n",
      "[353]\tvalidation_0-error:0.093333\tvalidation_1-error:0\n",
      "[354]\tvalidation_0-error:0.093333\tvalidation_1-error:0\n",
      "[355]\tvalidation_0-error:0.093333\tvalidation_1-error:0\n",
      "[356]\tvalidation_0-error:0.093333\tvalidation_1-error:0\n",
      "[357]\tvalidation_0-error:0.093333\tvalidation_1-error:0\n",
      "[358]\tvalidation_0-error:0.093333\tvalidation_1-error:0\n",
      "[359]\tvalidation_0-error:0.093333\tvalidation_1-error:0\n",
      "[360]\tvalidation_0-error:0.093333\tvalidation_1-error:0\n",
      "[361]\tvalidation_0-error:0.093333\tvalidation_1-error:0\n",
      "[362]\tvalidation_0-error:0.093333\tvalidation_1-error:0\n",
      "[363]\tvalidation_0-error:0.093333\tvalidation_1-error:0\n",
      "[364]\tvalidation_0-error:0.093333\tvalidation_1-error:0\n",
      "[365]\tvalidation_0-error:0.093333\tvalidation_1-error:0\n",
      "[366]\tvalidation_0-error:0.093333\tvalidation_1-error:0\n",
      "[367]\tvalidation_0-error:0.093333\tvalidation_1-error:0\n",
      "[368]\tvalidation_0-error:0.093333\tvalidation_1-error:0\n",
      "[369]\tvalidation_0-error:0.093333\tvalidation_1-error:0\n",
      "[370]\tvalidation_0-error:0.093333\tvalidation_1-error:0\n",
      "[371]\tvalidation_0-error:0.093333\tvalidation_1-error:0\n",
      "[372]\tvalidation_0-error:0.093333\tvalidation_1-error:0\n",
      "[373]\tvalidation_0-error:0.093333\tvalidation_1-error:0\n",
      "[374]\tvalidation_0-error:0.093333\tvalidation_1-error:0\n",
      "[375]\tvalidation_0-error:0.093333\tvalidation_1-error:0\n",
      "[376]\tvalidation_0-error:0.093333\tvalidation_1-error:0\n",
      "[377]\tvalidation_0-error:0.093333\tvalidation_1-error:0\n",
      "[378]\tvalidation_0-error:0.093333\tvalidation_1-error:0\n",
      "[379]\tvalidation_0-error:0.093333\tvalidation_1-error:0\n",
      "[380]\tvalidation_0-error:0.093333\tvalidation_1-error:0\n",
      "[381]\tvalidation_0-error:0.093333\tvalidation_1-error:0\n",
      "[382]\tvalidation_0-error:0.093333\tvalidation_1-error:0\n",
      "[383]\tvalidation_0-error:0.093333\tvalidation_1-error:0\n",
      "[384]\tvalidation_0-error:0.093333\tvalidation_1-error:0\n",
      "[385]\tvalidation_0-error:0.093333\tvalidation_1-error:0\n",
      "[386]\tvalidation_0-error:0.093333\tvalidation_1-error:0\n",
      "[387]\tvalidation_0-error:0.093333\tvalidation_1-error:0\n",
      "[388]\tvalidation_0-error:0.093333\tvalidation_1-error:0\n",
      "[389]\tvalidation_0-error:0.093333\tvalidation_1-error:0\n",
      "[390]\tvalidation_0-error:0.093333\tvalidation_1-error:0\n",
      "[391]\tvalidation_0-error:0.093333\tvalidation_1-error:0\n",
      "[392]\tvalidation_0-error:0.093333\tvalidation_1-error:0\n",
      "[393]\tvalidation_0-error:0.093333\tvalidation_1-error:0\n",
      "[394]\tvalidation_0-error:0.093333\tvalidation_1-error:0\n",
      "[395]\tvalidation_0-error:0.093333\tvalidation_1-error:0\n",
      "[396]\tvalidation_0-error:0.093333\tvalidation_1-error:0\n",
      "[397]\tvalidation_0-error:0.093333\tvalidation_1-error:0\n",
      "[398]\tvalidation_0-error:0.093333\tvalidation_1-error:0\n",
      "[399]\tvalidation_0-error:0.093333\tvalidation_1-error:0\n",
      "[400]\tvalidation_0-error:0.093333\tvalidation_1-error:0\n",
      "[401]\tvalidation_0-error:0.093333\tvalidation_1-error:0\n",
      "[402]\tvalidation_0-error:0.093333\tvalidation_1-error:0\n",
      "[403]\tvalidation_0-error:0.093333\tvalidation_1-error:0\n",
      "[404]\tvalidation_0-error:0.093333\tvalidation_1-error:0\n",
      "[405]\tvalidation_0-error:0.093333\tvalidation_1-error:0\n",
      "[406]\tvalidation_0-error:0.093333\tvalidation_1-error:0\n",
      "[407]\tvalidation_0-error:0.093333\tvalidation_1-error:0\n",
      "[408]\tvalidation_0-error:0.093333\tvalidation_1-error:0\n",
      "[409]\tvalidation_0-error:0.093333\tvalidation_1-error:0\n",
      "[410]\tvalidation_0-error:0.093333\tvalidation_1-error:0\n",
      "[411]\tvalidation_0-error:0.093333\tvalidation_1-error:0\n",
      "[412]\tvalidation_0-error:0.093333\tvalidation_1-error:0\n",
      "[413]\tvalidation_0-error:0.093333\tvalidation_1-error:0\n",
      "[414]\tvalidation_0-error:0.093333\tvalidation_1-error:0\n",
      "[415]\tvalidation_0-error:0.093333\tvalidation_1-error:0\n",
      "[416]\tvalidation_0-error:0.093333\tvalidation_1-error:0\n",
      "[417]\tvalidation_0-error:0.093333\tvalidation_1-error:0\n",
      "[418]\tvalidation_0-error:0.093333\tvalidation_1-error:0\n",
      "[419]\tvalidation_0-error:0.093333\tvalidation_1-error:0\n",
      "[420]\tvalidation_0-error:0.093333\tvalidation_1-error:0\n",
      "[421]\tvalidation_0-error:0.093333\tvalidation_1-error:0\n",
      "[422]\tvalidation_0-error:0.093333\tvalidation_1-error:0\n",
      "[423]\tvalidation_0-error:0.093333\tvalidation_1-error:0\n",
      "[424]\tvalidation_0-error:0.093333\tvalidation_1-error:0\n",
      "[425]\tvalidation_0-error:0.093333\tvalidation_1-error:0\n",
      "[426]\tvalidation_0-error:0.093333\tvalidation_1-error:0\n",
      "[427]\tvalidation_0-error:0.093333\tvalidation_1-error:0\n",
      "[428]\tvalidation_0-error:0.093333\tvalidation_1-error:0\n",
      "[429]\tvalidation_0-error:0.093333\tvalidation_1-error:0\n",
      "[430]\tvalidation_0-error:0.093333\tvalidation_1-error:0\n",
      "[431]\tvalidation_0-error:0.093333\tvalidation_1-error:0\n",
      "[432]\tvalidation_0-error:0.093333\tvalidation_1-error:0\n",
      "[433]\tvalidation_0-error:0.093333\tvalidation_1-error:0\n",
      "[434]\tvalidation_0-error:0.093333\tvalidation_1-error:0\n",
      "[435]\tvalidation_0-error:0.093333\tvalidation_1-error:0\n",
      "[436]\tvalidation_0-error:0.093333\tvalidation_1-error:0\n",
      "[437]\tvalidation_0-error:0.093333\tvalidation_1-error:0\n",
      "[438]\tvalidation_0-error:0.093333\tvalidation_1-error:0\n",
      "[439]\tvalidation_0-error:0.093333\tvalidation_1-error:0\n",
      "[440]\tvalidation_0-error:0.093333\tvalidation_1-error:0\n",
      "[441]\tvalidation_0-error:0.093333\tvalidation_1-error:0\n",
      "[442]\tvalidation_0-error:0.093333\tvalidation_1-error:0\n",
      "[443]\tvalidation_0-error:0.093333\tvalidation_1-error:0\n",
      "[444]\tvalidation_0-error:0.093333\tvalidation_1-error:0\n",
      "[445]\tvalidation_0-error:0.093333\tvalidation_1-error:0\n",
      "[446]\tvalidation_0-error:0.093333\tvalidation_1-error:0\n",
      "[447]\tvalidation_0-error:0.093333\tvalidation_1-error:0\n",
      "[448]\tvalidation_0-error:0.093333\tvalidation_1-error:0\n",
      "[449]\tvalidation_0-error:0.093333\tvalidation_1-error:0\n",
      "[450]\tvalidation_0-error:0.093333\tvalidation_1-error:0\n",
      "[451]\tvalidation_0-error:0.093333\tvalidation_1-error:0\n",
      "[452]\tvalidation_0-error:0.093333\tvalidation_1-error:0\n",
      "[453]\tvalidation_0-error:0.093333\tvalidation_1-error:0\n",
      "[454]\tvalidation_0-error:0.093333\tvalidation_1-error:0\n",
      "[455]\tvalidation_0-error:0.093333\tvalidation_1-error:0\n",
      "[456]\tvalidation_0-error:0.093333\tvalidation_1-error:0\n",
      "[457]\tvalidation_0-error:0.093333\tvalidation_1-error:0\n",
      "[458]\tvalidation_0-error:0.093333\tvalidation_1-error:0\n",
      "[459]\tvalidation_0-error:0.093333\tvalidation_1-error:0\n",
      "[460]\tvalidation_0-error:0.093333\tvalidation_1-error:0\n",
      "[461]\tvalidation_0-error:0.093333\tvalidation_1-error:0\n",
      "[462]\tvalidation_0-error:0.093333\tvalidation_1-error:0\n",
      "[463]\tvalidation_0-error:0.093333\tvalidation_1-error:0\n",
      "[464]\tvalidation_0-error:0.093333\tvalidation_1-error:0\n",
      "[465]\tvalidation_0-error:0.093333\tvalidation_1-error:0\n",
      "[466]\tvalidation_0-error:0.093333\tvalidation_1-error:0\n",
      "[467]\tvalidation_0-error:0.093333\tvalidation_1-error:0\n",
      "[468]\tvalidation_0-error:0.093333\tvalidation_1-error:0\n",
      "[469]\tvalidation_0-error:0.093333\tvalidation_1-error:0\n",
      "[470]\tvalidation_0-error:0.093333\tvalidation_1-error:0\n",
      "[471]\tvalidation_0-error:0.093333\tvalidation_1-error:0\n",
      "[472]\tvalidation_0-error:0.093333\tvalidation_1-error:0\n",
      "[473]\tvalidation_0-error:0.093333\tvalidation_1-error:0\n",
      "[474]\tvalidation_0-error:0.093333\tvalidation_1-error:0\n",
      "[475]\tvalidation_0-error:0.093333\tvalidation_1-error:0\n",
      "[476]\tvalidation_0-error:0.093333\tvalidation_1-error:0\n",
      "[477]\tvalidation_0-error:0.093333\tvalidation_1-error:0\n",
      "[478]\tvalidation_0-error:0.093333\tvalidation_1-error:0\n",
      "[479]\tvalidation_0-error:0.093333\tvalidation_1-error:0\n",
      "[480]\tvalidation_0-error:0.093333\tvalidation_1-error:0\n",
      "[481]\tvalidation_0-error:0.093333\tvalidation_1-error:0\n",
      "[482]\tvalidation_0-error:0.093333\tvalidation_1-error:0\n",
      "[483]\tvalidation_0-error:0.093333\tvalidation_1-error:0\n",
      "[484]\tvalidation_0-error:0.093333\tvalidation_1-error:0\n",
      "[485]\tvalidation_0-error:0.093333\tvalidation_1-error:0\n",
      "[486]\tvalidation_0-error:0.093333\tvalidation_1-error:0\n",
      "[487]\tvalidation_0-error:0.093333\tvalidation_1-error:0\n",
      "[488]\tvalidation_0-error:0.093333\tvalidation_1-error:0\n",
      "[489]\tvalidation_0-error:0.093333\tvalidation_1-error:0\n",
      "[490]\tvalidation_0-error:0.093333\tvalidation_1-error:0\n",
      "[491]\tvalidation_0-error:0.093333\tvalidation_1-error:0\n",
      "[492]\tvalidation_0-error:0.093333\tvalidation_1-error:0\n",
      "[493]\tvalidation_0-error:0.093333\tvalidation_1-error:0\n",
      "[494]\tvalidation_0-error:0.093333\tvalidation_1-error:0\n",
      "[495]\tvalidation_0-error:0.093333\tvalidation_1-error:0\n",
      "[496]\tvalidation_0-error:0.093333\tvalidation_1-error:0\n",
      "[497]\tvalidation_0-error:0.093333\tvalidation_1-error:0\n",
      "[498]\tvalidation_0-error:0.093333\tvalidation_1-error:0\n",
      "[499]\tvalidation_0-error:0.093333\tvalidation_1-error:0\n"
     ]
    }
   ],
   "source": [
    "X_train_train, X_valid, y_train_train, y_valid = train_test_split(X_train, y_train, test_size=0.1, random_state=static_random_state)\n",
    "xgb_tune = xgb.XGBClassifier(n_estimators=500, random_state=static_random_state)\n",
    "xgb_tune_model = xgb_tune.fit(X_train_train, y_train_train, eval_set=[(X_valid, y_valid), (X_train_train, y_train_train)], verbose=True)"
   ]
  },
  {
   "cell_type": "markdown",
   "metadata": {
    "colab_type": "text",
    "id": "7lEZnAxleEBX"
   },
   "source": [
    "It can be seen the validaiton error doesn't really go down as the training error vanishes. That implies overfitting of the model. Thus, the parameters are tunned by evaluating the validation score to avoid overfitting.  "
   ]
  },
  {
   "cell_type": "code",
   "execution_count": 0,
   "metadata": {
    "colab": {},
    "colab_type": "code",
    "id": "1u5a7dxCx6xz"
   },
   "outputs": [],
   "source": [
    "def validation_eval(model, parameter_name, scaling): \n",
    "    param_range = param_xgboost[parameter_name]\n",
    "\n",
    "    train_scores, test_scores = validation_curve(\n",
    "        model, X_train_train, y_train_train, param_name=parameter_name, param_range=param_range,\n",
    "        cv=5, scoring=\"accuracy\", n_jobs=1)\n",
    "    \n",
    "    train_scores_mean = np.mean(train_scores, axis=1)\n",
    "    test_scores_mean = np.mean(test_scores, axis=1)\n",
    "\n",
    "    plt.title(\"Validation Curve with given model\")\n",
    "    plt.xlabel(r\"{}\".format(parameter_name))\n",
    "    plt.ylabel(\"Score\")\n",
    "    plt.ylim(0.0, 1.1)\n",
    "    lw = 2\n",
    "    if scaling == 'log': \n",
    "\n",
    "        plt.semilogx(param_range, train_scores_mean, label=\"Training score\",\n",
    "                    color=\"darkorange\", lw=lw)\n",
    "\n",
    "        plt.semilogx(param_range, test_scores_mean, label=\"Cross-validation score\",\n",
    "                    color=\"navy\", lw=lw)\n",
    "    elif scaling == 'linear':\n",
    "        plt.plot(param_range, train_scores_mean, label=\"Training score\",\n",
    "                    color=\"darkorange\", lw=lw)\n",
    "\n",
    "        plt.plot(param_range, test_scores_mean, label=\"Cross-validation score\",\n",
    "                    color=\"navy\", lw=lw)\n",
    "\n",
    "    plt.legend(loc=\"best\")\n",
    "    plt.show()\n",
    "    return (train_scores_mean, test_scores_mean)\n"
   ]
  },
  {
   "cell_type": "code",
   "execution_count": 0,
   "metadata": {
    "colab": {},
    "colab_type": "code",
    "id": "gu2o9qG0pjlg"
   },
   "outputs": [],
   "source": [
    "param_xgboost= {\n",
    "    'learning_rate': np.logspace(np.log(0.01), np.log(1), 500),\n",
    "    'max_depth': list(range(5, 16)),\n",
    "    'n_estimators': list(range(5, 36)),\n",
    "    'num_leaves': list(range(5,  51)),\n",
    "    'booster': ['gbtree', 'dart', 'gblinear'],\n",
    "    'colsample_bytree': np.linspace(0.6, 1.0, 100),\n",
    "    'reg_lambda': np.linspace(0.0, 2),\n",
    "    'reg_alpha': np.linspace(0.0, 2),\n",
    "    'random_state': static_random_state,\n",
    "    \"objective\": \"binary:logistic\"\n",
    "}"
   ]
  },
  {
   "cell_type": "code",
   "execution_count": 0,
   "metadata": {
    "colab": {
     "base_uri": "https://localhost:8080/",
     "height": 1000
    },
    "colab_type": "code",
    "id": "aOmvZ-IWfPaR",
    "outputId": "a0802ba3-6a88-4ce0-ade6-0bc7575f72ce"
   },
   "outputs": [
    {
     "data": {
      "image/png": "[encoded data removed]",
      "text/plain": [
       "<Figure size 432x288 with 1 Axes>"
      ]
     },
     "metadata": {
      "tags": []
     },
     "output_type": "display_data"
    },
    {
     "data": {
      "text/plain": [
       "(array([0.9193873 , 0.9193873 , 0.9193873 , 0.9193873 , 0.9193873 ,\n",
       "        0.91901624, 0.91901624, 0.91901624, 0.91901624, 0.91901624,\n",
       "        0.91901624, 0.91901624, 0.91901624, 0.91901624, 0.91901624,\n",
       "        0.91901624, 0.91901624, 0.91901624, 0.91901624, 0.91901624,\n",
       "        0.91901624, 0.91901624, 0.91901624, 0.91901624, 0.91901624,\n",
       "        0.91901624, 0.91901624, 0.91901624, 0.91901624, 0.91901624,\n",
       "        0.91901624, 0.91901624, 0.91901624, 0.91901624, 0.91901624,\n",
       "        0.91901624, 0.91901624, 0.91901624, 0.91901624, 0.91901624,\n",
       "        0.91901624, 0.91901624, 0.91901624, 0.91901624, 0.91901624,\n",
       "        0.91901624, 0.91901624, 0.91901624, 0.91901624, 0.91901624,\n",
       "        0.91901624, 0.91901624, 0.91901624, 0.91901624, 0.91901624,\n",
       "        0.91901624, 0.91901624, 0.91901624, 0.91901624, 0.91901624,\n",
       "        0.91901624, 0.91901624, 0.91901624, 0.91901624, 0.91901624,\n",
       "        0.91901624, 0.91901624, 0.91901624, 0.91901624, 0.91901624,\n",
       "        0.91901624, 0.91901624, 0.91901624, 0.91901624, 0.91901624,\n",
       "        0.91901624, 0.91901624, 0.91901624, 0.91901624, 0.91901624,\n",
       "        0.91901624, 0.91827412, 0.91827412, 0.91827412, 0.91827412,\n",
       "        0.91827412, 0.91827412, 0.91827412, 0.91827412, 0.91827412,\n",
       "        0.91790307, 0.91790307, 0.91790307, 0.91790307, 0.91827412,\n",
       "        0.91790307, 0.91827412, 0.91827412, 0.91827412, 0.91827412,\n",
       "        0.91827412, 0.91790307, 0.91790307, 0.91790307, 0.91790307,\n",
       "        0.91790307, 0.91790307, 0.91790307, 0.91790307, 0.91790307,\n",
       "        0.91864518, 0.91864518, 0.91864518, 0.91864518, 0.91864518,\n",
       "        0.91864518, 0.91827412, 0.91827412, 0.91827412, 0.91827412,\n",
       "        0.91827412, 0.91827412, 0.91827412, 0.91827412, 0.91827412,\n",
       "        0.91827412, 0.91827412, 0.91827412, 0.91827412, 0.91864518,\n",
       "        0.91864518, 0.91864518, 0.91864518, 0.91864518, 0.91864518,\n",
       "        0.91789892, 0.91789892, 0.91789892, 0.91789892, 0.91789892,\n",
       "        0.91789892, 0.91789892, 0.91752786, 0.91752786, 0.91789961,\n",
       "        0.91752786, 0.91752786, 0.91715612, 0.91715612, 0.91715612,\n",
       "        0.91715612, 0.91715612, 0.91789823, 0.91789823, 0.91752648,\n",
       "        0.91715474, 0.91715474, 0.91715474, 0.91715474, 0.91752579,\n",
       "        0.91901002, 0.91901002, 0.91901002, 0.91901002, 0.91901002,\n",
       "        0.91901002, 0.91938108, 0.91938108, 0.9204984 , 0.9204984 ,\n",
       "        0.9204984 , 0.9204984 , 0.9204984 , 0.9204984 , 0.92012734,\n",
       "        0.9204984 , 0.9204984 , 0.9204984 , 0.9204984 , 0.9204984 ,\n",
       "        0.9204984 , 0.92086946, 0.9204984 , 0.92086946, 0.92086946,\n",
       "        0.92012734, 0.92049909, 0.92198332, 0.92198332, 0.92198332,\n",
       "        0.92198332, 0.92198332, 0.92198332, 0.92198332, 0.92198332,\n",
       "        0.92198332, 0.92198332, 0.92198332, 0.92198332, 0.92198332,\n",
       "        0.92235438, 0.92198332, 0.92235438, 0.92235438, 0.92235438,\n",
       "        0.92235438, 0.92272544, 0.92235369, 0.92235369, 0.92235369,\n",
       "        0.92384137, 0.92384137, 0.92384137, 0.92384137, 0.92384137,\n",
       "        0.92384137, 0.92384137, 0.92421243, 0.92384137, 0.92421243,\n",
       "        0.92346893, 0.92346893, 0.92346893, 0.92384068, 0.92458417,\n",
       "        0.92495523, 0.92458417, 0.92421312, 0.92421312, 0.92458486,\n",
       "        0.92458486, 0.92458486, 0.92458486, 0.92458486, 0.92458486,\n",
       "        0.92495592, 0.92532836, 0.92532836, 0.92532836, 0.92532836,\n",
       "        0.92569942, 0.92569942, 0.92644153, 0.92644153, 0.92644153,\n",
       "        0.92681259, 0.92792991, 0.92792991, 0.92792991, 0.92830166,\n",
       "        0.92904377, 0.93053215, 0.93201776, 0.93201776, 0.93387788,\n",
       "        0.93499382, 0.93685118, 0.93759329, 0.93759329, 0.93870853,\n",
       "        0.93982378, 0.94093695, 0.94205289, 0.94390955, 0.94465167,\n",
       "        0.94539585, 0.94539585, 0.94613866, 0.94688146, 0.94873813,\n",
       "        0.94873813, 0.95022236, 0.95059342, 0.95170728, 0.95170797,\n",
       "        0.95356464, 0.95579306, 0.95653517, 0.95727729, 0.95764903,\n",
       "        0.95802009, 0.95839253, 0.95987952, 0.96136514, 0.96248038,\n",
       "        0.96322319, 0.96359493, 0.96545229, 0.96693859, 0.96768071,\n",
       "        0.96990981, 0.97102505, 0.97213754, 0.97362384, 0.97362453,\n",
       "        0.97659437, 0.97882279, 0.97956421, 0.98179401, 0.98179401,\n",
       "        0.9843928 , 0.98625085, 0.98699503, 0.98885378, 0.99219674,\n",
       "        0.99145463, 0.99256849, 0.99331061, 0.99442516, 0.99516797,\n",
       "        0.99516797, 0.99665565, 0.99665565, 0.99739845, 0.99739845,\n",
       "        0.99814126, 0.9985137 , 0.9985137 , 0.9985137 , 0.99888476,\n",
       "        0.9992572 , 0.9992572 , 0.9992572 , 0.99962894, 0.9992572 ,\n",
       "        0.99962894, 1.        , 0.99962894, 1.        , 1.        ,\n",
       "        1.        , 1.        , 1.        , 1.        , 1.        ,\n",
       "        1.        , 1.        , 1.        , 1.        , 1.        ,\n",
       "        1.        , 1.        , 1.        , 1.        , 1.        ,\n",
       "        1.        , 1.        , 1.        , 1.        , 1.        ,\n",
       "        1.        , 1.        , 1.        , 1.        , 1.        ,\n",
       "        1.        , 1.        , 1.        , 1.        , 1.        ,\n",
       "        1.        , 1.        , 1.        , 1.        , 1.        ,\n",
       "        1.        , 1.        , 1.        , 1.        , 1.        ,\n",
       "        1.        , 1.        , 1.        , 1.        , 1.        ,\n",
       "        1.        , 1.        , 1.        , 1.        , 1.        ,\n",
       "        1.        , 1.        , 1.        , 1.        , 1.        ,\n",
       "        1.        , 1.        , 1.        , 1.        , 1.        ,\n",
       "        1.        , 1.        , 1.        , 1.        , 1.        ,\n",
       "        1.        , 1.        , 1.        , 1.        , 1.        ,\n",
       "        1.        , 1.        , 1.        , 1.        , 1.        ,\n",
       "        1.        , 1.        , 1.        , 1.        , 1.        ,\n",
       "        1.        , 1.        , 1.        , 1.        , 1.        ,\n",
       "        1.        , 1.        , 1.        , 1.        , 1.        ,\n",
       "        1.        , 1.        , 1.        , 1.        , 1.        ,\n",
       "        1.        , 1.        , 1.        , 1.        , 1.        ,\n",
       "        1.        , 1.        , 1.        , 1.        , 1.        ,\n",
       "        1.        , 1.        , 1.        , 1.        , 1.        ,\n",
       "        1.        , 1.        , 1.        , 1.        , 1.        ,\n",
       "        1.        , 1.        , 1.        , 1.        , 1.        ,\n",
       "        1.        , 1.        , 1.        , 1.        , 1.        ,\n",
       "        1.        , 1.        , 1.        , 1.        , 1.        ,\n",
       "        1.        , 1.        , 1.        , 1.        , 1.        ,\n",
       "        1.        , 1.        , 1.        , 1.        , 1.        ,\n",
       "        1.        , 1.        , 1.        , 1.        , 1.        ,\n",
       "        1.        , 1.        , 1.        , 1.        , 1.        ,\n",
       "        1.        , 1.        , 1.        , 1.        , 1.        ,\n",
       "        1.        , 1.        , 1.        , 1.        , 1.        ,\n",
       "        1.        , 1.        , 1.        , 1.        , 1.        ,\n",
       "        1.        , 1.        , 1.        , 1.        , 1.        ]),\n",
       " array([0.89002471, 0.89002471, 0.89002471, 0.89002471, 0.89002471,\n",
       "        0.89002471, 0.89002471, 0.89002471, 0.89002471, 0.89002471,\n",
       "        0.89002471, 0.89002471, 0.89002471, 0.89002471, 0.89002471,\n",
       "        0.89002471, 0.89002471, 0.89002471, 0.89002471, 0.89002471,\n",
       "        0.89002471, 0.89002471, 0.89002471, 0.89002471, 0.89002471,\n",
       "        0.89002471, 0.89002471, 0.89002471, 0.89002471, 0.89002471,\n",
       "        0.89002471, 0.89002471, 0.89002471, 0.89002471, 0.89002471,\n",
       "        0.89002471, 0.89002471, 0.89002471, 0.89002471, 0.89002471,\n",
       "        0.89002471, 0.89002471, 0.89002471, 0.89002471, 0.89002471,\n",
       "        0.89002471, 0.89002471, 0.89002471, 0.89002471, 0.89002471,\n",
       "        0.89002471, 0.89002471, 0.89002471, 0.89002471, 0.89002471,\n",
       "        0.89002471, 0.89002471, 0.89002471, 0.89002471, 0.89002471,\n",
       "        0.89002471, 0.89002471, 0.89002471, 0.89002471, 0.89002471,\n",
       "        0.89002471, 0.89002471, 0.89002471, 0.89002471, 0.89002471,\n",
       "        0.89002471, 0.89002471, 0.89002471, 0.89002471, 0.89002471,\n",
       "        0.89002471, 0.89002471, 0.89002471, 0.89002471, 0.89002471,\n",
       "        0.89002471, 0.89151725, 0.89151725, 0.89151725, 0.89151725,\n",
       "        0.89151725, 0.89151725, 0.89151725, 0.89151725, 0.89151725,\n",
       "        0.89151725, 0.89151725, 0.89151725, 0.89151725, 0.89151725,\n",
       "        0.89151725, 0.89151725, 0.89151725, 0.89151725, 0.89151725,\n",
       "        0.89151725, 0.89002471, 0.89002471, 0.89002471, 0.89002471,\n",
       "        0.89002471, 0.89002471, 0.89002471, 0.89002471, 0.89002471,\n",
       "        0.89002471, 0.89002471, 0.89002471, 0.89002471, 0.89002471,\n",
       "        0.89002471, 0.89002471, 0.89002471, 0.89002471, 0.89002471,\n",
       "        0.89002471, 0.89002471, 0.89002471, 0.89002471, 0.89002471,\n",
       "        0.89002471, 0.89002471, 0.89002471, 0.89002471, 0.89002471,\n",
       "        0.89002471, 0.89002471, 0.89002471, 0.89002471, 0.89002471,\n",
       "        0.89004666, 0.89004666, 0.89004666, 0.89004666, 0.89004666,\n",
       "        0.89004666, 0.89004666, 0.89004666, 0.89004666, 0.89004666,\n",
       "        0.89004666, 0.8915392 , 0.88857624, 0.88857624, 0.88857624,\n",
       "        0.88857624, 0.88857624, 0.8870837 , 0.8870837 , 0.8870837 ,\n",
       "        0.8870837 , 0.8870837 , 0.8870837 , 0.8870837 , 0.8870837 ,\n",
       "        0.8870837 , 0.8870837 , 0.8870837 , 0.8870837 , 0.8870837 ,\n",
       "        0.8870837 , 0.88857624, 0.88857624, 0.89004682, 0.89450249,\n",
       "        0.89450249, 0.89450249, 0.89450249, 0.89450249, 0.89450249,\n",
       "        0.89450249, 0.89450249, 0.89450249, 0.89450249, 0.8930319 ,\n",
       "        0.8930319 , 0.8930319 , 0.8930319 , 0.8930319 , 0.8930319 ,\n",
       "        0.89452444, 0.89452444, 0.89452444, 0.89452444, 0.89452444,\n",
       "        0.89452444, 0.89452444, 0.89452444, 0.89452444, 0.89452444,\n",
       "        0.89452444, 0.89452444, 0.89452444, 0.89452444, 0.89452444,\n",
       "        0.89452444, 0.89452444, 0.89452444, 0.89452444, 0.89452444,\n",
       "        0.89452444, 0.89452444, 0.89452444, 0.89452444, 0.89452444,\n",
       "        0.89601697, 0.89601697, 0.89601697, 0.89601697, 0.89601697,\n",
       "        0.89749846, 0.89749846, 0.89749846, 0.89749846, 0.89899099,\n",
       "        0.89899099, 0.89899099, 0.89899099, 0.89899099, 0.89899099,\n",
       "        0.89899099, 0.90048353, 0.90048353, 0.90048353, 0.90048353,\n",
       "        0.90196501, 0.90196501, 0.90196501, 0.90196501, 0.90196501,\n",
       "        0.90196501, 0.90196501, 0.90196501, 0.90196501, 0.90196501,\n",
       "        0.90345755, 0.90345755, 0.90345755, 0.90345755, 0.90345755,\n",
       "        0.90345755, 0.90345755, 0.90345755, 0.90345755, 0.90345755,\n",
       "        0.90196501, 0.90196501, 0.90196501, 0.90196501, 0.90344649,\n",
       "        0.90344649, 0.90493903, 0.90493903, 0.90493903, 0.90493903,\n",
       "        0.90493903, 0.90493903, 0.90642051, 0.90642051, 0.90642051,\n",
       "        0.90642051, 0.90494992, 0.90643141, 0.90494992, 0.90642051,\n",
       "        0.90642051, 0.90642051, 0.90642051, 0.90791305, 0.90791305,\n",
       "        0.91089812, 0.91089812, 0.91237961, 0.91237961, 0.91089812,\n",
       "        0.91237961, 0.91089812, 0.91236871, 0.91385019, 0.91385019,\n",
       "        0.91385019, 0.91236871, 0.90939469, 0.91087617, 0.91235766,\n",
       "        0.91087617, 0.90938364, 0.90938364, 0.9078911 , 0.90938364,\n",
       "        0.90639856, 0.90639856, 0.9078911 , 0.90493903, 0.9078911 ,\n",
       "        0.90791305, 0.90494992, 0.90791305, 0.90346844, 0.90345739,\n",
       "        0.90494992, 0.90347934, 0.90494992, 0.90644246, 0.90643141,\n",
       "        0.90496098, 0.90050532, 0.90497204, 0.90496098, 0.90052727,\n",
       "        0.90646441, 0.90200891, 0.90199785, 0.90498293, 0.90647547,\n",
       "        0.907935  , 0.90200891, 0.90349039, 0.90498293, 0.90798995,\n",
       "        0.90349039, 0.907968  , 0.90349039, 0.90498293, 0.90498293,\n",
       "        0.90498293, 0.90350145, 0.90498293, 0.90797906, 0.90646457,\n",
       "        0.90349039, 0.90497204, 0.90795695, 0.90350145, 0.907968  ,\n",
       "        0.90647547, 0.90501593, 0.90647547, 0.90500488, 0.90499398,\n",
       "        0.907968  , 0.907968  , 0.90646457, 0.90944965, 0.90498293,\n",
       "        0.90350145, 0.90943859, 0.91092007, 0.90796817, 0.90795695,\n",
       "        0.90646457, 0.90795711, 0.90498293, 0.907935  , 0.90797906,\n",
       "        0.91092007, 0.90350145, 0.90647547, 0.90498293, 0.90647547,\n",
       "        0.90794605, 0.90645352, 0.90645352, 0.90943859, 0.90942754,\n",
       "        0.90944948, 0.91092007, 0.90943859, 0.90647547, 0.90794605,\n",
       "        0.90349039, 0.90350145, 0.9079241 , 0.90795711, 0.90498293,\n",
       "        0.90498293, 0.9034795 , 0.90500488, 0.90494992, 0.9079241 ,\n",
       "        0.90646441, 0.90647547, 0.90791321, 0.90645352, 0.90645352,\n",
       "        0.90942754, 0.90794605, 0.91092007, 0.90646441, 0.90347934,\n",
       "        0.90648636, 0.90351234, 0.9034795 , 0.90347934, 0.90050532,\n",
       "        0.90346828, 0.91088707, 0.90050532, 0.90648636, 0.90497187,\n",
       "        0.90494992, 0.90199785, 0.90941648, 0.9064753 , 0.90941648,\n",
       "        0.90644246, 0.90350128, 0.90646441, 0.90643157, 0.90199769,\n",
       "        0.90792394, 0.90349023, 0.90199785, 0.90645335, 0.89899083,\n",
       "        0.90790199, 0.90199785, 0.907935  , 0.907935  , 0.90347934,\n",
       "        0.90944948, 0.90645335, 0.89753114, 0.91240155, 0.90493887,\n",
       "        0.90498293, 0.90347934, 0.90051621, 0.90643141, 0.90049426,\n",
       "        0.90795695, 0.90790199, 0.90794589, 0.90347934, 0.90200875,\n",
       "        0.90646441, 0.90496082, 0.8975752 , 0.90195379, 0.90644246,\n",
       "        0.90494992, 0.90346828, 0.90941648, 0.90497187, 0.90347934,\n",
       "        0.89902367, 0.90347934, 0.90644246, 0.90646441, 0.90343544,\n",
       "        0.90498277, 0.90794589, 0.90493903, 0.90499382, 0.90944948,\n",
       "        0.91090902, 0.90500471, 0.89902367, 0.90494992, 0.90344649,\n",
       "        0.91086512, 0.90646457, 0.89752024, 0.90051637, 0.90349039,\n",
       "        0.90497187, 0.90497187, 0.90496082, 0.91088723, 0.90648636,\n",
       "        0.90054938, 0.90349039, 0.9020637 , 0.90790199, 0.90493887,\n",
       "        0.90793516, 0.91237977, 0.90205281, 0.90497187, 0.90499398,\n",
       "        0.90050532, 0.90943859, 0.89600592, 0.88861997, 0.89309775,\n",
       "        0.89604965, 0.89010178, 0.89895783, 0.90049442, 0.89305369,\n",
       "        0.90195396, 0.89606087, 0.90342471, 0.90199769, 0.88714987]))"
      ]
     },
     "execution_count": 60,
     "metadata": {
      "tags": []
     },
     "output_type": "execute_result"
    }
   ],
   "source": [
    "validation_eval(xgb_tune, 'learning_rate', 'log')"
   ]
  },
  {
   "cell_type": "code",
   "execution_count": 0,
   "metadata": {
    "colab": {
     "base_uri": "https://localhost:8080/",
     "height": 363
    },
    "colab_type": "code",
    "id": "AAIpmqCOxMmf",
    "outputId": "5624b55c-da33-460e-8518-3c9a48d8af01"
   },
   "outputs": [
    {
     "data": {
      "image/png": "[encoded data removed]",
      "text/plain": [
       "<Figure size 432x288 with 1 Axes>"
      ]
     },
     "metadata": {
      "tags": []
     },
     "output_type": "display_data"
    },
    {
     "data": {
      "text/plain": [
       "(array([1., 1., 1., 1., 1., 1., 1., 1., 1., 1., 1.]),\n",
       " array([0.90943843, 0.91538663, 0.91240155, 0.91389409, 0.91389409,\n",
       "        0.90643141, 0.90941648, 0.90941648, 0.90941648, 0.90941648,\n",
       "        0.90941648]))"
      ]
     },
     "execution_count": 61,
     "metadata": {
      "tags": []
     },
     "output_type": "execute_result"
    }
   ],
   "source": [
    "validation_eval(xgb_tune, 'max_depth', 'linear')"
   ]
  },
  {
   "cell_type": "code",
   "execution_count": 0,
   "metadata": {
    "colab": {
     "base_uri": "https://localhost:8080/",
     "height": 514
    },
    "colab_type": "code",
    "id": "CxuuEj3Zz-g7",
    "outputId": "3f5101fb-c5d5-41cf-83a5-22333180be95"
   },
   "outputs": [
    {
     "data": {
      "image/png": "[encoded data removed]",
      "text/plain": [
       "<Figure size 432x288 with 1 Axes>"
      ]
     },
     "metadata": {
      "tags": []
     },
     "output_type": "display_data"
    },
    {
     "data": {
      "text/plain": [
       "(array([1., 1., 1., 1., 1., 1., 1., 1., 1., 1., 1., 1., 1., 1., 1., 1., 1.,\n",
       "        1., 1., 1., 1., 1., 1., 1., 1., 1., 1., 1., 1., 1., 1., 1., 1., 1.,\n",
       "        1., 1., 1., 1., 1., 1., 1., 1., 1., 1., 1., 1.]),\n",
       " array([0.90497187, 0.90497187, 0.90497187, 0.90497187, 0.90497187,\n",
       "        0.90497187, 0.90497187, 0.90497187, 0.90497187, 0.90497187,\n",
       "        0.90497187, 0.90497187, 0.90497187, 0.90497187, 0.90497187,\n",
       "        0.90497187, 0.90497187, 0.90497187, 0.90497187, 0.90497187,\n",
       "        0.90497187, 0.90497187, 0.90497187, 0.90497187, 0.90497187,\n",
       "        0.90497187, 0.90497187, 0.90497187, 0.90497187, 0.90497187,\n",
       "        0.90497187, 0.90497187, 0.90497187, 0.90497187, 0.90497187,\n",
       "        0.90497187, 0.90497187, 0.90497187, 0.90497187, 0.90497187,\n",
       "        0.90497187, 0.90497187, 0.90497187, 0.90497187, 0.90497187,\n",
       "        0.90497187]))"
      ]
     },
     "execution_count": 62,
     "metadata": {
      "tags": []
     },
     "output_type": "execute_result"
    }
   ],
   "source": [
    "validation_eval(xgb_tune, 'num_leaves', 'linear')"
   ]
  },
  {
   "cell_type": "code",
   "execution_count": 0,
   "metadata": {
    "colab": {
     "base_uri": "https://localhost:8080/",
     "height": 531
    },
    "colab_type": "code",
    "id": "2VPUtj93DsVl",
    "outputId": "ccd8aa19-973c-4ee2-c9df-46e4054d52aa"
   },
   "outputs": [
    {
     "data": {
      "image/png": "[encoded data removed]",
      "text/plain": [
       "<Figure size 432x288 with 1 Axes>"
      ]
     },
     "metadata": {
      "tags": []
     },
     "output_type": "display_data"
    },
    {
     "data": {
      "text/plain": [
       "(array([0.91678437, 0.91975698, 0.91975698, 0.92272544, 0.92347031,\n",
       "        0.92458625, 0.92161296, 0.92235714, 0.92309925, 0.9242145 ,\n",
       "        0.92384413, 0.92458555, 0.92347307, 0.9242145 , 0.92570356,\n",
       "        0.92458556, 0.92495799, 0.92681605, 0.92830097, 0.92978658,\n",
       "        0.93164739, 0.93164739, 0.93350821, 0.93462276, 0.93610699,\n",
       "        0.93945065, 0.93982516, 0.94168045, 0.94316537, 0.94502273,\n",
       "        0.94539516]),\n",
       " array([0.88857624, 0.89151741, 0.89450249, 0.89300995, 0.89748756,\n",
       "        0.89601697, 0.89750951, 0.89601697, 0.89601697, 0.89750951,\n",
       "        0.89899099, 0.89749846, 0.89749846, 0.89897994, 0.90047247,\n",
       "        0.90196501, 0.90047247, 0.90196501, 0.90047247, 0.90493903,\n",
       "        0.90345755, 0.90196501, 0.90047247, 0.90195396, 0.90344649,\n",
       "        0.90642051, 0.9019759 , 0.90343544, 0.90196485, 0.90345739,\n",
       "        0.90345739]))"
      ]
     },
     "execution_count": 63,
     "metadata": {
      "tags": []
     },
     "output_type": "execute_result"
    }
   ],
   "source": [
    "validation_eval(xgb_tune, 'n_estimators', 'linear')"
   ]
  },
  {
   "cell_type": "code",
   "execution_count": 0,
   "metadata": {
    "colab": {
     "base_uri": "https://localhost:8080/",
     "height": 733
    },
    "colab_type": "code",
    "id": "ea6JvoWZ0C-l",
    "outputId": "0f1efb56-8ce1-4425-d37f-023ef0b5df68"
   },
   "outputs": [
    {
     "data": {
      "image/png": "[encoded data removed]",
      "text/plain": [
       "<Figure size 432x288 with 1 Axes>"
      ]
     },
     "metadata": {
      "tags": []
     },
     "output_type": "display_data"
    },
    {
     "data": {
      "text/plain": [
       "(array([1., 1., 1., 1., 1., 1., 1., 1., 1., 1., 1., 1., 1., 1., 1., 1., 1.,\n",
       "        1., 1., 1., 1., 1., 1., 1., 1., 1., 1., 1., 1., 1., 1., 1., 1., 1.,\n",
       "        1., 1., 1., 1., 1., 1., 1., 1., 1., 1., 1., 1., 1., 1., 1., 1., 1.,\n",
       "        1., 1., 1., 1., 1., 1., 1., 1., 1., 1., 1., 1., 1., 1., 1., 1., 1.,\n",
       "        1., 1., 1., 1., 1., 1., 1., 1., 1., 1., 1., 1., 1., 1., 1., 1., 1.,\n",
       "        1., 1., 1., 1., 1., 1., 1., 1., 1., 1., 1., 1., 1., 1., 1.]),\n",
       " array([0.90943859, 0.90943859, 0.90943859, 0.90943859, 0.90498293,\n",
       "        0.90498293, 0.90498293, 0.90498293, 0.907968  , 0.907968  ,\n",
       "        0.907968  , 0.90795695, 0.90795695, 0.90795695, 0.90795695,\n",
       "        0.90943859, 0.90943859, 0.90943859, 0.90349039, 0.90349039,\n",
       "        0.90349039, 0.90349039, 0.90498293, 0.90498293, 0.90498293,\n",
       "        0.90497204, 0.90497204, 0.90497204, 0.90497204, 0.90498277,\n",
       "        0.90498277, 0.90498277, 0.90346844, 0.90346844, 0.90346844,\n",
       "        0.90346844, 0.90498293, 0.90498293, 0.90498293, 0.90052727,\n",
       "        0.90052727, 0.90052727, 0.90052727, 0.90648636, 0.90648636,\n",
       "        0.90648636, 0.90795695, 0.90795695, 0.90795695, 0.90795695,\n",
       "        0.90647547, 0.90647547, 0.90647547, 0.90647547, 0.90498293,\n",
       "        0.90498293, 0.90498293, 0.90494992, 0.90494992, 0.90494992,\n",
       "        0.90494992, 0.907968  , 0.907968  , 0.907968  , 0.90199769,\n",
       "        0.90199769, 0.90199769, 0.90199769, 0.90499398, 0.90499398,\n",
       "        0.90499398, 0.90351234, 0.90351234, 0.90351234, 0.90351234,\n",
       "        0.90346844, 0.90346844, 0.90346844, 0.9019759 , 0.9019759 ,\n",
       "        0.9019759 , 0.9019759 , 0.90349039, 0.90349039, 0.90349039,\n",
       "        0.90494992, 0.90494992, 0.90494992, 0.90494992, 0.90500488,\n",
       "        0.90500488, 0.90500488, 0.90053832, 0.90053832, 0.90053832,\n",
       "        0.90053832, 0.90942754, 0.90942754, 0.90942754, 0.90497187]))"
      ]
     },
     "execution_count": 64,
     "metadata": {
      "tags": []
     },
     "output_type": "execute_result"
    }
   ],
   "source": [
    "validation_eval(xgb_tune, 'colsample_bytree', 'linear')"
   ]
  },
  {
   "cell_type": "code",
   "execution_count": 0,
   "metadata": {
    "colab": {
     "base_uri": "https://localhost:8080/",
     "height": 329
    },
    "colab_type": "code",
    "id": "RSRjVey9pPxb",
    "outputId": "1ae30ef9-5e80-4c44-b7e1-d49a71b0bb58"
   },
   "outputs": [
    {
     "data": {
      "image/png": "[encoded data removed]",
      "text/plain": [
       "<Figure size 432x288 with 1 Axes>"
      ]
     },
     "metadata": {
      "tags": []
     },
     "output_type": "display_data"
    },
    {
     "data": {
      "text/plain": [
       "(array([1.        , 1.        , 0.91233376]),\n",
       " array([0.90497187, 0.90497187, 0.8930758 ]))"
      ]
     },
     "execution_count": 65,
     "metadata": {
      "tags": []
     },
     "output_type": "execute_result"
    }
   ],
   "source": [
    "validation_eval(xgb_tune, \"booster\", \"linear\")"
   ]
  },
  {
   "cell_type": "code",
   "execution_count": 0,
   "metadata": {
    "colab": {
     "base_uri": "https://localhost:8080/",
     "height": 514
    },
    "colab_type": "code",
    "id": "tKd9-0w50n5m",
    "outputId": "205573b1-8291-41df-d68d-b7ef278bd32c"
   },
   "outputs": [
    {
     "data": {
      "image/png": "[encoded data removed]",
      "text/plain": [
       "<Figure size 432x288 with 1 Axes>"
      ]
     },
     "metadata": {
      "tags": []
     },
     "output_type": "display_data"
    },
    {
     "data": {
      "text/plain": [
       "(array([1., 1., 1., 1., 1., 1., 1., 1., 1., 1., 1., 1., 1., 1., 1., 1., 1.,\n",
       "        1., 1., 1., 1., 1., 1., 1., 1., 1., 1., 1., 1., 1., 1., 1., 1., 1.,\n",
       "        1., 1., 1., 1., 1., 1., 1., 1., 1., 1., 1., 1., 1., 1., 1., 1.]),\n",
       " array([0.90643157, 0.90347934, 0.90497187, 0.90346844, 0.90792394,\n",
       "        0.90199785, 0.90350128, 0.90051637, 0.90049426, 0.90494992,\n",
       "        0.90941648, 0.90790199, 0.90350128, 0.90199785, 0.90199785,\n",
       "        0.90053832, 0.90199785, 0.90199785, 0.9019759 , 0.90498293,\n",
       "        0.90942754, 0.90943859, 0.90645352, 0.89904578, 0.90349039,\n",
       "        0.90498293, 0.90497204, 0.90498293, 0.90199785, 0.90646441,\n",
       "        0.90500488, 0.90350128, 0.90646441, 0.90644246, 0.90944948,\n",
       "        0.90642051, 0.90794605, 0.90794605, 0.90346844, 0.90644246,\n",
       "        0.9079241 , 0.90347934, 0.90645352, 0.90644246, 0.90645352,\n",
       "        0.90497204, 0.90791305, 0.907935  , 0.91089812, 0.907935  ]))"
      ]
     },
     "execution_count": 66,
     "metadata": {
      "tags": []
     },
     "output_type": "execute_result"
    }
   ],
   "source": [
    "validation_eval(xgb_tune, 'reg_lambda', 'linear')"
   ]
  },
  {
   "cell_type": "code",
   "execution_count": 0,
   "metadata": {
    "colab": {
     "base_uri": "https://localhost:8080/",
     "height": 632
    },
    "colab_type": "code",
    "id": "kSesbLLj0uDt",
    "outputId": "10eeee7a-f227-446c-eabc-f202e963ed84"
   },
   "outputs": [
    {
     "data": {
      "image/png": "[encoded data removed]",
      "text/plain": [
       "<Figure size 432x288 with 1 Axes>"
      ]
     },
     "metadata": {
      "tags": []
     },
     "output_type": "display_data"
    },
    {
     "data": {
      "text/plain": [
       "(array([1.        , 1.        , 1.        , 1.        , 1.        ,\n",
       "        1.        , 1.        , 1.        , 1.        , 1.        ,\n",
       "        1.        , 1.        , 1.        , 1.        , 1.        ,\n",
       "        1.        , 1.        , 1.        , 1.        , 1.        ,\n",
       "        1.        , 1.        , 1.        , 1.        , 1.        ,\n",
       "        1.        , 1.        , 1.        , 1.        , 1.        ,\n",
       "        1.        , 1.        , 0.99962825, 0.99962825, 0.9992572 ,\n",
       "        0.99851232, 0.99814057, 0.99814126, 0.99739845, 0.9970274 ,\n",
       "        0.99628252, 0.99554178, 0.99516866, 0.99405617, 0.99442654,\n",
       "        0.99256987, 0.99145394, 0.99182776, 0.99108564, 0.98997247]),\n",
       " array([0.90497187, 0.90498293, 0.90350128, 0.90647547, 0.90642051,\n",
       "        0.90649741, 0.90944948, 0.90944948, 0.90943843, 0.90498293,\n",
       "        0.90349039, 0.91240172, 0.90644246, 0.90499382, 0.90496098,\n",
       "        0.90941648, 0.90946038, 0.91092007, 0.90794589, 0.90944948,\n",
       "        0.90648636, 0.90794589, 0.90941648, 0.90941648, 0.91092007,\n",
       "        0.90943843, 0.90943843, 0.90942754, 0.90645335, 0.90493887,\n",
       "        0.90792394, 0.90644246, 0.90494992, 0.90941648, 0.90941648,\n",
       "        0.90941648, 0.91090902, 0.90941648, 0.91090902, 0.90792394,\n",
       "        0.90792394, 0.90792394, 0.91090902, 0.91237961, 0.90941648,\n",
       "        0.90791305, 0.91237961, 0.90941648, 0.91088707, 0.90941648]))"
      ]
     },
     "execution_count": 67,
     "metadata": {
      "tags": []
     },
     "output_type": "execute_result"
    }
   ],
   "source": [
    "validation_eval(xgb_tune, 'reg_alpha', 'linear')"
   ]
  },
  {
   "cell_type": "markdown",
   "metadata": {
    "colab_type": "text",
    "id": "vxcgm39XP_Qp"
   },
   "source": [
    "The above graphs show that the learning rate with a value larger than 0.02 will be beneficial to the training accuracy, while its influence on the validation set is not obvious. Larger value of n_estimators will increase both the training and validation accuracy. For the booster type, a 'gbtree' or 'dart' booster will achieve better training accuracy than 'gblinear' booster. The rest parameters seem not to have a big impact on the accuracy. "
   ]
  },
  {
   "cell_type": "markdown",
   "metadata": {
    "colab_type": "text",
    "id": "IW-edSrTRwb0"
   },
   "source": [
    "Back to the bayesian optimsation of xgboost, the parameters for the best perfroming model is {'booster': 'gbtree', 'colsample_by_tree': 0.6042324387254887, 'learning_rate': 0.0582031999929346, 'max_depth': 12, 'n_estimators': 27, 'num_leaves': 41, 'reg_alpha': 1.5160936318447282, 'reg_lambda': 0.3169320418451438}. The parameters fall into the range we have discovered to be beneficial to the accuracy. Thus, we use it as the best parameter for XGBoost model."
   ]
  },
  {
   "cell_type": "code",
   "execution_count": 0,
   "metadata": {
    "colab": {
     "base_uri": "https://localhost:8080/",
     "height": 354
    },
    "colab_type": "code",
    "id": "9JRE7MrWSUnq",
    "outputId": "022a325c-e9f1-44ea-84bc-1ac127e0620c"
   },
   "outputs": [
    {
     "name": "stdout",
     "output_type": "stream",
     "text": [
      "\r",
      "  0%|          | 0/100 [00:00<?, ?it/s, best loss: ?]\n"
     ]
    },
    {
     "ename": "ValueError",
     "evalue": "ignored",
     "output_type": "error",
     "traceback": [
      "\u001b[0;31m---------------------------------------------------------------------------\u001b[0m",
      "\u001b[0;31mValueError\u001b[0m                                Traceback (most recent call last)",
      "\u001b[0;32m<ipython-input-68-7fe2f87875db>\u001b[0m in \u001b[0;36m<module>\u001b[0;34m()\u001b[0m\n\u001b[1;32m      1\u001b[0m best_xgboost_param = bayesian_optimisation(xgb.XGBClassifier, param_xgboost,\n\u001b[1;32m      2\u001b[0m                                      \u001b[0mX_train\u001b[0m\u001b[0;34m,\u001b[0m \u001b[0my_train\u001b[0m\u001b[0;34m,\u001b[0m \u001b[0mX_test\u001b[0m\u001b[0;34m,\u001b[0m \u001b[0my_test\u001b[0m\u001b[0;34m,\u001b[0m\u001b[0;34m\u001b[0m\u001b[0;34m\u001b[0m\u001b[0m\n\u001b[0;32m----> 3\u001b[0;31m                                      100, xgboost_map, xgboost_integer_columns)\n\u001b[0m",
      "\u001b[0;32m<ipython-input-16-48bdd4e0f67b>\u001b[0m in \u001b[0;36mbayesian_optimisation\u001b[0;34m(input_model, param_space, X_train, y_train, X_test, y_test, num_eval, mapping, integer_column)\u001b[0m\n\u001b[1;32m     29\u001b[0m                       \u001b[0mmax_evals\u001b[0m\u001b[0;34m=\u001b[0m\u001b[0mnum_eval\u001b[0m\u001b[0;34m,\u001b[0m\u001b[0;34m\u001b[0m\u001b[0;34m\u001b[0m\u001b[0m\n\u001b[1;32m     30\u001b[0m                       \u001b[0mtrials\u001b[0m\u001b[0;34m=\u001b[0m\u001b[0mtrials\u001b[0m\u001b[0;34m,\u001b[0m\u001b[0;34m\u001b[0m\u001b[0;34m\u001b[0m\u001b[0m\n\u001b[0;32m---> 31\u001b[0;31m                       rstate= np.random.RandomState(1234))\n\u001b[0m\u001b[1;32m     32\u001b[0m \u001b[0;34m\u001b[0m\u001b[0m\n\u001b[1;32m     33\u001b[0m     \u001b[0mloss\u001b[0m \u001b[0;34m=\u001b[0m \u001b[0;34m[\u001b[0m\u001b[0mx\u001b[0m\u001b[0;34m[\u001b[0m\u001b[0;34m'result'\u001b[0m\u001b[0;34m]\u001b[0m\u001b[0;34m[\u001b[0m\u001b[0;34m'loss'\u001b[0m\u001b[0;34m]\u001b[0m \u001b[0;32mfor\u001b[0m \u001b[0mx\u001b[0m \u001b[0;32min\u001b[0m \u001b[0mtrials\u001b[0m\u001b[0;34m.\u001b[0m\u001b[0mtrials\u001b[0m\u001b[0;34m]\u001b[0m\u001b[0;34m\u001b[0m\u001b[0;34m\u001b[0m\u001b[0m\n",
      "\u001b[0;32m/usr/local/lib/python3.6/dist-packages/hyperopt/fmin.py\u001b[0m in \u001b[0;36mfmin\u001b[0;34m(fn, space, algo, max_evals, trials, rstate, allow_trials_fmin, pass_expr_memo_ctrl, catch_eval_exceptions, verbose, return_argmin, points_to_evaluate, max_queue_len, show_progressbar)\u001b[0m\n\u001b[1;32m    386\u001b[0m             \u001b[0mcatch_eval_exceptions\u001b[0m\u001b[0;34m=\u001b[0m\u001b[0mcatch_eval_exceptions\u001b[0m\u001b[0;34m,\u001b[0m\u001b[0;34m\u001b[0m\u001b[0;34m\u001b[0m\u001b[0m\n\u001b[1;32m    387\u001b[0m             \u001b[0mreturn_argmin\u001b[0m\u001b[0;34m=\u001b[0m\u001b[0mreturn_argmin\u001b[0m\u001b[0;34m,\u001b[0m\u001b[0;34m\u001b[0m\u001b[0;34m\u001b[0m\u001b[0m\n\u001b[0;32m--> 388\u001b[0;31m             \u001b[0mshow_progressbar\u001b[0m\u001b[0;34m=\u001b[0m\u001b[0mshow_progressbar\u001b[0m\u001b[0;34m,\u001b[0m\u001b[0;34m\u001b[0m\u001b[0;34m\u001b[0m\u001b[0m\n\u001b[0m\u001b[1;32m    389\u001b[0m         )\n\u001b[1;32m    390\u001b[0m \u001b[0;34m\u001b[0m\u001b[0m\n",
      "\u001b[0;32m/usr/local/lib/python3.6/dist-packages/hyperopt/base.py\u001b[0m in \u001b[0;36mfmin\u001b[0;34m(self, fn, space, algo, max_evals, rstate, verbose, pass_expr_memo_ctrl, catch_eval_exceptions, return_argmin, show_progressbar)\u001b[0m\n\u001b[1;32m    637\u001b[0m             \u001b[0mcatch_eval_exceptions\u001b[0m\u001b[0;34m=\u001b[0m\u001b[0mcatch_eval_exceptions\u001b[0m\u001b[0;34m,\u001b[0m\u001b[0;34m\u001b[0m\u001b[0;34m\u001b[0m\u001b[0m\n\u001b[1;32m    638\u001b[0m             \u001b[0mreturn_argmin\u001b[0m\u001b[0;34m=\u001b[0m\u001b[0mreturn_argmin\u001b[0m\u001b[0;34m,\u001b[0m\u001b[0;34m\u001b[0m\u001b[0;34m\u001b[0m\u001b[0m\n\u001b[0;32m--> 639\u001b[0;31m             show_progressbar=show_progressbar)\n\u001b[0m\u001b[1;32m    640\u001b[0m \u001b[0;34m\u001b[0m\u001b[0m\n\u001b[1;32m    641\u001b[0m \u001b[0;34m\u001b[0m\u001b[0m\n",
      "\u001b[0;32m/usr/local/lib/python3.6/dist-packages/hyperopt/fmin.py\u001b[0m in \u001b[0;36mfmin\u001b[0;34m(fn, space, algo, max_evals, trials, rstate, allow_trials_fmin, pass_expr_memo_ctrl, catch_eval_exceptions, verbose, return_argmin, points_to_evaluate, max_queue_len, show_progressbar)\u001b[0m\n\u001b[1;32m    405\u001b[0m                     show_progressbar=show_progressbar)\n\u001b[1;32m    406\u001b[0m     \u001b[0mrval\u001b[0m\u001b[0;34m.\u001b[0m\u001b[0mcatch_eval_exceptions\u001b[0m \u001b[0;34m=\u001b[0m \u001b[0mcatch_eval_exceptions\u001b[0m\u001b[0;34m\u001b[0m\u001b[0;34m\u001b[0m\u001b[0m\n\u001b[0;32m--> 407\u001b[0;31m     \u001b[0mrval\u001b[0m\u001b[0;34m.\u001b[0m\u001b[0mexhaust\u001b[0m\u001b[0;34m(\u001b[0m\u001b[0;34m)\u001b[0m\u001b[0;34m\u001b[0m\u001b[0;34m\u001b[0m\u001b[0m\n\u001b[0m\u001b[1;32m    408\u001b[0m     \u001b[0;32mif\u001b[0m \u001b[0mreturn_argmin\u001b[0m\u001b[0;34m:\u001b[0m\u001b[0;34m\u001b[0m\u001b[0;34m\u001b[0m\u001b[0m\n\u001b[1;32m    409\u001b[0m         \u001b[0;32mreturn\u001b[0m \u001b[0mtrials\u001b[0m\u001b[0;34m.\u001b[0m\u001b[0margmin\u001b[0m\u001b[0;34m\u001b[0m\u001b[0;34m\u001b[0m\u001b[0m\n",
      "\u001b[0;32m/usr/local/lib/python3.6/dist-packages/hyperopt/fmin.py\u001b[0m in \u001b[0;36mexhaust\u001b[0;34m(self)\u001b[0m\n\u001b[1;32m    260\u001b[0m     \u001b[0;32mdef\u001b[0m \u001b[0mexhaust\u001b[0m\u001b[0;34m(\u001b[0m\u001b[0mself\u001b[0m\u001b[0;34m)\u001b[0m\u001b[0;34m:\u001b[0m\u001b[0;34m\u001b[0m\u001b[0;34m\u001b[0m\u001b[0m\n\u001b[1;32m    261\u001b[0m         \u001b[0mn_done\u001b[0m \u001b[0;34m=\u001b[0m \u001b[0mlen\u001b[0m\u001b[0;34m(\u001b[0m\u001b[0mself\u001b[0m\u001b[0;34m.\u001b[0m\u001b[0mtrials\u001b[0m\u001b[0;34m)\u001b[0m\u001b[0;34m\u001b[0m\u001b[0;34m\u001b[0m\u001b[0m\n\u001b[0;32m--> 262\u001b[0;31m         \u001b[0mself\u001b[0m\u001b[0;34m.\u001b[0m\u001b[0mrun\u001b[0m\u001b[0;34m(\u001b[0m\u001b[0mself\u001b[0m\u001b[0;34m.\u001b[0m\u001b[0mmax_evals\u001b[0m \u001b[0;34m-\u001b[0m \u001b[0mn_done\u001b[0m\u001b[0;34m,\u001b[0m \u001b[0mblock_until_done\u001b[0m\u001b[0;34m=\u001b[0m\u001b[0mself\u001b[0m\u001b[0;34m.\u001b[0m\u001b[0masynchronous\u001b[0m\u001b[0;34m)\u001b[0m\u001b[0;34m\u001b[0m\u001b[0;34m\u001b[0m\u001b[0m\n\u001b[0m\u001b[1;32m    263\u001b[0m         \u001b[0mself\u001b[0m\u001b[0;34m.\u001b[0m\u001b[0mtrials\u001b[0m\u001b[0;34m.\u001b[0m\u001b[0mrefresh\u001b[0m\u001b[0;34m(\u001b[0m\u001b[0;34m)\u001b[0m\u001b[0;34m\u001b[0m\u001b[0;34m\u001b[0m\u001b[0m\n\u001b[1;32m    264\u001b[0m         \u001b[0;32mreturn\u001b[0m \u001b[0mself\u001b[0m\u001b[0;34m\u001b[0m\u001b[0;34m\u001b[0m\u001b[0m\n",
      "\u001b[0;32m/usr/local/lib/python3.6/dist-packages/hyperopt/fmin.py\u001b[0m in \u001b[0;36mrun\u001b[0;34m(self, N, block_until_done)\u001b[0m\n\u001b[1;32m    225\u001b[0m                     \u001b[0;32melse\u001b[0m\u001b[0;34m:\u001b[0m\u001b[0;34m\u001b[0m\u001b[0;34m\u001b[0m\u001b[0m\n\u001b[1;32m    226\u001b[0m                         \u001b[0;31m# -- loop over trials and do the jobs directly\u001b[0m\u001b[0;34m\u001b[0m\u001b[0;34m\u001b[0m\u001b[0;34m\u001b[0m\u001b[0m\n\u001b[0;32m--> 227\u001b[0;31m                         \u001b[0mself\u001b[0m\u001b[0;34m.\u001b[0m\u001b[0mserial_evaluate\u001b[0m\u001b[0;34m(\u001b[0m\u001b[0;34m)\u001b[0m\u001b[0;34m\u001b[0m\u001b[0;34m\u001b[0m\u001b[0m\n\u001b[0m\u001b[1;32m    228\u001b[0m \u001b[0;34m\u001b[0m\u001b[0m\n\u001b[1;32m    229\u001b[0m                     \u001b[0;32mtry\u001b[0m\u001b[0;34m:\u001b[0m\u001b[0;34m\u001b[0m\u001b[0;34m\u001b[0m\u001b[0m\n",
      "\u001b[0;32m/usr/local/lib/python3.6/dist-packages/hyperopt/fmin.py\u001b[0m in \u001b[0;36mserial_evaluate\u001b[0;34m(self, N)\u001b[0m\n\u001b[1;32m    139\u001b[0m                 \u001b[0mctrl\u001b[0m \u001b[0;34m=\u001b[0m \u001b[0mbase\u001b[0m\u001b[0;34m.\u001b[0m\u001b[0mCtrl\u001b[0m\u001b[0;34m(\u001b[0m\u001b[0mself\u001b[0m\u001b[0;34m.\u001b[0m\u001b[0mtrials\u001b[0m\u001b[0;34m,\u001b[0m \u001b[0mcurrent_trial\u001b[0m\u001b[0;34m=\u001b[0m\u001b[0mtrial\u001b[0m\u001b[0;34m)\u001b[0m\u001b[0;34m\u001b[0m\u001b[0;34m\u001b[0m\u001b[0m\n\u001b[1;32m    140\u001b[0m                 \u001b[0;32mtry\u001b[0m\u001b[0;34m:\u001b[0m\u001b[0;34m\u001b[0m\u001b[0;34m\u001b[0m\u001b[0m\n\u001b[0;32m--> 141\u001b[0;31m                     \u001b[0mresult\u001b[0m \u001b[0;34m=\u001b[0m \u001b[0mself\u001b[0m\u001b[0;34m.\u001b[0m\u001b[0mdomain\u001b[0m\u001b[0;34m.\u001b[0m\u001b[0mevaluate\u001b[0m\u001b[0;34m(\u001b[0m\u001b[0mspec\u001b[0m\u001b[0;34m,\u001b[0m \u001b[0mctrl\u001b[0m\u001b[0;34m)\u001b[0m\u001b[0;34m\u001b[0m\u001b[0;34m\u001b[0m\u001b[0m\n\u001b[0m\u001b[1;32m    142\u001b[0m                 \u001b[0;32mexcept\u001b[0m \u001b[0mException\u001b[0m \u001b[0;32mas\u001b[0m \u001b[0me\u001b[0m\u001b[0;34m:\u001b[0m\u001b[0;34m\u001b[0m\u001b[0;34m\u001b[0m\u001b[0m\n\u001b[1;32m    143\u001b[0m                     \u001b[0mlogger\u001b[0m\u001b[0;34m.\u001b[0m\u001b[0minfo\u001b[0m\u001b[0;34m(\u001b[0m\u001b[0;34m'job exception: %s'\u001b[0m \u001b[0;34m%\u001b[0m \u001b[0mstr\u001b[0m\u001b[0;34m(\u001b[0m\u001b[0me\u001b[0m\u001b[0;34m)\u001b[0m\u001b[0;34m)\u001b[0m\u001b[0;34m\u001b[0m\u001b[0;34m\u001b[0m\u001b[0m\n",
      "\u001b[0;32m/usr/local/lib/python3.6/dist-packages/hyperopt/base.py\u001b[0m in \u001b[0;36mevaluate\u001b[0;34m(self, config, ctrl, attach_attachments)\u001b[0m\n\u001b[1;32m    831\u001b[0m     \u001b[0;32mdef\u001b[0m \u001b[0mevaluate\u001b[0m\u001b[0;34m(\u001b[0m\u001b[0mself\u001b[0m\u001b[0;34m,\u001b[0m \u001b[0mconfig\u001b[0m\u001b[0;34m,\u001b[0m \u001b[0mctrl\u001b[0m\u001b[0;34m,\u001b[0m \u001b[0mattach_attachments\u001b[0m\u001b[0;34m=\u001b[0m\u001b[0;32mTrue\u001b[0m\u001b[0;34m)\u001b[0m\u001b[0;34m:\u001b[0m\u001b[0;34m\u001b[0m\u001b[0;34m\u001b[0m\u001b[0m\n\u001b[1;32m    832\u001b[0m         \u001b[0mmemo\u001b[0m \u001b[0;34m=\u001b[0m \u001b[0mself\u001b[0m\u001b[0;34m.\u001b[0m\u001b[0mmemo_from_config\u001b[0m\u001b[0;34m(\u001b[0m\u001b[0mconfig\u001b[0m\u001b[0;34m)\u001b[0m\u001b[0;34m\u001b[0m\u001b[0;34m\u001b[0m\u001b[0m\n\u001b[0;32m--> 833\u001b[0;31m         \u001b[0muse_obj_for_literal_in_memo\u001b[0m\u001b[0;34m(\u001b[0m\u001b[0mself\u001b[0m\u001b[0;34m.\u001b[0m\u001b[0mexpr\u001b[0m\u001b[0;34m,\u001b[0m \u001b[0mctrl\u001b[0m\u001b[0;34m,\u001b[0m \u001b[0mCtrl\u001b[0m\u001b[0;34m,\u001b[0m \u001b[0mmemo\u001b[0m\u001b[0;34m)\u001b[0m\u001b[0;34m\u001b[0m\u001b[0;34m\u001b[0m\u001b[0m\n\u001b[0m\u001b[1;32m    834\u001b[0m         \u001b[0;32mif\u001b[0m \u001b[0mself\u001b[0m\u001b[0;34m.\u001b[0m\u001b[0mpass_expr_memo_ctrl\u001b[0m\u001b[0;34m:\u001b[0m\u001b[0;34m\u001b[0m\u001b[0;34m\u001b[0m\u001b[0m\n\u001b[1;32m    835\u001b[0m             \u001b[0mrval\u001b[0m \u001b[0;34m=\u001b[0m \u001b[0mself\u001b[0m\u001b[0;34m.\u001b[0m\u001b[0mfn\u001b[0m\u001b[0;34m(\u001b[0m\u001b[0mexpr\u001b[0m\u001b[0;34m=\u001b[0m\u001b[0mself\u001b[0m\u001b[0;34m.\u001b[0m\u001b[0mexpr\u001b[0m\u001b[0;34m,\u001b[0m \u001b[0mmemo\u001b[0m\u001b[0;34m=\u001b[0m\u001b[0mmemo\u001b[0m\u001b[0;34m,\u001b[0m \u001b[0mctrl\u001b[0m\u001b[0;34m=\u001b[0m\u001b[0mctrl\u001b[0m\u001b[0;34m)\u001b[0m\u001b[0;34m\u001b[0m\u001b[0;34m\u001b[0m\u001b[0m\n",
      "\u001b[0;32m/usr/local/lib/python3.6/dist-packages/hyperopt/utils.py\u001b[0m in \u001b[0;36muse_obj_for_literal_in_memo\u001b[0;34m(expr, obj, lit, memo)\u001b[0m\n\u001b[1;32m    167\u001b[0m     \u001b[0;32mfor\u001b[0m \u001b[0mnode\u001b[0m \u001b[0;32min\u001b[0m \u001b[0mpyll\u001b[0m\u001b[0;34m.\u001b[0m\u001b[0mdfs\u001b[0m\u001b[0;34m(\u001b[0m\u001b[0mexpr\u001b[0m\u001b[0;34m)\u001b[0m\u001b[0;34m:\u001b[0m\u001b[0;34m\u001b[0m\u001b[0;34m\u001b[0m\u001b[0m\n\u001b[1;32m    168\u001b[0m         \u001b[0;32mtry\u001b[0m\u001b[0;34m:\u001b[0m\u001b[0;34m\u001b[0m\u001b[0;34m\u001b[0m\u001b[0m\n\u001b[0;32m--> 169\u001b[0;31m             \u001b[0;32mif\u001b[0m \u001b[0mnode\u001b[0m\u001b[0;34m.\u001b[0m\u001b[0mobj\u001b[0m \u001b[0;34m==\u001b[0m \u001b[0mlit\u001b[0m\u001b[0;34m:\u001b[0m\u001b[0;34m\u001b[0m\u001b[0;34m\u001b[0m\u001b[0m\n\u001b[0m\u001b[1;32m    170\u001b[0m                 \u001b[0mmemo\u001b[0m\u001b[0;34m[\u001b[0m\u001b[0mnode\u001b[0m\u001b[0;34m]\u001b[0m \u001b[0;34m=\u001b[0m \u001b[0mobj\u001b[0m\u001b[0;34m\u001b[0m\u001b[0;34m\u001b[0m\u001b[0m\n\u001b[1;32m    171\u001b[0m         \u001b[0;32mexcept\u001b[0m \u001b[0mAttributeError\u001b[0m\u001b[0;34m:\u001b[0m\u001b[0;34m\u001b[0m\u001b[0;34m\u001b[0m\u001b[0m\n",
      "\u001b[0;31mValueError\u001b[0m: The truth value of an array with more than one element is ambiguous. Use a.any() or a.all()"
     ]
    }
   ],
   "source": [
    "best_xgboost_param = bayesian_optimisation(xgb.XGBClassifier, param_xgboost,\n",
    "                                     X_train, y_train, X_test, y_test,\n",
    "                                     100, xgboost_map, xgboost_integer_columns)"
   ]
  },
  {
   "cell_type": "markdown",
   "metadata": {
    "colab_type": "text",
    "id": "rzBI5KJb8Kj1"
   },
   "source": [
    "### 6.2 Feature Engineering"
   ]
  },
  {
   "cell_type": "code",
   "execution_count": 0,
   "metadata": {
    "colab": {},
    "colab_type": "code",
    "id": "RIfYYRb9Zcgl"
   },
   "outputs": [],
   "source": [
    "# Exclude feature engineering booster type as it doesn't support feature_importance_ attributes\n",
    "param_xgboost= {\n",
    "    'learning_rate': hp.loguniform('learning_rate', np.log(0.01), np.log(1)),\n",
    "    'max_depth': scope.int(hp.quniform('max_depth', 5, 15, 1)),\n",
    "    'n_estimators': scope.int(hp.quniform('n_estimators', 5, 35, 1)),\n",
    "    'num_leaves': scope.int(hp.quniform('num_leaves', 5, 50, 1)),\n",
    "    'booster': hp.choice('booster', ['gbtree', 'dart']),\n",
    "    'colsample_bytree': hp.uniform('colsample_by_tree', 0.6, 1.0),\n",
    "    'reg_lambda': hp.uniform('reg_lambda', 0.0, 2.0),\n",
    "    'reg_alpha': hp.uniform('reg_alpha', 0.0, 2.0),\n",
    "    'random_state': static_random_state,\n",
    "    \"objective\": \"binary:logistic\"\n",
    "}\n",
    "\n",
    "best_xgboost_param =  bayesian_optimisation(xgb.XGBClassifier, param_xgboost,\n",
    "                                     X_train, y_train, X_test, y_test,\n",
    "                                     100, xgboost_map, xgboost_integer_columns)"
   ]
  },
  {
   "cell_type": "code",
   "execution_count": 0,
   "metadata": {
    "colab": {},
    "colab_type": "code",
    "id": "smf6RP7I78Ke"
   },
   "outputs": [],
   "source": [
    "best_xgboost = xgb.XGBClassifier(**best_xgboost_param)\n",
    "best_xgboost"
   ]
  },
  {
   "cell_type": "code",
   "execution_count": 0,
   "metadata": {
    "colab": {},
    "colab_type": "code",
    "id": "t8sTCeeF8Ncw"
   },
   "outputs": [],
   "source": [
    "best_xgboost.fit(X_train, y_train)\n",
    "best_xgboost.feature_importances_"
   ]
  },
  {
   "cell_type": "code",
   "execution_count": 0,
   "metadata": {
    "colab": {},
    "colab_type": "code",
    "id": "TUTyqGyphUPo"
   },
   "outputs": [],
   "source": [
    "xgb.plot_importance(best_xgboost, max_num_features= 20, title = 'Feature Importance for top 20 features', \n",
    "                    show_values = False, height=0.2)\n",
    "plt.show()"
   ]
  },
  {
   "cell_type": "code",
   "execution_count": 0,
   "metadata": {
    "colab": {},
    "colab_type": "code",
    "id": "aKWg9ZZz8PgI"
   },
   "outputs": [],
   "source": [
    "sorted_importance = list(best_xgboost.feature_importances_)\n",
    "sorted_importance.sort(reverse = True)\n",
    "threshold = sorted_importance[20]"
   ]
  },
  {
   "cell_type": "code",
   "execution_count": 0,
   "metadata": {
    "colab": {},
    "colab_type": "code",
    "id": "3ckFR6o18PkC"
   },
   "outputs": [],
   "source": [
    "final_features = []\n",
    "for index, value in enumerate(list(best_xgboost.feature_importances_)):\n",
    "  if value > threshold:\n",
    "    final_features.append((feature_list[index],value))\n",
    "\n",
    "final_features.sort(key = lambda x: x[1], reverse = True)\n",
    "print(\"Selected 20 Features:\")\n",
    "final_features\n"
   ]
  },
  {
   "cell_type": "code",
   "execution_count": 0,
   "metadata": {
    "colab": {},
    "colab_type": "code",
    "id": "28Rdf9rr8Pr9"
   },
   "outputs": [],
   "source": [
    "final_features  = [x[0] for x in final_features]\n",
    "xgboost_final_param = bayesian_optimisation(xgb.XGBClassifier, param_xgboost,\n",
    "                      X_train[final_features], y_train, X_test[final_features], y_test,\n",
    "                      100, xgboost_map, xgboost_integer_columns)"
   ]
  },
  {
   "cell_type": "markdown",
   "metadata": {
    "colab_type": "text",
    "id": "B0mT9Uyi8863"
   },
   "source": [
    "### 6.3 Stacking Model"
   ]
  },
  {
   "cell_type": "code",
   "execution_count": 0,
   "metadata": {
    "colab": {},
    "colab_type": "code",
    "id": "Aeitb3Xr8PyK"
   },
   "outputs": [],
   "source": [
    "# ! pip install vecstack\n",
    "from vecstack import stacking"
   ]
  },
  {
   "cell_type": "code",
   "execution_count": 0,
   "metadata": {
    "colab": {},
    "colab_type": "code",
    "id": "crATbv_R8P2g"
   },
   "outputs": [],
   "source": [
    "## First layer of Models\n",
    "first_layer = [\n",
    "    LogisticRegression(**best_lr),\n",
    "    RandomForestClassifier(random_state=0, n_jobs=-1, n_estimators=100, max_depth=4),\n",
    "]\n",
    "\n",
    "S_train, S_test = stacking(\n",
    "    first_layer,                   \n",
    "    X_train, y_train, X_test,   \n",
    "    regression=False, \n",
    "    mode='oof_pred_bag', \n",
    "    needs_proba=False,\n",
    "    save_dir=None, \n",
    "    metric=accuracy_score, \n",
    "    n_folds=5,\n",
    "    stratified=True,\n",
    "    shuffle=True,  \n",
    "    random_state=static_random_state,    \n",
    "    verbose=2\n",
    ")"
   ]
  },
  {
   "cell_type": "code",
   "execution_count": 0,
   "metadata": {
    "colab": {},
    "colab_type": "code",
    "id": "YloLKVin8P1H"
   },
   "outputs": [],
   "source": [
    "second_layer = xgb.XGBClassifier(**best_xgboost_param)\n",
    "    \n",
    "second_layer.fit(S_train, y_train)\n",
    "y_pred = second_layer.predict(S_test)\n",
    "evaluate_model(y_test,y_pred)\n",
    "\n",
    "\n",
    "result_dict = cross_validate(second_layer, X_train, y_train, scoring=scoring, cv=5)\n",
    "print(\"Average accuracy in CV: {}\".format(result_dict['test_acc'].mean()))\n",
    "print(\"Average MCC in CV: {}\".format(result_dict['test_MCC'].mean())) "
   ]
  },
  {
   "cell_type": "markdown",
   "metadata": {
    "colab_type": "text",
    "id": "OXrDAnuv9FnE"
   },
   "source": [
    "### 6.4 Voting Classifier"
   ]
  },
  {
   "cell_type": "code",
   "execution_count": 0,
   "metadata": {
    "colab": {},
    "colab_type": "code",
    "id": "IxBjsWJt8PwD"
   },
   "outputs": [],
   "source": [
    "from sklearn.ensemble import VotingClassifier\n",
    "\n",
    "# First Layer\n",
    "clf1 = RandomForestClassifier(random_state=0, n_jobs=-1, n_estimators=100, max_depth=4)\n",
    "clf2 = xgb.XGBClassifier(**best_xgboost_param)\n",
    "clf3 = LogisticRegression(**best_lr)\n"
   ]
  },
  {
   "cell_type": "code",
   "execution_count": 0,
   "metadata": {
    "colab": {},
    "colab_type": "code",
    "id": "Yy_FMNe08Pud"
   },
   "outputs": [],
   "source": [
    "# Voting Classifier\n",
    "eclf1 = VotingClassifier(estimators=[\n",
    "    ('rf', clf1), ('xgboost', clf2), ('lr', clf3)], voting='soft')\n",
    "eclf1 = eclf1.fit(X_train, y_train)\n",
    "y_pred = eclf1.predict(X_test)\n",
    "evaluate_model(y_test, y_pred)\n",
    "\n",
    "result_dict = cross_validate(eclf1, X_train, y_train, scoring=scoring, cv=5)\n",
    "print(\"Average accuracy in CV: {}\".format(result_dict['test_acc'].mean()))\n",
    "print(\"Average MCC in CV: {}\".format(result_dict['test_MCC'].mean())) "
   ]
  },
  {
   "cell_type": "markdown",
   "metadata": {
    "colab_type": "text",
    "id": "HhqUMU3ePmHf"
   },
   "source": [
    "### 6.5 Tuning xgboost with genetic algorithm"
   ]
  },
  {
   "cell_type": "code",
   "execution_count": 0,
   "metadata": {
    "colab": {},
    "colab_type": "code",
    "id": "pNGLEDV-Pq34"
   },
   "outputs": [],
   "source": [
    "def xgboost_fitness(params):\n",
    "  xgb_model = xgb.XGBClassifier(**params, random_state=static_random_state, objective= \"binary:logistic\")\n",
    "  score = cross_val_score(xgb_model, X_train, y_train, cv=5).mean()\n",
    "  return score\n",
    "\n",
    "ga_param_xgboost= {\n",
    "    'learning_rate': [0.01, 1],\n",
    "    'max_depth': [5, 15],\n",
    "    'n_estimators': [5, 35],\n",
    "    'num_leaves': [5, 50],\n",
    "    'booster': ['gbtree', 'dart', 'gblinear'],\n",
    "    'colsample_bytree': [0.6, 1.0],\n",
    "    'reg_lambda': [0.0, 2.0],\n",
    "    'reg_alpha': [0.0, 2.0]\n",
    "}\n",
    "\n",
    "integer_columns = ['max_depth', 'n_estimators', 'num_leaves']\n",
    "\n",
    "genetic_optimisation(input_model=xgboost_fitness, param_space=ga_param_xgboost, integer_params=integer_columns, \n",
    "                     pop_size=100, num_parents=3, max_num_generations=100, mutation_prob=0.4, stoping_rounds=5)"
   ]
  },
  {
   "cell_type": "code",
   "execution_count": 0,
   "metadata": {
    "colab": {},
    "colab_type": "code",
    "id": "tvRzlbSy3srE"
   },
   "outputs": [],
   "source": [
    "def lr_fitness(params):\n",
    "  lr_model = LogisticRegression(**params, \n",
    "                              fit_intercept=True, \n",
    "                              random_state=static_random_state, \n",
    "                              solver = 'liblinear')\n",
    "  score = cross_val_score(lr_model, X_train, y_train, cv=5).mean()\n",
    "  return score\n",
    "\n",
    "ga_param_lr= {\n",
    "    'penalty': ['l1','l2'],\n",
    "    'C': [0.01, 10],\n",
    "    'max_iter': [100, 200],\n",
    "    'tol': [1e-4, 1e-3]\n",
    "}\n",
    "\n",
    "integer_columns = ['max_iter']\n",
    "\n",
    "genetic_optimisation(input_model=lr_fitness, param_space=ga_param_lr, integer_params=integer_columns, \n",
    "                     pop_size=100, num_parents=10, max_num_generations=100, mutation_prob=0.4, stoping_rounds=5)"
   ]
  },
  {
   "cell_type": "code",
   "execution_count": 0,
   "metadata": {
    "colab": {},
    "colab_type": "code",
    "id": "9tmgqkyCwemB"
   },
   "outputs": [],
   "source": [
    "def lr_fitness(params):\n",
    "  lr_model = LogisticRegression(**params, \n",
    "                              fit_intercept=True, \n",
    "                              random_state=static_random_state, \n",
    "                              solver = 'liblinear')\n",
    "  score = cross_val_score(lr_model, X_train, y_train, cv=5).mean()\n",
    "  return score\n",
    "\n",
    "ga_param_lr= {\n",
    "    'penalty': ['l1','l2'],\n",
    "    'C': [0.01, 10],\n",
    "    'max_iter': [100, 200],\n",
    "    'tol': [1e-4, 1e-3]\n",
    "}\n",
    "\n",
    "integer_columns = ['max_iter']\n",
    "\n",
    "genetic_optimisation(input_model=lr_fitness, param_space=ga_param_lr, integer_params=integer_columns, \n",
    "                     pop_size=100, num_parents=10, max_num_generations=100, mutation_prob=0.4, stoping_rounds=5)"
   ]
  },
  {
   "cell_type": "code",
   "execution_count": 0,
   "metadata": {
    "colab": {},
    "colab_type": "code",
    "id": "40qLzG7a6rku"
   },
   "outputs": [],
   "source": [
    "def dt_fitness(params):\n",
    "    dt_model = DecisionTreeClassifier(\n",
    "            **params,\n",
    "            min_impurity_decrease=0, \n",
    "            random_state=static_random_state\n",
    "    )\n",
    "    score = cross_val_score(dt_model, X_train, y_train, cv=5).mean()\n",
    "    return score\n",
    "\n",
    "ga_param_dt= {\n",
    "    'criterion': ['entropy', 'gini'],\n",
    "    'splitter': ['best', 'random'],\n",
    "    'max_depth': [3, 10],\n",
    "    'min_samples_split': [10, 60],\n",
    "    'min_samples_leaf': [5, 30],\n",
    "    'max_leaf_nodes': [5, 30]\n",
    "}\n",
    "\n",
    "integer_columns = ['max_depth','min_samples_split','max_leaf_nodes','min_samples_leaf']\n",
    "\n",
    "genetic_optimisation(input_model=dt_fitness, param_space=ga_param_dt, integer_params=integer_columns, \n",
    "                     pop_size=100, num_parents=10, max_num_generations=100, mutation_prob=0.3, stoping_rounds=5)"
   ]
  }
 ],
 "metadata": {
  "accelerator": "GPU",
  "colab": {
   "collapsed_sections": [],
   "name": "Assignment2.ipynb",
   "provenance": []
  },
  "kernelspec": {
   "display_name": "Python 3",
   "language": "python",
   "name": "python3"
  },
  "language_info": {
   "codemirror_mode": {
    "name": "ipython",
    "version": 3
   },
   "file_extension": ".py",
   "mimetype": "text/x-python",
   "name": "python",
   "nbconvert_exporter": "python",
   "pygments_lexer": "ipython3",
   "version": "3.8.3"
  }
 },
 "nbformat": 4,
 "nbformat_minor": 1
}
